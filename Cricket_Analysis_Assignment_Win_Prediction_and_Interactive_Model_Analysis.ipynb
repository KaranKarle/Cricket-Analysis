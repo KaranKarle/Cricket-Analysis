{
 "cells": [
  {
   "cell_type": "markdown",
   "id": "cdf5a622",
   "metadata": {},
   "source": [
    "# Assignment - Build the same interactive ML Model for IPL final 2019 - MI vs CSK"
   ]
  },
  {
   "cell_type": "code",
   "execution_count": 1,
   "id": "344c8b31",
   "metadata": {},
   "outputs": [],
   "source": [
    "import pandas as pd\n",
    "import numpy as np\n",
    "import matplotlib.pyplot as plt\n",
    "\n",
    "import warnings\n",
    "warnings.filterwarnings('ignore')\n",
    "\n",
    "#to display all rows columns \n",
    "pd.set_option('display.max_rows', None)\n",
    "pd.set_option('display.max_columns', None)  \n",
    "pd.set_option('display.expand_frame_repr', False)\n",
    "pd.set_option('max_colwidth', -1)"
   ]
  },
  {
   "cell_type": "code",
   "execution_count": 2,
   "id": "018b2ce7",
   "metadata": {},
   "outputs": [],
   "source": [
    "ipl_df = pd.read_csv('IPL_ball_by_ball_updated.csv')"
   ]
  },
  {
   "cell_type": "code",
   "execution_count": 3,
   "id": "b283577a",
   "metadata": {},
   "outputs": [
    {
     "data": {
      "text/html": [
       "<div>\n",
       "<style scoped>\n",
       "    .dataframe tbody tr th:only-of-type {\n",
       "        vertical-align: middle;\n",
       "    }\n",
       "\n",
       "    .dataframe tbody tr th {\n",
       "        vertical-align: top;\n",
       "    }\n",
       "\n",
       "    .dataframe thead th {\n",
       "        text-align: right;\n",
       "    }\n",
       "</style>\n",
       "<table border=\"1\" class=\"dataframe\">\n",
       "  <thead>\n",
       "    <tr style=\"text-align: right;\">\n",
       "      <th></th>\n",
       "      <th>match_id</th>\n",
       "      <th>season</th>\n",
       "      <th>start_date</th>\n",
       "      <th>venue</th>\n",
       "      <th>innings</th>\n",
       "      <th>ball</th>\n",
       "      <th>batting_team</th>\n",
       "      <th>bowling_team</th>\n",
       "      <th>striker</th>\n",
       "      <th>non_striker</th>\n",
       "      <th>bowler</th>\n",
       "      <th>runs_off_bat</th>\n",
       "      <th>extras</th>\n",
       "      <th>wides</th>\n",
       "      <th>noballs</th>\n",
       "      <th>byes</th>\n",
       "      <th>legbyes</th>\n",
       "      <th>penalty</th>\n",
       "      <th>wicket_type</th>\n",
       "      <th>player_dismissed</th>\n",
       "      <th>other_wicket_type</th>\n",
       "      <th>other_player_dismissed</th>\n",
       "    </tr>\n",
       "  </thead>\n",
       "  <tbody>\n",
       "    <tr>\n",
       "      <th>0</th>\n",
       "      <td>335982</td>\n",
       "      <td>2008</td>\n",
       "      <td>2008-04-18</td>\n",
       "      <td>M Chinnaswamy Stadium</td>\n",
       "      <td>2</td>\n",
       "      <td>6.8</td>\n",
       "      <td>Royal Challengers Bangalore</td>\n",
       "      <td>Kolkata Knight Riders</td>\n",
       "      <td>MV Boucher</td>\n",
       "      <td>CL White</td>\n",
       "      <td>AB Agarkar</td>\n",
       "      <td>4</td>\n",
       "      <td>0</td>\n",
       "      <td>NaN</td>\n",
       "      <td>NaN</td>\n",
       "      <td>NaN</td>\n",
       "      <td>NaN</td>\n",
       "      <td>NaN</td>\n",
       "      <td>NaN</td>\n",
       "      <td>NaN</td>\n",
       "      <td>NaN</td>\n",
       "      <td>NaN</td>\n",
       "    </tr>\n",
       "    <tr>\n",
       "      <th>1</th>\n",
       "      <td>335982</td>\n",
       "      <td>2008</td>\n",
       "      <td>2008-04-18</td>\n",
       "      <td>M Chinnaswamy Stadium</td>\n",
       "      <td>2</td>\n",
       "      <td>2.7</td>\n",
       "      <td>Royal Challengers Bangalore</td>\n",
       "      <td>Kolkata Knight Riders</td>\n",
       "      <td>W Jaffer</td>\n",
       "      <td>JH Kallis</td>\n",
       "      <td>AB Dinda</td>\n",
       "      <td>1</td>\n",
       "      <td>0</td>\n",
       "      <td>NaN</td>\n",
       "      <td>NaN</td>\n",
       "      <td>NaN</td>\n",
       "      <td>NaN</td>\n",
       "      <td>NaN</td>\n",
       "      <td>NaN</td>\n",
       "      <td>NaN</td>\n",
       "      <td>NaN</td>\n",
       "      <td>NaN</td>\n",
       "    </tr>\n",
       "    <tr>\n",
       "      <th>2</th>\n",
       "      <td>335982</td>\n",
       "      <td>2008</td>\n",
       "      <td>2008-04-18</td>\n",
       "      <td>M Chinnaswamy Stadium</td>\n",
       "      <td>2</td>\n",
       "      <td>3.1</td>\n",
       "      <td>Royal Challengers Bangalore</td>\n",
       "      <td>Kolkata Knight Riders</td>\n",
       "      <td>W Jaffer</td>\n",
       "      <td>JH Kallis</td>\n",
       "      <td>I Sharma</td>\n",
       "      <td>2</td>\n",
       "      <td>0</td>\n",
       "      <td>NaN</td>\n",
       "      <td>NaN</td>\n",
       "      <td>NaN</td>\n",
       "      <td>NaN</td>\n",
       "      <td>NaN</td>\n",
       "      <td>NaN</td>\n",
       "      <td>NaN</td>\n",
       "      <td>NaN</td>\n",
       "      <td>NaN</td>\n",
       "    </tr>\n",
       "    <tr>\n",
       "      <th>3</th>\n",
       "      <td>335982</td>\n",
       "      <td>2008</td>\n",
       "      <td>2008-04-18</td>\n",
       "      <td>M Chinnaswamy Stadium</td>\n",
       "      <td>2</td>\n",
       "      <td>3.2</td>\n",
       "      <td>Royal Challengers Bangalore</td>\n",
       "      <td>Kolkata Knight Riders</td>\n",
       "      <td>W Jaffer</td>\n",
       "      <td>JH Kallis</td>\n",
       "      <td>I Sharma</td>\n",
       "      <td>1</td>\n",
       "      <td>0</td>\n",
       "      <td>NaN</td>\n",
       "      <td>NaN</td>\n",
       "      <td>NaN</td>\n",
       "      <td>NaN</td>\n",
       "      <td>NaN</td>\n",
       "      <td>NaN</td>\n",
       "      <td>NaN</td>\n",
       "      <td>NaN</td>\n",
       "      <td>NaN</td>\n",
       "    </tr>\n",
       "    <tr>\n",
       "      <th>4</th>\n",
       "      <td>335982</td>\n",
       "      <td>2008</td>\n",
       "      <td>2008-04-18</td>\n",
       "      <td>M Chinnaswamy Stadium</td>\n",
       "      <td>2</td>\n",
       "      <td>3.3</td>\n",
       "      <td>Royal Challengers Bangalore</td>\n",
       "      <td>Kolkata Knight Riders</td>\n",
       "      <td>JH Kallis</td>\n",
       "      <td>W Jaffer</td>\n",
       "      <td>I Sharma</td>\n",
       "      <td>0</td>\n",
       "      <td>0</td>\n",
       "      <td>NaN</td>\n",
       "      <td>NaN</td>\n",
       "      <td>NaN</td>\n",
       "      <td>NaN</td>\n",
       "      <td>NaN</td>\n",
       "      <td>NaN</td>\n",
       "      <td>NaN</td>\n",
       "      <td>NaN</td>\n",
       "      <td>NaN</td>\n",
       "    </tr>\n",
       "  </tbody>\n",
       "</table>\n",
       "</div>"
      ],
      "text/plain": [
       "   match_id  season  start_date                  venue  innings  ball                 batting_team           bowling_team     striker non_striker      bowler  runs_off_bat  extras  wides  noballs  byes  legbyes  penalty wicket_type player_dismissed  other_wicket_type  other_player_dismissed\n",
       "0  335982    2008    2008-04-18  M Chinnaswamy Stadium  2        6.8   Royal Challengers Bangalore  Kolkata Knight Riders  MV Boucher  CL White    AB Agarkar  4             0      NaN    NaN      NaN   NaN      NaN       NaN         NaN             NaN                NaN                    \n",
       "1  335982    2008    2008-04-18  M Chinnaswamy Stadium  2        2.7   Royal Challengers Bangalore  Kolkata Knight Riders  W Jaffer    JH Kallis   AB Dinda    1             0      NaN    NaN      NaN   NaN      NaN       NaN         NaN             NaN                NaN                    \n",
       "2  335982    2008    2008-04-18  M Chinnaswamy Stadium  2        3.1   Royal Challengers Bangalore  Kolkata Knight Riders  W Jaffer    JH Kallis   I Sharma    2             0      NaN    NaN      NaN   NaN      NaN       NaN         NaN             NaN                NaN                    \n",
       "3  335982    2008    2008-04-18  M Chinnaswamy Stadium  2        3.2   Royal Challengers Bangalore  Kolkata Knight Riders  W Jaffer    JH Kallis   I Sharma    1             0      NaN    NaN      NaN   NaN      NaN       NaN         NaN             NaN                NaN                    \n",
       "4  335982    2008    2008-04-18  M Chinnaswamy Stadium  2        3.3   Royal Challengers Bangalore  Kolkata Knight Riders  JH Kallis   W Jaffer    I Sharma    0             0      NaN    NaN      NaN   NaN      NaN       NaN         NaN             NaN                NaN                    "
      ]
     },
     "execution_count": 3,
     "metadata": {},
     "output_type": "execute_result"
    }
   ],
   "source": [
    "ipl_df.head()"
   ]
  },
  {
   "cell_type": "code",
   "execution_count": 4,
   "id": "a46ec465",
   "metadata": {},
   "outputs": [
    {
     "data": {
      "text/plain": [
       "array([2, 1, 4, 3, 6, 5], dtype=int64)"
      ]
     },
     "execution_count": 4,
     "metadata": {},
     "output_type": "execute_result"
    }
   ],
   "source": [
    "ipl_df.innings.unique()"
   ]
  },
  {
   "cell_type": "code",
   "execution_count": 5,
   "id": "b0c3bae5",
   "metadata": {},
   "outputs": [],
   "source": [
    "ipl_df = ipl_df[(ipl_df.innings == 1) | (ipl_df.innings == 2)]"
   ]
  },
  {
   "cell_type": "code",
   "execution_count": 6,
   "id": "ba4b1180",
   "metadata": {},
   "outputs": [
    {
     "data": {
      "text/plain": [
       "array([2, 1], dtype=int64)"
      ]
     },
     "execution_count": 6,
     "metadata": {},
     "output_type": "execute_result"
    }
   ],
   "source": [
    "ipl_df.innings.unique()"
   ]
  },
  {
   "cell_type": "code",
   "execution_count": 7,
   "id": "72765013",
   "metadata": {},
   "outputs": [
    {
     "data": {
      "text/plain": [
       "Index(['match_id', 'season', 'start_date', 'venue', 'innings', 'ball',\n",
       "       'batting_team', 'bowling_team', 'striker', 'non_striker', 'bowler',\n",
       "       'runs_off_bat', 'extras', 'wides', 'noballs', 'byes', 'legbyes',\n",
       "       'penalty', 'wicket_type', 'player_dismissed', 'other_wicket_type',\n",
       "       'other_player_dismissed'],\n",
       "      dtype='object')"
      ]
     },
     "execution_count": 7,
     "metadata": {},
     "output_type": "execute_result"
    }
   ],
   "source": [
    "ipl_df.columns"
   ]
  },
  {
   "cell_type": "markdown",
   "id": "e2576a23",
   "metadata": {},
   "source": [
    "# Needed Additional Colums:"
   ]
  },
  {
   "cell_type": "code",
   "execution_count": 8,
   "id": "d2d782ba",
   "metadata": {},
   "outputs": [],
   "source": [
    "ipl_df['total_runs'] = ipl_df.apply(lambda x: x['runs_off_bat'] + x['extras'], axis = 1)"
   ]
  },
  {
   "cell_type": "code",
   "execution_count": 9,
   "id": "46313337",
   "metadata": {},
   "outputs": [],
   "source": [
    "ipl_df['isOut'] = ipl_df['player_dismissed'].apply(lambda x: 1 if type(x) == type('str') else 0)"
   ]
  },
  {
   "cell_type": "code",
   "execution_count": 10,
   "id": "8f3f55d6",
   "metadata": {},
   "outputs": [
    {
     "data": {
      "text/plain": [
       "array(['Royal Challengers Bangalore', 'Kolkata Knight Riders',\n",
       "       'Rajasthan Royals', 'Delhi Daredevils', 'Kings XI Punjab',\n",
       "       'Chennai Super Kings', 'Deccan Chargers', 'Mumbai Indians',\n",
       "       'Kochi Tuskers Kerala', 'Pune Warriors', 'Sunrisers Hyderabad',\n",
       "       'Rising Pune Supergiants', 'Gujarat Lions',\n",
       "       'Rising Pune Supergiant', 'Delhi Capitals', 'Punjab Kings',\n",
       "       'Gujarat Titans', 'Lucknow Super Giants'], dtype=object)"
      ]
     },
     "execution_count": 10,
     "metadata": {},
     "output_type": "execute_result"
    }
   ],
   "source": [
    "ipl_df.batting_team.unique()"
   ]
  },
  {
   "cell_type": "code",
   "execution_count": 11,
   "id": "3949a132",
   "metadata": {},
   "outputs": [
    {
     "data": {
      "text/plain": [
       "1    11336\n",
       "0    9974 \n",
       "4    3198 \n",
       "2    1721 \n",
       "6    1403 \n",
       "3    104  \n",
       "5    54   \n",
       "7    7    \n",
       "Name: total_runs, dtype: int64"
      ]
     },
     "execution_count": 11,
     "metadata": {},
     "output_type": "execute_result"
    }
   ],
   "source": [
    "ipl_df[ipl_df.batting_team == 'Mumbai Indians'].total_runs.value_counts()"
   ]
  },
  {
   "cell_type": "code",
   "execution_count": 12,
   "id": "a749524e",
   "metadata": {},
   "outputs": [
    {
     "data": {
      "text/plain": [
       "1    10515\n",
       "0    8661 \n",
       "4    2829 \n",
       "2    1706 \n",
       "6    1259 \n",
       "3    98   \n",
       "5    46   \n",
       "7    9    \n",
       "Name: total_runs, dtype: int64"
      ]
     },
     "execution_count": 12,
     "metadata": {},
     "output_type": "execute_result"
    }
   ],
   "source": [
    "ipl_df[ipl_df.batting_team == 'Chennai Super Kings'].total_runs.value_counts()"
   ]
  },
  {
   "cell_type": "markdown",
   "id": "6573051b",
   "metadata": {},
   "source": [
    "# Choosing Team - Mumbai Indians Vs Chennai Super Kings in IPL 2019 Final"
   ]
  },
  {
   "cell_type": "code",
   "execution_count": 13,
   "id": "a8b73047",
   "metadata": {},
   "outputs": [],
   "source": [
    "ipl_df= ipl_df[ipl_df['season'] == 2019]"
   ]
  },
  {
   "cell_type": "code",
   "execution_count": 14,
   "id": "b8adc429",
   "metadata": {},
   "outputs": [
    {
     "data": {
      "text/plain": [
       "match_id\n",
       "1175356    [2019-03-23]\n",
       "1175357    [2019-03-24]\n",
       "1175358    [2019-03-24]\n",
       "1175359    [2019-03-25]\n",
       "1175360    [2019-03-26]\n",
       "1175361    [2019-03-27]\n",
       "1175362    [2019-03-28]\n",
       "1175363    [2019-03-29]\n",
       "1175364    [2019-03-30]\n",
       "1175365    [2019-03-30]\n",
       "1175366    [2019-03-31]\n",
       "1175367    [2019-03-31]\n",
       "1175368    [2019-04-01]\n",
       "1175369    [2019-04-02]\n",
       "1175370    [2019-04-03]\n",
       "1175371    [2019-04-04]\n",
       "1175372    [2019-04-05]\n",
       "1178393    [2019-04-06]\n",
       "1178394    [2019-04-06]\n",
       "1178395    [2019-04-07]\n",
       "1178396    [2019-04-07]\n",
       "1178397    [2019-04-08]\n",
       "1178398    [2019-04-09]\n",
       "1178399    [2019-04-10]\n",
       "1178400    [2019-04-11]\n",
       "1178401    [2019-04-12]\n",
       "1178402    [2019-04-13]\n",
       "1178403    [2019-04-13]\n",
       "1178404    [2019-04-14]\n",
       "1178405    [2019-04-14]\n",
       "1178406    [2019-04-15]\n",
       "1178407    [2019-04-16]\n",
       "1178408    [2019-04-17]\n",
       "1178409    [2019-04-18]\n",
       "1178410    [2019-04-19]\n",
       "1178411    [2019-04-20]\n",
       "1178412    [2019-04-20]\n",
       "1178413    [2019-04-21]\n",
       "1178414    [2019-04-21]\n",
       "1178415    [2019-04-22]\n",
       "1178416    [2019-04-23]\n",
       "1178417    [2019-04-24]\n",
       "1178418    [2019-04-25]\n",
       "1178419    [2019-04-26]\n",
       "1178420    [2019-04-27]\n",
       "1178421    [2019-04-28]\n",
       "1178422    [2019-04-28]\n",
       "1178423    [2019-04-29]\n",
       "1178424    [2019-04-30]\n",
       "1178425    [2019-05-01]\n",
       "1178426    [2019-05-02]\n",
       "1178427    [2019-05-03]\n",
       "1178428    [2019-05-04]\n",
       "1178429    [2019-05-04]\n",
       "1178430    [2019-05-05]\n",
       "1178431    [2019-05-05]\n",
       "1181764    [2019-05-07]\n",
       "1181766    [2019-05-08]\n",
       "1181767    [2019-05-10]\n",
       "1181768    [2019-05-12]\n",
       "Name: start_date, dtype: object"
      ]
     },
     "execution_count": 14,
     "metadata": {},
     "output_type": "execute_result"
    }
   ],
   "source": [
    "ipl_df.groupby(['match_id'])['start_date'].unique()"
   ]
  },
  {
   "cell_type": "code",
   "execution_count": 15,
   "id": "b6cbfbec",
   "metadata": {},
   "outputs": [],
   "source": [
    "# 'Mumbai Indians' Vs 'Chennai Super Kings\n",
    "# t1 - bat first, t2 - bat second\n",
    "\n",
    "t1 = 'Mumbai Indians'\n",
    "t2 = 'Chennai Super Kings'"
   ]
  },
  {
   "cell_type": "code",
   "execution_count": 16,
   "id": "4d25303c",
   "metadata": {},
   "outputs": [
    {
     "data": {
      "text/plain": [
       "array([1175370, 1178419, 1181768], dtype=int64)"
      ]
     },
     "execution_count": 16,
     "metadata": {},
     "output_type": "execute_result"
    }
   ],
   "source": [
    "ipl_df[(ipl_df.batting_team == t1) & (ipl_df.bowling_team == t2) & (ipl_df.innings == 1)].match_id.unique()"
   ]
  },
  {
   "cell_type": "code",
   "execution_count": 17,
   "id": "e10eb20c",
   "metadata": {},
   "outputs": [],
   "source": [
    "required_match_id = 1181768"
   ]
  },
  {
   "cell_type": "code",
   "execution_count": 18,
   "id": "fd14745e",
   "metadata": {},
   "outputs": [
    {
     "data": {
      "text/html": [
       "<div>\n",
       "<style scoped>\n",
       "    .dataframe tbody tr th:only-of-type {\n",
       "        vertical-align: middle;\n",
       "    }\n",
       "\n",
       "    .dataframe tbody tr th {\n",
       "        vertical-align: top;\n",
       "    }\n",
       "\n",
       "    .dataframe thead th {\n",
       "        text-align: right;\n",
       "    }\n",
       "</style>\n",
       "<table border=\"1\" class=\"dataframe\">\n",
       "  <thead>\n",
       "    <tr style=\"text-align: right;\">\n",
       "      <th></th>\n",
       "      <th>match_id</th>\n",
       "      <th>season</th>\n",
       "      <th>start_date</th>\n",
       "      <th>venue</th>\n",
       "      <th>innings</th>\n",
       "      <th>ball</th>\n",
       "      <th>batting_team</th>\n",
       "      <th>bowling_team</th>\n",
       "      <th>striker</th>\n",
       "      <th>non_striker</th>\n",
       "      <th>bowler</th>\n",
       "      <th>runs_off_bat</th>\n",
       "      <th>extras</th>\n",
       "      <th>wides</th>\n",
       "      <th>noballs</th>\n",
       "      <th>byes</th>\n",
       "      <th>legbyes</th>\n",
       "      <th>penalty</th>\n",
       "      <th>wicket_type</th>\n",
       "      <th>player_dismissed</th>\n",
       "      <th>other_wicket_type</th>\n",
       "      <th>other_player_dismissed</th>\n",
       "      <th>total_runs</th>\n",
       "      <th>isOut</th>\n",
       "    </tr>\n",
       "  </thead>\n",
       "  <tbody>\n",
       "    <tr>\n",
       "      <th>178810</th>\n",
       "      <td>1181768</td>\n",
       "      <td>2019</td>\n",
       "      <td>2019-05-12</td>\n",
       "      <td>Rajiv Gandhi International Stadium</td>\n",
       "      <td>2</td>\n",
       "      <td>6.6</td>\n",
       "      <td>Chennai Super Kings</td>\n",
       "      <td>Mumbai Indians</td>\n",
       "      <td>SR Watson</td>\n",
       "      <td>SK Raina</td>\n",
       "      <td>MJ McClenaghan</td>\n",
       "      <td>0</td>\n",
       "      <td>0</td>\n",
       "      <td>NaN</td>\n",
       "      <td>NaN</td>\n",
       "      <td>NaN</td>\n",
       "      <td>NaN</td>\n",
       "      <td>NaN</td>\n",
       "      <td>NaN</td>\n",
       "      <td>NaN</td>\n",
       "      <td>NaN</td>\n",
       "      <td>NaN</td>\n",
       "      <td>0</td>\n",
       "      <td>0</td>\n",
       "    </tr>\n",
       "  </tbody>\n",
       "</table>\n",
       "</div>"
      ],
      "text/plain": [
       "        match_id  season  start_date                               venue  innings  ball         batting_team    bowling_team    striker non_striker          bowler  runs_off_bat  extras  wides  noballs  byes  legbyes  penalty wicket_type player_dismissed  other_wicket_type  other_player_dismissed  total_runs  isOut\n",
       "178810  1181768   2019    2019-05-12  Rajiv Gandhi International Stadium  2        6.6   Chennai Super Kings  Mumbai Indians  SR Watson  SK Raina    MJ McClenaghan  0             0      NaN    NaN      NaN   NaN      NaN       NaN         NaN             NaN                NaN                      0           0    "
      ]
     },
     "execution_count": 18,
     "metadata": {},
     "output_type": "execute_result"
    }
   ],
   "source": [
    "ipl_df[ipl_df.match_id == required_match_id].head(1)"
   ]
  },
  {
   "cell_type": "code",
   "execution_count": 19,
   "id": "a01f522f",
   "metadata": {},
   "outputs": [],
   "source": [
    "t1_outs = ipl_df[ipl_df.batting_team == t1].isOut.sum()\n",
    "t2_outs = ipl_df[ipl_df.batting_team == t2].isOut.sum()"
   ]
  },
  {
   "cell_type": "code",
   "execution_count": 20,
   "id": "e70c3007",
   "metadata": {},
   "outputs": [],
   "source": [
    "t1_outcomes = ipl_df[ipl_df.batting_team == t1].total_runs.value_counts()\n",
    "t2_outcomes = ipl_df[ipl_df.batting_team == t2].total_runs.value_counts()"
   ]
  },
  {
   "cell_type": "code",
   "execution_count": 21,
   "id": "9a9969aa",
   "metadata": {},
   "outputs": [],
   "source": [
    "outcomes = [0, 1, 2, 3, 4, 6, 'w']"
   ]
  },
  {
   "cell_type": "code",
   "execution_count": 22,
   "id": "154801db",
   "metadata": {},
   "outputs": [],
   "source": [
    "t1_outcomes_count = []\n",
    "for outcome in outcomes:\n",
    "    try:\n",
    "        if outcome != 'w':\n",
    "            t1_outcomes_count.append(t1_outcomes[outcome])\n",
    "        else:\n",
    "            t1_outcomes_count.append(t1_outs)\n",
    "    except:\n",
    "        t1_outcomes_count.append(0)\n",
    "        \n",
    "\n",
    "t2_outcomes_count = []\n",
    "for outcome in outcomes:\n",
    "    try:\n",
    "        if outcome != 'w':\n",
    "            t2_outcomes_count.append(t2_outcomes[outcome])\n",
    "        else:\n",
    "            t2_outcomes_count.append(t2_outs)\n",
    "    except:\n",
    "        t2_outcomes_count.append(0)"
   ]
  },
  {
   "cell_type": "code",
   "execution_count": 23,
   "id": "1ce53857",
   "metadata": {},
   "outputs": [
    {
     "name": "stdout",
     "output_type": "stream",
     "text": [
      "[685, 789, 107, 8, 234, 112, 92]\n",
      "[793, 833, 118, 3, 211, 87, 88]\n"
     ]
    }
   ],
   "source": [
    "print(t1_outcomes_count)\n",
    "print(t2_outcomes_count)"
   ]
  },
  {
   "cell_type": "code",
   "execution_count": 24,
   "id": "4564ff08",
   "metadata": {},
   "outputs": [],
   "source": [
    "t1_pb = [i/sum(t1_outcomes_count) for i in t1_outcomes_count]\n",
    "t2_pb = [i/sum(t2_outcomes_count) for i in t2_outcomes_count]"
   ]
  },
  {
   "cell_type": "code",
   "execution_count": 25,
   "id": "2b52dd14",
   "metadata": {},
   "outputs": [
    {
     "name": "stdout",
     "output_type": "stream",
     "text": [
      "[0.33793783917118897, 0.3892451899358658, 0.05278737049827331, 0.003946719289590528, 0.11544153922052294, 0.05525407005426739, 0.04538727183029107]\n",
      "[0.3717768401312705, 0.39052977027660574, 0.05532114392873887, 0.0014064697609001407, 0.09892170651664323, 0.040787623066104076, 0.04125644631973746]\n"
     ]
    }
   ],
   "source": [
    "print(t1_pb)\n",
    "print(t2_pb)"
   ]
  },
  {
   "cell_type": "code",
   "execution_count": 26,
   "id": "55acf230",
   "metadata": {},
   "outputs": [],
   "source": [
    "t1_cum_pb = list(np.cumsum(t1_pb))\n",
    "t2_cum_pb = list(np.cumsum(t2_pb))"
   ]
  },
  {
   "cell_type": "code",
   "execution_count": 27,
   "id": "4ff8b1f0",
   "metadata": {},
   "outputs": [
    {
     "data": {
      "text/plain": [
       "[0.33793783917118897,\n",
       " 0.7271830291070548,\n",
       " 0.7799703996053281,\n",
       " 0.7839171188949187,\n",
       " 0.8993586581154416,\n",
       " 0.954612728169709,\n",
       " 1.0]"
      ]
     },
     "execution_count": 27,
     "metadata": {},
     "output_type": "execute_result"
    }
   ],
   "source": [
    "t1_cum_pb"
   ]
  },
  {
   "cell_type": "markdown",
   "id": "84de9579",
   "metadata": {},
   "source": [
    "## first innings"
   ]
  },
  {
   "cell_type": "code",
   "execution_count": 28,
   "id": "fe67941a",
   "metadata": {},
   "outputs": [],
   "source": [
    "i1p_0 = t1_cum_pb[0]\n",
    "i1p_1 = t1_cum_pb[1]\n",
    "i1p_2 = t1_cum_pb[2]\n",
    "i1p_3 = t1_cum_pb[3]\n",
    "i1p_4 = t1_cum_pb[4]\n",
    "i1p_6 = t1_cum_pb[5]\n",
    "i1p_w = 1\n",
    "\n",
    "pred_runs = 0\n",
    "pred_wks = 0\n",
    "\n",
    "for i in range(120):\n",
    "    r_value = np.random.random()\n",
    "\n",
    "    if r_value <= i1p_0:\n",
    "        pred_runs += 0\n",
    "    elif r_value <= i1p_1:\n",
    "        pred_runs += 1\n",
    "    elif r_value <= i1p_2:\n",
    "        pred_runs += 2\n",
    "    elif r_value <= i1p_3:\n",
    "        pred_runs += 3\n",
    "    elif r_value <= i1p_4:\n",
    "        pred_runs += 4\n",
    "    elif r_value <= i1p_6:\n",
    "        pred_runs += 6\n",
    "    else:\n",
    "        pred_runs += 0\n",
    "        pred_wks += 1\n",
    "        if pred_wks == 10:\n",
    "            break"
   ]
  },
  {
   "cell_type": "markdown",
   "id": "79791235",
   "metadata": {},
   "source": [
    "## Function: 1st Innings runs prediction"
   ]
  },
  {
   "cell_type": "code",
   "execution_count": 29,
   "id": "827b2df3",
   "metadata": {},
   "outputs": [],
   "source": [
    "# first innings\n",
    "def innings_1_runs(curr_overs, curr_score, curr_wickets):\n",
    "    i1p_0 = t1_cum_pb[0]\n",
    "    i1p_1 = t1_cum_pb[1]\n",
    "    i1p_2 = t1_cum_pb[2]\n",
    "    i1p_3 = t1_cum_pb[3]\n",
    "    i1p_4 = t1_cum_pb[4]\n",
    "    i1p_6 = t1_cum_pb[5]\n",
    "    i1p_w = 1\n",
    "\n",
    "    # initialize runs, wickets\n",
    "    pred_runs = curr_score\n",
    "    pred_wks = curr_wickets\n",
    "    \n",
    "    # calculate leftover balls\n",
    "    over_ball = curr_overs\n",
    "    over_number = int(str(over_ball).split('.')[0])\n",
    "    ball_number = int(str(over_ball).split('.')[1])\n",
    "    \n",
    "    if ball_number >= 6:\n",
    "        ball_number = 6\n",
    "    current_balls = over_number*6 + ball_number \n",
    "    leftover_balls = 120 - current_balls\n",
    "\n",
    "    for i in range(leftover_balls):\n",
    "    \n",
    "        r_value = np.random.random()\n",
    "\n",
    "        if r_value <= i1p_0:\n",
    "            pred_runs += 0\n",
    "        elif r_value <= i1p_1:\n",
    "            pred_runs += 1\n",
    "        elif r_value <= i1p_2:\n",
    "            pred_runs += 2\n",
    "        elif r_value <= i1p_3:\n",
    "            pred_runs += 3\n",
    "        elif r_value <= i1p_4:\n",
    "            pred_runs += 4\n",
    "        elif r_value <= i1p_6:\n",
    "            pred_runs += 6\n",
    "        else:\n",
    "            pred_runs += 0\n",
    "            pred_wks += 1\n",
    "            if pred_wks == 10:\n",
    "                break\n",
    "\n",
    "    return pred_runs"
   ]
  },
  {
   "cell_type": "code",
   "execution_count": 30,
   "id": "aa8fff47",
   "metadata": {},
   "outputs": [
    {
     "data": {
      "text/plain": [
       "173"
      ]
     },
     "execution_count": 30,
     "metadata": {},
     "output_type": "execute_result"
    }
   ],
   "source": [
    "# innings_1_runs(curr_overs, curr_score, curr_wickets)\n",
    "innings_1_runs(10.0, 88, 1)"
   ]
  },
  {
   "cell_type": "markdown",
   "id": "90158aaa",
   "metadata": {},
   "source": [
    "## Function: 2nd Innings runs prediction"
   ]
  },
  {
   "cell_type": "code",
   "execution_count": 31,
   "id": "3c2514b5",
   "metadata": {},
   "outputs": [],
   "source": [
    "# second innings\n",
    "def innings_2_runs(curr_overs, curr_score, curr_wickets, target):\n",
    "    i2p_0 = t2_cum_pb[0]\n",
    "    i2p_1 = t2_cum_pb[1]\n",
    "    i2p_2 = t2_cum_pb[2]\n",
    "    i2p_3 = t2_cum_pb[3]\n",
    "    i2p_4 = t2_cum_pb[4]\n",
    "    i2p_6 = t2_cum_pb[5]\n",
    "    i2p_w = 1\n",
    "\n",
    "    # initialize runs, wickets\n",
    "    pred_runs = curr_score\n",
    "    pred_wks = curr_wickets\n",
    "    \n",
    "    # calculate leftover balls\n",
    "    over_ball = curr_overs\n",
    "    over_number = int(str(over_ball).split('.')[0])\n",
    "    ball_number = int(str(over_ball).split('.')[1])\n",
    "    \n",
    "    if ball_number >= 6:\n",
    "        ball_number = 6\n",
    "    current_balls = over_number*6 + ball_number \n",
    "    leftover_balls = 120 - current_balls\n",
    "\n",
    "    for i in range(leftover_balls):\n",
    "    \n",
    "        r_value = np.random.random()\n",
    "\n",
    "        if r_value <= i2p_0:\n",
    "            pred_runs += 0\n",
    "        elif r_value <= i2p_1:\n",
    "            pred_runs += 1\n",
    "        elif r_value <= i2p_2:\n",
    "            pred_runs += 2\n",
    "        elif r_value <= i2p_3:\n",
    "            pred_runs += 3\n",
    "        elif r_value <= i2p_4:\n",
    "            pred_runs += 4\n",
    "        elif r_value <= i2p_6:\n",
    "            pred_runs += 6\n",
    "        else:\n",
    "            pred_runs += 0\n",
    "            pred_wks += 1\n",
    "            if pred_wks == 10:\n",
    "                break\n",
    "        \n",
    "        if pred_runs > target:\n",
    "            break\n",
    "\n",
    "    return pred_runs"
   ]
  },
  {
   "cell_type": "code",
   "execution_count": 32,
   "id": "3836eed9",
   "metadata": {},
   "outputs": [
    {
     "data": {
      "text/plain": [
       "158"
      ]
     },
     "execution_count": 32,
     "metadata": {},
     "output_type": "execute_result"
    }
   ],
   "source": [
    "# innings_2_runs(curr_overs, curr_score, curr_wickets, target)\n",
    "innings_2_runs(10.0, 95, 2, 171)"
   ]
  },
  {
   "cell_type": "markdown",
   "id": "0a2a39d6",
   "metadata": {},
   "source": [
    "### Final Match Data Set"
   ]
  },
  {
   "cell_type": "code",
   "execution_count": 33,
   "id": "f2de58f8",
   "metadata": {},
   "outputs": [],
   "source": [
    "final_df = ipl_df[ipl_df.match_id == required_match_id]"
   ]
  },
  {
   "cell_type": "code",
   "execution_count": 34,
   "id": "3164710f",
   "metadata": {},
   "outputs": [
    {
     "data": {
      "text/html": [
       "<div>\n",
       "<style scoped>\n",
       "    .dataframe tbody tr th:only-of-type {\n",
       "        vertical-align: middle;\n",
       "    }\n",
       "\n",
       "    .dataframe tbody tr th {\n",
       "        vertical-align: top;\n",
       "    }\n",
       "\n",
       "    .dataframe thead th {\n",
       "        text-align: right;\n",
       "    }\n",
       "</style>\n",
       "<table border=\"1\" class=\"dataframe\">\n",
       "  <thead>\n",
       "    <tr style=\"text-align: right;\">\n",
       "      <th></th>\n",
       "      <th>match_id</th>\n",
       "      <th>season</th>\n",
       "      <th>start_date</th>\n",
       "      <th>venue</th>\n",
       "      <th>innings</th>\n",
       "      <th>ball</th>\n",
       "      <th>batting_team</th>\n",
       "      <th>bowling_team</th>\n",
       "      <th>striker</th>\n",
       "      <th>non_striker</th>\n",
       "      <th>bowler</th>\n",
       "      <th>runs_off_bat</th>\n",
       "      <th>extras</th>\n",
       "      <th>wides</th>\n",
       "      <th>noballs</th>\n",
       "      <th>byes</th>\n",
       "      <th>legbyes</th>\n",
       "      <th>penalty</th>\n",
       "      <th>wicket_type</th>\n",
       "      <th>player_dismissed</th>\n",
       "      <th>other_wicket_type</th>\n",
       "      <th>other_player_dismissed</th>\n",
       "      <th>total_runs</th>\n",
       "      <th>isOut</th>\n",
       "    </tr>\n",
       "  </thead>\n",
       "  <tbody>\n",
       "    <tr>\n",
       "      <th>178810</th>\n",
       "      <td>1181768</td>\n",
       "      <td>2019</td>\n",
       "      <td>2019-05-12</td>\n",
       "      <td>Rajiv Gandhi International Stadium</td>\n",
       "      <td>2</td>\n",
       "      <td>6.6</td>\n",
       "      <td>Chennai Super Kings</td>\n",
       "      <td>Mumbai Indians</td>\n",
       "      <td>SR Watson</td>\n",
       "      <td>SK Raina</td>\n",
       "      <td>MJ McClenaghan</td>\n",
       "      <td>0</td>\n",
       "      <td>0</td>\n",
       "      <td>NaN</td>\n",
       "      <td>NaN</td>\n",
       "      <td>NaN</td>\n",
       "      <td>NaN</td>\n",
       "      <td>NaN</td>\n",
       "      <td>NaN</td>\n",
       "      <td>NaN</td>\n",
       "      <td>NaN</td>\n",
       "      <td>NaN</td>\n",
       "      <td>0</td>\n",
       "      <td>0</td>\n",
       "    </tr>\n",
       "    <tr>\n",
       "      <th>178811</th>\n",
       "      <td>1181768</td>\n",
       "      <td>2019</td>\n",
       "      <td>2019-05-12</td>\n",
       "      <td>Rajiv Gandhi International Stadium</td>\n",
       "      <td>2</td>\n",
       "      <td>8.4</td>\n",
       "      <td>Chennai Super Kings</td>\n",
       "      <td>Mumbai Indians</td>\n",
       "      <td>SR Watson</td>\n",
       "      <td>SK Raina</td>\n",
       "      <td>MJ McClenaghan</td>\n",
       "      <td>2</td>\n",
       "      <td>0</td>\n",
       "      <td>NaN</td>\n",
       "      <td>NaN</td>\n",
       "      <td>NaN</td>\n",
       "      <td>NaN</td>\n",
       "      <td>NaN</td>\n",
       "      <td>NaN</td>\n",
       "      <td>NaN</td>\n",
       "      <td>NaN</td>\n",
       "      <td>NaN</td>\n",
       "      <td>2</td>\n",
       "      <td>0</td>\n",
       "    </tr>\n",
       "    <tr>\n",
       "      <th>178812</th>\n",
       "      <td>1181768</td>\n",
       "      <td>2019</td>\n",
       "      <td>2019-05-12</td>\n",
       "      <td>Rajiv Gandhi International Stadium</td>\n",
       "      <td>2</td>\n",
       "      <td>6.7</td>\n",
       "      <td>Chennai Super Kings</td>\n",
       "      <td>Mumbai Indians</td>\n",
       "      <td>SR Watson</td>\n",
       "      <td>SK Raina</td>\n",
       "      <td>MJ McClenaghan</td>\n",
       "      <td>0</td>\n",
       "      <td>0</td>\n",
       "      <td>NaN</td>\n",
       "      <td>NaN</td>\n",
       "      <td>NaN</td>\n",
       "      <td>NaN</td>\n",
       "      <td>NaN</td>\n",
       "      <td>NaN</td>\n",
       "      <td>NaN</td>\n",
       "      <td>NaN</td>\n",
       "      <td>NaN</td>\n",
       "      <td>0</td>\n",
       "      <td>0</td>\n",
       "    </tr>\n",
       "    <tr>\n",
       "      <th>178813</th>\n",
       "      <td>1181768</td>\n",
       "      <td>2019</td>\n",
       "      <td>2019-05-12</td>\n",
       "      <td>Rajiv Gandhi International Stadium</td>\n",
       "      <td>2</td>\n",
       "      <td>6.4</td>\n",
       "      <td>Chennai Super Kings</td>\n",
       "      <td>Mumbai Indians</td>\n",
       "      <td>SK Raina</td>\n",
       "      <td>SR Watson</td>\n",
       "      <td>MJ McClenaghan</td>\n",
       "      <td>0</td>\n",
       "      <td>0</td>\n",
       "      <td>NaN</td>\n",
       "      <td>NaN</td>\n",
       "      <td>NaN</td>\n",
       "      <td>NaN</td>\n",
       "      <td>NaN</td>\n",
       "      <td>NaN</td>\n",
       "      <td>NaN</td>\n",
       "      <td>NaN</td>\n",
       "      <td>NaN</td>\n",
       "      <td>0</td>\n",
       "      <td>0</td>\n",
       "    </tr>\n",
       "    <tr>\n",
       "      <th>178814</th>\n",
       "      <td>1181768</td>\n",
       "      <td>2019</td>\n",
       "      <td>2019-05-12</td>\n",
       "      <td>Rajiv Gandhi International Stadium</td>\n",
       "      <td>2</td>\n",
       "      <td>7.1</td>\n",
       "      <td>Chennai Super Kings</td>\n",
       "      <td>Mumbai Indians</td>\n",
       "      <td>SK Raina</td>\n",
       "      <td>SR Watson</td>\n",
       "      <td>RD Chahar</td>\n",
       "      <td>1</td>\n",
       "      <td>0</td>\n",
       "      <td>NaN</td>\n",
       "      <td>NaN</td>\n",
       "      <td>NaN</td>\n",
       "      <td>NaN</td>\n",
       "      <td>NaN</td>\n",
       "      <td>NaN</td>\n",
       "      <td>NaN</td>\n",
       "      <td>NaN</td>\n",
       "      <td>NaN</td>\n",
       "      <td>1</td>\n",
       "      <td>0</td>\n",
       "    </tr>\n",
       "  </tbody>\n",
       "</table>\n",
       "</div>"
      ],
      "text/plain": [
       "        match_id  season  start_date                               venue  innings  ball         batting_team    bowling_team    striker non_striker          bowler  runs_off_bat  extras  wides  noballs  byes  legbyes  penalty wicket_type player_dismissed  other_wicket_type  other_player_dismissed  total_runs  isOut\n",
       "178810  1181768   2019    2019-05-12  Rajiv Gandhi International Stadium  2        6.6   Chennai Super Kings  Mumbai Indians  SR Watson  SK Raina    MJ McClenaghan  0             0      NaN    NaN      NaN   NaN      NaN       NaN         NaN             NaN                NaN                      0           0    \n",
       "178811  1181768   2019    2019-05-12  Rajiv Gandhi International Stadium  2        8.4   Chennai Super Kings  Mumbai Indians  SR Watson  SK Raina    MJ McClenaghan  2             0      NaN    NaN      NaN   NaN      NaN       NaN         NaN             NaN                NaN                      2           0    \n",
       "178812  1181768   2019    2019-05-12  Rajiv Gandhi International Stadium  2        6.7   Chennai Super Kings  Mumbai Indians  SR Watson  SK Raina    MJ McClenaghan  0             0      NaN    NaN      NaN   NaN      NaN       NaN         NaN             NaN                NaN                      0           0    \n",
       "178813  1181768   2019    2019-05-12  Rajiv Gandhi International Stadium  2        6.4   Chennai Super Kings  Mumbai Indians  SK Raina   SR Watson   MJ McClenaghan  0             0      NaN    NaN      NaN   NaN      NaN       NaN         NaN             NaN                NaN                      0           0    \n",
       "178814  1181768   2019    2019-05-12  Rajiv Gandhi International Stadium  2        7.1   Chennai Super Kings  Mumbai Indians  SK Raina   SR Watson   RD Chahar       1             0      NaN    NaN      NaN   NaN      NaN       NaN         NaN             NaN                NaN                      1           0    "
      ]
     },
     "execution_count": 34,
     "metadata": {},
     "output_type": "execute_result"
    }
   ],
   "source": [
    "final_df.head()"
   ]
  },
  {
   "cell_type": "code",
   "execution_count": 35,
   "id": "25e5f2cb",
   "metadata": {},
   "outputs": [],
   "source": [
    "final_df.reset_index(inplace = True, drop = True)"
   ]
  },
  {
   "cell_type": "code",
   "execution_count": 36,
   "id": "93672c3c",
   "metadata": {},
   "outputs": [
    {
     "data": {
      "text/html": [
       "<div>\n",
       "<style scoped>\n",
       "    .dataframe tbody tr th:only-of-type {\n",
       "        vertical-align: middle;\n",
       "    }\n",
       "\n",
       "    .dataframe tbody tr th {\n",
       "        vertical-align: top;\n",
       "    }\n",
       "\n",
       "    .dataframe thead th {\n",
       "        text-align: right;\n",
       "    }\n",
       "</style>\n",
       "<table border=\"1\" class=\"dataframe\">\n",
       "  <thead>\n",
       "    <tr style=\"text-align: right;\">\n",
       "      <th></th>\n",
       "      <th>match_id</th>\n",
       "      <th>season</th>\n",
       "      <th>start_date</th>\n",
       "      <th>venue</th>\n",
       "      <th>innings</th>\n",
       "      <th>ball</th>\n",
       "      <th>batting_team</th>\n",
       "      <th>bowling_team</th>\n",
       "      <th>striker</th>\n",
       "      <th>non_striker</th>\n",
       "      <th>bowler</th>\n",
       "      <th>runs_off_bat</th>\n",
       "      <th>extras</th>\n",
       "      <th>wides</th>\n",
       "      <th>noballs</th>\n",
       "      <th>byes</th>\n",
       "      <th>legbyes</th>\n",
       "      <th>penalty</th>\n",
       "      <th>wicket_type</th>\n",
       "      <th>player_dismissed</th>\n",
       "      <th>other_wicket_type</th>\n",
       "      <th>other_player_dismissed</th>\n",
       "      <th>total_runs</th>\n",
       "      <th>isOut</th>\n",
       "    </tr>\n",
       "  </thead>\n",
       "  <tbody>\n",
       "    <tr>\n",
       "      <th>0</th>\n",
       "      <td>1181768</td>\n",
       "      <td>2019</td>\n",
       "      <td>2019-05-12</td>\n",
       "      <td>Rajiv Gandhi International Stadium</td>\n",
       "      <td>2</td>\n",
       "      <td>6.6</td>\n",
       "      <td>Chennai Super Kings</td>\n",
       "      <td>Mumbai Indians</td>\n",
       "      <td>SR Watson</td>\n",
       "      <td>SK Raina</td>\n",
       "      <td>MJ McClenaghan</td>\n",
       "      <td>0</td>\n",
       "      <td>0</td>\n",
       "      <td>NaN</td>\n",
       "      <td>NaN</td>\n",
       "      <td>NaN</td>\n",
       "      <td>NaN</td>\n",
       "      <td>NaN</td>\n",
       "      <td>NaN</td>\n",
       "      <td>NaN</td>\n",
       "      <td>NaN</td>\n",
       "      <td>NaN</td>\n",
       "      <td>0</td>\n",
       "      <td>0</td>\n",
       "    </tr>\n",
       "    <tr>\n",
       "      <th>1</th>\n",
       "      <td>1181768</td>\n",
       "      <td>2019</td>\n",
       "      <td>2019-05-12</td>\n",
       "      <td>Rajiv Gandhi International Stadium</td>\n",
       "      <td>2</td>\n",
       "      <td>8.4</td>\n",
       "      <td>Chennai Super Kings</td>\n",
       "      <td>Mumbai Indians</td>\n",
       "      <td>SR Watson</td>\n",
       "      <td>SK Raina</td>\n",
       "      <td>MJ McClenaghan</td>\n",
       "      <td>2</td>\n",
       "      <td>0</td>\n",
       "      <td>NaN</td>\n",
       "      <td>NaN</td>\n",
       "      <td>NaN</td>\n",
       "      <td>NaN</td>\n",
       "      <td>NaN</td>\n",
       "      <td>NaN</td>\n",
       "      <td>NaN</td>\n",
       "      <td>NaN</td>\n",
       "      <td>NaN</td>\n",
       "      <td>2</td>\n",
       "      <td>0</td>\n",
       "    </tr>\n",
       "    <tr>\n",
       "      <th>2</th>\n",
       "      <td>1181768</td>\n",
       "      <td>2019</td>\n",
       "      <td>2019-05-12</td>\n",
       "      <td>Rajiv Gandhi International Stadium</td>\n",
       "      <td>2</td>\n",
       "      <td>6.7</td>\n",
       "      <td>Chennai Super Kings</td>\n",
       "      <td>Mumbai Indians</td>\n",
       "      <td>SR Watson</td>\n",
       "      <td>SK Raina</td>\n",
       "      <td>MJ McClenaghan</td>\n",
       "      <td>0</td>\n",
       "      <td>0</td>\n",
       "      <td>NaN</td>\n",
       "      <td>NaN</td>\n",
       "      <td>NaN</td>\n",
       "      <td>NaN</td>\n",
       "      <td>NaN</td>\n",
       "      <td>NaN</td>\n",
       "      <td>NaN</td>\n",
       "      <td>NaN</td>\n",
       "      <td>NaN</td>\n",
       "      <td>0</td>\n",
       "      <td>0</td>\n",
       "    </tr>\n",
       "    <tr>\n",
       "      <th>3</th>\n",
       "      <td>1181768</td>\n",
       "      <td>2019</td>\n",
       "      <td>2019-05-12</td>\n",
       "      <td>Rajiv Gandhi International Stadium</td>\n",
       "      <td>2</td>\n",
       "      <td>6.4</td>\n",
       "      <td>Chennai Super Kings</td>\n",
       "      <td>Mumbai Indians</td>\n",
       "      <td>SK Raina</td>\n",
       "      <td>SR Watson</td>\n",
       "      <td>MJ McClenaghan</td>\n",
       "      <td>0</td>\n",
       "      <td>0</td>\n",
       "      <td>NaN</td>\n",
       "      <td>NaN</td>\n",
       "      <td>NaN</td>\n",
       "      <td>NaN</td>\n",
       "      <td>NaN</td>\n",
       "      <td>NaN</td>\n",
       "      <td>NaN</td>\n",
       "      <td>NaN</td>\n",
       "      <td>NaN</td>\n",
       "      <td>0</td>\n",
       "      <td>0</td>\n",
       "    </tr>\n",
       "    <tr>\n",
       "      <th>4</th>\n",
       "      <td>1181768</td>\n",
       "      <td>2019</td>\n",
       "      <td>2019-05-12</td>\n",
       "      <td>Rajiv Gandhi International Stadium</td>\n",
       "      <td>2</td>\n",
       "      <td>7.1</td>\n",
       "      <td>Chennai Super Kings</td>\n",
       "      <td>Mumbai Indians</td>\n",
       "      <td>SK Raina</td>\n",
       "      <td>SR Watson</td>\n",
       "      <td>RD Chahar</td>\n",
       "      <td>1</td>\n",
       "      <td>0</td>\n",
       "      <td>NaN</td>\n",
       "      <td>NaN</td>\n",
       "      <td>NaN</td>\n",
       "      <td>NaN</td>\n",
       "      <td>NaN</td>\n",
       "      <td>NaN</td>\n",
       "      <td>NaN</td>\n",
       "      <td>NaN</td>\n",
       "      <td>NaN</td>\n",
       "      <td>1</td>\n",
       "      <td>0</td>\n",
       "    </tr>\n",
       "  </tbody>\n",
       "</table>\n",
       "</div>"
      ],
      "text/plain": [
       "   match_id  season  start_date                               venue  innings  ball         batting_team    bowling_team    striker non_striker          bowler  runs_off_bat  extras  wides  noballs  byes  legbyes  penalty wicket_type player_dismissed  other_wicket_type  other_player_dismissed  total_runs  isOut\n",
       "0  1181768   2019    2019-05-12  Rajiv Gandhi International Stadium  2        6.6   Chennai Super Kings  Mumbai Indians  SR Watson  SK Raina    MJ McClenaghan  0             0      NaN    NaN      NaN   NaN      NaN       NaN         NaN             NaN                NaN                      0           0    \n",
       "1  1181768   2019    2019-05-12  Rajiv Gandhi International Stadium  2        8.4   Chennai Super Kings  Mumbai Indians  SR Watson  SK Raina    MJ McClenaghan  2             0      NaN    NaN      NaN   NaN      NaN       NaN         NaN             NaN                NaN                      2           0    \n",
       "2  1181768   2019    2019-05-12  Rajiv Gandhi International Stadium  2        6.7   Chennai Super Kings  Mumbai Indians  SR Watson  SK Raina    MJ McClenaghan  0             0      NaN    NaN      NaN   NaN      NaN       NaN         NaN             NaN                NaN                      0           0    \n",
       "3  1181768   2019    2019-05-12  Rajiv Gandhi International Stadium  2        6.4   Chennai Super Kings  Mumbai Indians  SK Raina   SR Watson   MJ McClenaghan  0             0      NaN    NaN      NaN   NaN      NaN       NaN         NaN             NaN                NaN                      0           0    \n",
       "4  1181768   2019    2019-05-12  Rajiv Gandhi International Stadium  2        7.1   Chennai Super Kings  Mumbai Indians  SK Raina   SR Watson   RD Chahar       1             0      NaN    NaN      NaN   NaN      NaN       NaN         NaN             NaN                NaN                      1           0    "
      ]
     },
     "execution_count": 36,
     "metadata": {},
     "output_type": "execute_result"
    }
   ],
   "source": [
    "final_df.head()"
   ]
  },
  {
   "cell_type": "code",
   "execution_count": 37,
   "id": "fc7415a4",
   "metadata": {},
   "outputs": [],
   "source": [
    "df_ing1 = final_df[final_df.innings == 1]\n",
    "df_ing2 = final_df[final_df.innings == 2]"
   ]
  },
  {
   "cell_type": "code",
   "execution_count": 38,
   "id": "873bcbe4",
   "metadata": {},
   "outputs": [
    {
     "data": {
      "text/html": [
       "<div>\n",
       "<style scoped>\n",
       "    .dataframe tbody tr th:only-of-type {\n",
       "        vertical-align: middle;\n",
       "    }\n",
       "\n",
       "    .dataframe tbody tr th {\n",
       "        vertical-align: top;\n",
       "    }\n",
       "\n",
       "    .dataframe thead th {\n",
       "        text-align: right;\n",
       "    }\n",
       "</style>\n",
       "<table border=\"1\" class=\"dataframe\">\n",
       "  <thead>\n",
       "    <tr style=\"text-align: right;\">\n",
       "      <th></th>\n",
       "      <th>match_id</th>\n",
       "      <th>season</th>\n",
       "      <th>start_date</th>\n",
       "      <th>venue</th>\n",
       "      <th>innings</th>\n",
       "      <th>ball</th>\n",
       "      <th>batting_team</th>\n",
       "      <th>bowling_team</th>\n",
       "      <th>striker</th>\n",
       "      <th>non_striker</th>\n",
       "      <th>bowler</th>\n",
       "      <th>runs_off_bat</th>\n",
       "      <th>extras</th>\n",
       "      <th>wides</th>\n",
       "      <th>noballs</th>\n",
       "      <th>byes</th>\n",
       "      <th>legbyes</th>\n",
       "      <th>penalty</th>\n",
       "      <th>wicket_type</th>\n",
       "      <th>player_dismissed</th>\n",
       "      <th>other_wicket_type</th>\n",
       "      <th>other_player_dismissed</th>\n",
       "      <th>total_runs</th>\n",
       "      <th>isOut</th>\n",
       "    </tr>\n",
       "  </thead>\n",
       "  <tbody>\n",
       "    <tr>\n",
       "      <th>73</th>\n",
       "      <td>1181768</td>\n",
       "      <td>2019</td>\n",
       "      <td>2019-05-12</td>\n",
       "      <td>Rajiv Gandhi International Stadium</td>\n",
       "      <td>1</td>\n",
       "      <td>14.4</td>\n",
       "      <td>Mumbai Indians</td>\n",
       "      <td>Chennai Super Kings</td>\n",
       "      <td>Ishan Kishan</td>\n",
       "      <td>KA Pollard</td>\n",
       "      <td>Imran Tahir</td>\n",
       "      <td>0</td>\n",
       "      <td>0</td>\n",
       "      <td>NaN</td>\n",
       "      <td>NaN</td>\n",
       "      <td>NaN</td>\n",
       "      <td>NaN</td>\n",
       "      <td>NaN</td>\n",
       "      <td>caught</td>\n",
       "      <td>Ishan Kishan</td>\n",
       "      <td>NaN</td>\n",
       "      <td>NaN</td>\n",
       "      <td>0</td>\n",
       "      <td>1</td>\n",
       "    </tr>\n",
       "    <tr>\n",
       "      <th>74</th>\n",
       "      <td>1181768</td>\n",
       "      <td>2019</td>\n",
       "      <td>2019-05-12</td>\n",
       "      <td>Rajiv Gandhi International Stadium</td>\n",
       "      <td>1</td>\n",
       "      <td>14.5</td>\n",
       "      <td>Mumbai Indians</td>\n",
       "      <td>Chennai Super Kings</td>\n",
       "      <td>KA Pollard</td>\n",
       "      <td>HH Pandya</td>\n",
       "      <td>Imran Tahir</td>\n",
       "      <td>0</td>\n",
       "      <td>0</td>\n",
       "      <td>NaN</td>\n",
       "      <td>NaN</td>\n",
       "      <td>NaN</td>\n",
       "      <td>NaN</td>\n",
       "      <td>NaN</td>\n",
       "      <td>NaN</td>\n",
       "      <td>NaN</td>\n",
       "      <td>NaN</td>\n",
       "      <td>NaN</td>\n",
       "      <td>0</td>\n",
       "      <td>0</td>\n",
       "    </tr>\n",
       "    <tr>\n",
       "      <th>75</th>\n",
       "      <td>1181768</td>\n",
       "      <td>2019</td>\n",
       "      <td>2019-05-12</td>\n",
       "      <td>Rajiv Gandhi International Stadium</td>\n",
       "      <td>1</td>\n",
       "      <td>14.6</td>\n",
       "      <td>Mumbai Indians</td>\n",
       "      <td>Chennai Super Kings</td>\n",
       "      <td>KA Pollard</td>\n",
       "      <td>HH Pandya</td>\n",
       "      <td>Imran Tahir</td>\n",
       "      <td>1</td>\n",
       "      <td>0</td>\n",
       "      <td>NaN</td>\n",
       "      <td>NaN</td>\n",
       "      <td>NaN</td>\n",
       "      <td>NaN</td>\n",
       "      <td>NaN</td>\n",
       "      <td>NaN</td>\n",
       "      <td>NaN</td>\n",
       "      <td>NaN</td>\n",
       "      <td>NaN</td>\n",
       "      <td>1</td>\n",
       "      <td>0</td>\n",
       "    </tr>\n",
       "    <tr>\n",
       "      <th>76</th>\n",
       "      <td>1181768</td>\n",
       "      <td>2019</td>\n",
       "      <td>2019-05-12</td>\n",
       "      <td>Rajiv Gandhi International Stadium</td>\n",
       "      <td>1</td>\n",
       "      <td>15.1</td>\n",
       "      <td>Mumbai Indians</td>\n",
       "      <td>Chennai Super Kings</td>\n",
       "      <td>KA Pollard</td>\n",
       "      <td>HH Pandya</td>\n",
       "      <td>RA Jadeja</td>\n",
       "      <td>1</td>\n",
       "      <td>0</td>\n",
       "      <td>NaN</td>\n",
       "      <td>NaN</td>\n",
       "      <td>NaN</td>\n",
       "      <td>NaN</td>\n",
       "      <td>NaN</td>\n",
       "      <td>NaN</td>\n",
       "      <td>NaN</td>\n",
       "      <td>NaN</td>\n",
       "      <td>NaN</td>\n",
       "      <td>1</td>\n",
       "      <td>0</td>\n",
       "    </tr>\n",
       "    <tr>\n",
       "      <th>77</th>\n",
       "      <td>1181768</td>\n",
       "      <td>2019</td>\n",
       "      <td>2019-05-12</td>\n",
       "      <td>Rajiv Gandhi International Stadium</td>\n",
       "      <td>1</td>\n",
       "      <td>15.2</td>\n",
       "      <td>Mumbai Indians</td>\n",
       "      <td>Chennai Super Kings</td>\n",
       "      <td>HH Pandya</td>\n",
       "      <td>KA Pollard</td>\n",
       "      <td>RA Jadeja</td>\n",
       "      <td>0</td>\n",
       "      <td>0</td>\n",
       "      <td>NaN</td>\n",
       "      <td>NaN</td>\n",
       "      <td>NaN</td>\n",
       "      <td>NaN</td>\n",
       "      <td>NaN</td>\n",
       "      <td>NaN</td>\n",
       "      <td>NaN</td>\n",
       "      <td>NaN</td>\n",
       "      <td>NaN</td>\n",
       "      <td>0</td>\n",
       "      <td>0</td>\n",
       "    </tr>\n",
       "  </tbody>\n",
       "</table>\n",
       "</div>"
      ],
      "text/plain": [
       "    match_id  season  start_date                               venue  innings  ball    batting_team         bowling_team       striker non_striker       bowler  runs_off_bat  extras  wides  noballs  byes  legbyes  penalty wicket_type player_dismissed  other_wicket_type  other_player_dismissed  total_runs  isOut\n",
       "73  1181768   2019    2019-05-12  Rajiv Gandhi International Stadium  1        14.4  Mumbai Indians  Chennai Super Kings  Ishan Kishan  KA Pollard  Imran Tahir  0             0      NaN    NaN      NaN   NaN      NaN       caught      Ishan Kishan    NaN                NaN                      0           1    \n",
       "74  1181768   2019    2019-05-12  Rajiv Gandhi International Stadium  1        14.5  Mumbai Indians  Chennai Super Kings  KA Pollard    HH Pandya   Imran Tahir  0             0      NaN    NaN      NaN   NaN      NaN       NaN         NaN             NaN                NaN                      0           0    \n",
       "75  1181768   2019    2019-05-12  Rajiv Gandhi International Stadium  1        14.6  Mumbai Indians  Chennai Super Kings  KA Pollard    HH Pandya   Imran Tahir  1             0      NaN    NaN      NaN   NaN      NaN       NaN         NaN             NaN                NaN                      1           0    \n",
       "76  1181768   2019    2019-05-12  Rajiv Gandhi International Stadium  1        15.1  Mumbai Indians  Chennai Super Kings  KA Pollard    HH Pandya   RA Jadeja    1             0      NaN    NaN      NaN   NaN      NaN       NaN         NaN             NaN                NaN                      1           0    \n",
       "77  1181768   2019    2019-05-12  Rajiv Gandhi International Stadium  1        15.2  Mumbai Indians  Chennai Super Kings  HH Pandya     KA Pollard  RA Jadeja    0             0      NaN    NaN      NaN   NaN      NaN       NaN         NaN             NaN                NaN                      0           0    "
      ]
     },
     "execution_count": 38,
     "metadata": {},
     "output_type": "execute_result"
    }
   ],
   "source": [
    "df_ing1.head()"
   ]
  },
  {
   "cell_type": "code",
   "execution_count": 39,
   "id": "ef8b7071",
   "metadata": {},
   "outputs": [],
   "source": [
    "df_ing1 = df_ing1.sort_values('ball', ascending = True)\n",
    "df_ing2 = df_ing2.sort_values('ball', ascending = True)"
   ]
  },
  {
   "cell_type": "code",
   "execution_count": 40,
   "id": "a8f2897d",
   "metadata": {},
   "outputs": [],
   "source": [
    "df_ing1.reset_index(inplace = True, drop = True)\n",
    "df_ing2.reset_index(inplace = True, drop = True)"
   ]
  },
  {
   "cell_type": "code",
   "execution_count": 41,
   "id": "de082243",
   "metadata": {},
   "outputs": [
    {
     "data": {
      "text/html": [
       "<div>\n",
       "<style scoped>\n",
       "    .dataframe tbody tr th:only-of-type {\n",
       "        vertical-align: middle;\n",
       "    }\n",
       "\n",
       "    .dataframe tbody tr th {\n",
       "        vertical-align: top;\n",
       "    }\n",
       "\n",
       "    .dataframe thead th {\n",
       "        text-align: right;\n",
       "    }\n",
       "</style>\n",
       "<table border=\"1\" class=\"dataframe\">\n",
       "  <thead>\n",
       "    <tr style=\"text-align: right;\">\n",
       "      <th></th>\n",
       "      <th>match_id</th>\n",
       "      <th>season</th>\n",
       "      <th>start_date</th>\n",
       "      <th>venue</th>\n",
       "      <th>innings</th>\n",
       "      <th>ball</th>\n",
       "      <th>batting_team</th>\n",
       "      <th>bowling_team</th>\n",
       "      <th>striker</th>\n",
       "      <th>non_striker</th>\n",
       "      <th>bowler</th>\n",
       "      <th>runs_off_bat</th>\n",
       "      <th>extras</th>\n",
       "      <th>wides</th>\n",
       "      <th>noballs</th>\n",
       "      <th>byes</th>\n",
       "      <th>legbyes</th>\n",
       "      <th>penalty</th>\n",
       "      <th>wicket_type</th>\n",
       "      <th>player_dismissed</th>\n",
       "      <th>other_wicket_type</th>\n",
       "      <th>other_player_dismissed</th>\n",
       "      <th>total_runs</th>\n",
       "      <th>isOut</th>\n",
       "    </tr>\n",
       "  </thead>\n",
       "  <tbody>\n",
       "    <tr>\n",
       "      <th>0</th>\n",
       "      <td>1181768</td>\n",
       "      <td>2019</td>\n",
       "      <td>2019-05-12</td>\n",
       "      <td>Rajiv Gandhi International Stadium</td>\n",
       "      <td>1</td>\n",
       "      <td>0.1</td>\n",
       "      <td>Mumbai Indians</td>\n",
       "      <td>Chennai Super Kings</td>\n",
       "      <td>Q de Kock</td>\n",
       "      <td>RG Sharma</td>\n",
       "      <td>DL Chahar</td>\n",
       "      <td>1</td>\n",
       "      <td>0</td>\n",
       "      <td>NaN</td>\n",
       "      <td>NaN</td>\n",
       "      <td>NaN</td>\n",
       "      <td>NaN</td>\n",
       "      <td>NaN</td>\n",
       "      <td>NaN</td>\n",
       "      <td>NaN</td>\n",
       "      <td>NaN</td>\n",
       "      <td>NaN</td>\n",
       "      <td>1</td>\n",
       "      <td>0</td>\n",
       "    </tr>\n",
       "    <tr>\n",
       "      <th>1</th>\n",
       "      <td>1181768</td>\n",
       "      <td>2019</td>\n",
       "      <td>2019-05-12</td>\n",
       "      <td>Rajiv Gandhi International Stadium</td>\n",
       "      <td>1</td>\n",
       "      <td>0.2</td>\n",
       "      <td>Mumbai Indians</td>\n",
       "      <td>Chennai Super Kings</td>\n",
       "      <td>RG Sharma</td>\n",
       "      <td>Q de Kock</td>\n",
       "      <td>DL Chahar</td>\n",
       "      <td>1</td>\n",
       "      <td>0</td>\n",
       "      <td>NaN</td>\n",
       "      <td>NaN</td>\n",
       "      <td>NaN</td>\n",
       "      <td>NaN</td>\n",
       "      <td>NaN</td>\n",
       "      <td>NaN</td>\n",
       "      <td>NaN</td>\n",
       "      <td>NaN</td>\n",
       "      <td>NaN</td>\n",
       "      <td>1</td>\n",
       "      <td>0</td>\n",
       "    </tr>\n",
       "    <tr>\n",
       "      <th>2</th>\n",
       "      <td>1181768</td>\n",
       "      <td>2019</td>\n",
       "      <td>2019-05-12</td>\n",
       "      <td>Rajiv Gandhi International Stadium</td>\n",
       "      <td>1</td>\n",
       "      <td>0.3</td>\n",
       "      <td>Mumbai Indians</td>\n",
       "      <td>Chennai Super Kings</td>\n",
       "      <td>Q de Kock</td>\n",
       "      <td>RG Sharma</td>\n",
       "      <td>DL Chahar</td>\n",
       "      <td>0</td>\n",
       "      <td>0</td>\n",
       "      <td>NaN</td>\n",
       "      <td>NaN</td>\n",
       "      <td>NaN</td>\n",
       "      <td>NaN</td>\n",
       "      <td>NaN</td>\n",
       "      <td>NaN</td>\n",
       "      <td>NaN</td>\n",
       "      <td>NaN</td>\n",
       "      <td>NaN</td>\n",
       "      <td>0</td>\n",
       "      <td>0</td>\n",
       "    </tr>\n",
       "    <tr>\n",
       "      <th>3</th>\n",
       "      <td>1181768</td>\n",
       "      <td>2019</td>\n",
       "      <td>2019-05-12</td>\n",
       "      <td>Rajiv Gandhi International Stadium</td>\n",
       "      <td>1</td>\n",
       "      <td>0.4</td>\n",
       "      <td>Mumbai Indians</td>\n",
       "      <td>Chennai Super Kings</td>\n",
       "      <td>Q de Kock</td>\n",
       "      <td>RG Sharma</td>\n",
       "      <td>DL Chahar</td>\n",
       "      <td>0</td>\n",
       "      <td>0</td>\n",
       "      <td>NaN</td>\n",
       "      <td>NaN</td>\n",
       "      <td>NaN</td>\n",
       "      <td>NaN</td>\n",
       "      <td>NaN</td>\n",
       "      <td>NaN</td>\n",
       "      <td>NaN</td>\n",
       "      <td>NaN</td>\n",
       "      <td>NaN</td>\n",
       "      <td>0</td>\n",
       "      <td>0</td>\n",
       "    </tr>\n",
       "    <tr>\n",
       "      <th>4</th>\n",
       "      <td>1181768</td>\n",
       "      <td>2019</td>\n",
       "      <td>2019-05-12</td>\n",
       "      <td>Rajiv Gandhi International Stadium</td>\n",
       "      <td>1</td>\n",
       "      <td>0.5</td>\n",
       "      <td>Mumbai Indians</td>\n",
       "      <td>Chennai Super Kings</td>\n",
       "      <td>Q de Kock</td>\n",
       "      <td>RG Sharma</td>\n",
       "      <td>DL Chahar</td>\n",
       "      <td>0</td>\n",
       "      <td>0</td>\n",
       "      <td>NaN</td>\n",
       "      <td>NaN</td>\n",
       "      <td>NaN</td>\n",
       "      <td>NaN</td>\n",
       "      <td>NaN</td>\n",
       "      <td>NaN</td>\n",
       "      <td>NaN</td>\n",
       "      <td>NaN</td>\n",
       "      <td>NaN</td>\n",
       "      <td>0</td>\n",
       "      <td>0</td>\n",
       "    </tr>\n",
       "  </tbody>\n",
       "</table>\n",
       "</div>"
      ],
      "text/plain": [
       "   match_id  season  start_date                               venue  innings  ball    batting_team         bowling_team    striker non_striker     bowler  runs_off_bat  extras  wides  noballs  byes  legbyes  penalty wicket_type player_dismissed  other_wicket_type  other_player_dismissed  total_runs  isOut\n",
       "0  1181768   2019    2019-05-12  Rajiv Gandhi International Stadium  1        0.1   Mumbai Indians  Chennai Super Kings  Q de Kock  RG Sharma   DL Chahar  1             0      NaN    NaN      NaN   NaN      NaN       NaN         NaN             NaN                NaN                      1           0    \n",
       "1  1181768   2019    2019-05-12  Rajiv Gandhi International Stadium  1        0.2   Mumbai Indians  Chennai Super Kings  RG Sharma  Q de Kock   DL Chahar  1             0      NaN    NaN      NaN   NaN      NaN       NaN         NaN             NaN                NaN                      1           0    \n",
       "2  1181768   2019    2019-05-12  Rajiv Gandhi International Stadium  1        0.3   Mumbai Indians  Chennai Super Kings  Q de Kock  RG Sharma   DL Chahar  0             0      NaN    NaN      NaN   NaN      NaN       NaN         NaN             NaN                NaN                      0           0    \n",
       "3  1181768   2019    2019-05-12  Rajiv Gandhi International Stadium  1        0.4   Mumbai Indians  Chennai Super Kings  Q de Kock  RG Sharma   DL Chahar  0             0      NaN    NaN      NaN   NaN      NaN       NaN         NaN             NaN                NaN                      0           0    \n",
       "4  1181768   2019    2019-05-12  Rajiv Gandhi International Stadium  1        0.5   Mumbai Indians  Chennai Super Kings  Q de Kock  RG Sharma   DL Chahar  0             0      NaN    NaN      NaN   NaN      NaN       NaN         NaN             NaN                NaN                      0           0    "
      ]
     },
     "execution_count": 41,
     "metadata": {},
     "output_type": "execute_result"
    }
   ],
   "source": [
    "df_ing1.head()"
   ]
  },
  {
   "cell_type": "markdown",
   "id": "aee5402a",
   "metadata": {},
   "source": [
    "## Runs prediction: 1st Innings "
   ]
  },
  {
   "cell_type": "code",
   "execution_count": 42,
   "id": "53da4f2c",
   "metadata": {},
   "outputs": [],
   "source": [
    "curr_score = 0\n",
    "curr_wickets = 0\n",
    "curr_overs = 0.0\n",
    "\n",
    "ing1_runs_pred = []\n",
    "\n",
    "for i in range(len(df_ing1)):\n",
    "    curr_score += df_ing1.total_runs[i]\n",
    "    curr_overs = df_ing1.ball[i]\n",
    "    curr_wickets += df_ing1.isOut[i]\n",
    "    \n",
    "    prediction = innings_1_runs(curr_overs, curr_score, curr_wickets)\n",
    "#     print('score: ', curr_score, ' overs: ', curr_overs, ' wickets: ', curr_wickets, ' prediction: ', prediction)\n",
    "    ing1_runs_pred.append(prediction)"
   ]
  },
  {
   "cell_type": "code",
   "execution_count": 43,
   "id": "ae769d8f",
   "metadata": {},
   "outputs": [
    {
     "data": {
      "text/plain": [
       "149"
      ]
     },
     "execution_count": 43,
     "metadata": {},
     "output_type": "execute_result"
    }
   ],
   "source": [
    "ing1_actual_score = sum(df_ing1.total_runs)\n",
    "ing1_actual_score"
   ]
  },
  {
   "cell_type": "markdown",
   "id": "f311a32e",
   "metadata": {},
   "source": [
    "## Runs prediction: 2nd Innings"
   ]
  },
  {
   "cell_type": "code",
   "execution_count": 44,
   "id": "7f99ffb3",
   "metadata": {},
   "outputs": [],
   "source": [
    "curr_score = 0\n",
    "curr_wickets = 0\n",
    "curr_overs = 0.0\n",
    "target = ing1_actual_score\n",
    "\n",
    "ing2_runs_pred = []\n",
    "\n",
    "for i in range(len(df_ing2)):\n",
    "    curr_score += df_ing2.total_runs[i]\n",
    "    curr_overs = df_ing2.ball[i]\n",
    "    curr_wickets += df_ing2.isOut[i]\n",
    "    \n",
    "    prediction = innings_2_runs(curr_overs, curr_score, curr_wickets, target)\n",
    "#     print('target: ', target)\n",
    "#     print('score: ', curr_score, ' overs: ', curr_overs, ' wickets: ', curr_wickets, ' prediction: ', prediction)\n",
    "    ing2_runs_pred.append(prediction)"
   ]
  },
  {
   "cell_type": "code",
   "execution_count": 45,
   "id": "45c4ce97",
   "metadata": {},
   "outputs": [
    {
     "data": {
      "text/plain": [
       "148"
      ]
     },
     "execution_count": 45,
     "metadata": {},
     "output_type": "execute_result"
    }
   ],
   "source": [
    "ing2_actual_score = sum(df_ing2.total_runs)\n",
    "ing2_actual_score"
   ]
  },
  {
   "cell_type": "markdown",
   "id": "635e6d7c",
   "metadata": {},
   "source": [
    "## Runs prediction chart: 1st Innings"
   ]
  },
  {
   "cell_type": "code",
   "execution_count": 46,
   "id": "57b502bd",
   "metadata": {},
   "outputs": [
    {
     "data": {
      "image/png": "[encoded data removed]",
      "text/plain": [
       "<Figure size 1152x432 with 1 Axes>"
      ]
     },
     "metadata": {
      "needs_background": "light"
     },
     "output_type": "display_data"
    }
   ],
   "source": [
    "plt.figure(figsize = (16, 6))\n",
    "plt.scatter([i for i in range(len(ing1_runs_pred))], ing1_runs_pred, alpha = 0.5, label = 'pred', color = 'blue')\n",
    "plt.ylim(0, ing1_actual_score + 30)\n",
    "plt.axhline(ing1_actual_score, ls = '--', label = 'actual', color = 'red')\n",
    "plt.title('First Innings Runs - Prediction vs Actual (' + t1 + ': ' + str(ing1_actual_score) +  ')', fontsize = 16)\n",
    "plt.legend()\n",
    "plt.xlabel('Ball No')\n",
    "plt.ylabel('Runs')\n",
    "plt.show()"
   ]
  },
  {
   "cell_type": "markdown",
   "id": "d85fe3cc",
   "metadata": {},
   "source": [
    "#### Error in 1st Innings runs:"
   ]
  },
  {
   "cell_type": "code",
   "execution_count": 47,
   "id": "2d9a5bcb",
   "metadata": {},
   "outputs": [
    {
     "data": {
      "text/plain": [
       "10.097560975609756"
      ]
     },
     "execution_count": 47,
     "metadata": {},
     "output_type": "execute_result"
    }
   ],
   "source": [
    "np.mean([abs(i - ing1_actual_score) for i in ing1_runs_pred])"
   ]
  },
  {
   "cell_type": "markdown",
   "id": "1631ede8",
   "metadata": {},
   "source": [
    "## Runs prediction chart: 2nd Innings"
   ]
  },
  {
   "cell_type": "code",
   "execution_count": 48,
   "id": "dd0f000d",
   "metadata": {},
   "outputs": [
    {
     "data": {
      "image/png": "[encoded data removed]",
      "text/plain": [
       "<Figure size 1152x432 with 1 Axes>"
      ]
     },
     "metadata": {
      "needs_background": "light"
     },
     "output_type": "display_data"
    }
   ],
   "source": [
    "plt.figure(figsize = (16, 6))\n",
    "plt.scatter([i for i in range(len(ing2_runs_pred))], ing2_runs_pred, alpha = 0.5, label = 'pred', color = 'blue')\n",
    "plt.ylim(0, ing2_actual_score + 30)\n",
    "plt.axhline(ing2_actual_score, ls = '--', label = 'actual', color = 'red')\n",
    "plt.title('Second Innings Runs - Prediction vs Actual (' + t2 + ': ' + str(ing2_actual_score) +  ')', fontsize = 16)\n",
    "plt.xlabel('Ball No')\n",
    "plt.ylabel('Runs')\n",
    "plt.legend()\n",
    "plt.show()"
   ]
  },
  {
   "cell_type": "markdown",
   "id": "2db39c0e",
   "metadata": {},
   "source": [
    "#### Error in 2nd Innings runs:"
   ]
  },
  {
   "cell_type": "code",
   "execution_count": 49,
   "id": "332c23fb",
   "metadata": {},
   "outputs": [
    {
     "data": {
      "text/plain": [
       "11.725806451612904"
      ]
     },
     "execution_count": 49,
     "metadata": {},
     "output_type": "execute_result"
    }
   ],
   "source": [
    "np.mean([abs(i - ing2_actual_score) for i in ing2_runs_pred])"
   ]
  },
  {
   "cell_type": "markdown",
   "id": "2babded8",
   "metadata": {},
   "source": [
    "# Win Predictions"
   ]
  },
  {
   "cell_type": "markdown",
   "id": "a86cfa86",
   "metadata": {},
   "source": [
    "## Win predictions: 1st Innings"
   ]
  },
  {
   "cell_type": "code",
   "execution_count": 50,
   "id": "43199b30",
   "metadata": {},
   "outputs": [],
   "source": [
    "# 1, 2 innings & predict win \n",
    "\n",
    "# for each ball make a prediction: 1st runs, 2nd runs, win/lose/tie\n",
    "\n",
    "# initialize win/tie/lose\n",
    "win_count = 0\n",
    "tie_count = 0\n",
    "lose_count = 0\n",
    "\n",
    "win_count_ls = []\n",
    "tie_count_ls = []\n",
    "lose_count_ls = []\n",
    "\n",
    "ing1_curr_score = 0\n",
    "ing1_curr_overs = 0\n",
    "ing1_curr_wickets = 0\n",
    "\n",
    "# each ball\n",
    "for i in range(len(df_ing1)):\n",
    "    \n",
    "    # 1st innings values\n",
    "    ing1_curr_score += df_ing1.total_runs[i]\n",
    "    ing1_curr_overs = df_ing1.ball[i]\n",
    "    ing1_curr_wickets += df_ing1.isOut[i]\n",
    "    \n",
    "    #2nd innings values\n",
    "    ing2_curr_score = 0\n",
    "    ing2_curr_wickets = 0\n",
    "    ing2_curr_overs = 0.0\n",
    "    \n",
    "    # make a prediction for 100 times & get win/lose/tie count(ex: 28% win)\n",
    "    for j in range(100):\n",
    "        \n",
    "        ing1_prediction = innings_1_runs(ing1_curr_overs, ing1_curr_score, ing1_curr_wickets)\n",
    "        target = ing1_prediction\n",
    "        \n",
    "        ing2_prediction = innings_2_runs(ing2_curr_overs, ing2_curr_score, ing2_curr_wickets, target)\n",
    "        \n",
    "#         print(ing1_prediction, ing2_prediction)\n",
    "        \n",
    "        # prediction w.r.t 2nd team\n",
    "        if ing2_prediction > target:\n",
    "            win_count += 1\n",
    "        elif ing2_prediction == target:\n",
    "            tie_count += 1\n",
    "        else:\n",
    "            lose_count += 1\n",
    "            \n",
    "    win_count_ls.append(win_count)\n",
    "    tie_count_ls.append(tie_count)\n",
    "    lose_count_ls.append(lose_count)\n",
    "    \n",
    "    win_count = 0\n",
    "    tie_count = 0\n",
    "    lose_count = 0"
   ]
  },
  {
   "cell_type": "markdown",
   "id": "aaf1903f",
   "metadata": {},
   "source": [
    "## Win predictions: 2nd Innings"
   ]
  },
  {
   "cell_type": "code",
   "execution_count": 51,
   "id": "76cab41d",
   "metadata": {},
   "outputs": [],
   "source": [
    "# each ball\n",
    "#2nd innings values\n",
    "ing2_curr_score = 0\n",
    "ing2_curr_wickets = 0\n",
    "ing2_curr_overs = 0.0\n",
    "\n",
    "for i in range(len(df_ing2)):\n",
    "    \n",
    "    # 1st innings values\n",
    "    target = ing1_actual_score\n",
    "    \n",
    "    #2nd innings values\n",
    "    ing2_curr_score += df_ing2.total_runs[i]\n",
    "    ing2_curr_wickets += df_ing2.isOut[i]\n",
    "    ing2_curr_overs = df_ing2.ball[i]\n",
    "    \n",
    "    # make a prediction for 100 times & get win/lose/tie count(ex: 28% win)\n",
    "    for j in range(100):\n",
    "        ing2_prediction = innings_2_runs(ing2_curr_overs, ing2_curr_score, ing2_curr_wickets, target)\n",
    "        \n",
    "#         print(target, ing2_prediction)\n",
    "        \n",
    "        # prediction w.r.t 2nd team\n",
    "        if ing2_prediction > target:\n",
    "            win_count += 1\n",
    "        elif ing2_prediction == target:\n",
    "            tie_count += 1\n",
    "        else:\n",
    "            lose_count += 1\n",
    "            \n",
    "    win_count_ls.append(win_count)\n",
    "    tie_count_ls.append(tie_count)\n",
    "    lose_count_ls.append(lose_count)\n",
    "    \n",
    "    win_count = 0\n",
    "    tie_count = 0\n",
    "    lose_count = 0"
   ]
  },
  {
   "cell_type": "markdown",
   "id": "3b23fdfa",
   "metadata": {},
   "source": [
    "## Win Percentage Chart:"
   ]
  },
  {
   "cell_type": "code",
   "execution_count": 52,
   "id": "cc0fe480",
   "metadata": {},
   "outputs": [
    {
     "data": {
      "image/png": "[encoded data removed]",
      "text/plain": [
       "<Figure size 1440x576 with 1 Axes>"
      ]
     },
     "metadata": {
      "needs_background": "light"
     },
     "output_type": "display_data"
    }
   ],
   "source": [
    "plt.figure(figsize = (20, 8))\n",
    "\n",
    "x1_values = [i for i in range(len(win_count_ls))]\n",
    "y1_values = win_count_ls\n",
    "\n",
    "x2_values = [i for i in range(len(tie_count_ls))]\n",
    "y2_values = tie_count_ls\n",
    "\n",
    "x3_values = [i for i in range(len(lose_count_ls))]\n",
    "y3_values = lose_count_ls\n",
    "\n",
    "for i in range(10, len(final_df), 20):\n",
    "    if i < len(final_df) - 10:\n",
    "        plt.axvspan(i, i+10, ymin = 0, ymax = 100, alpha = 0.05, color='grey')\n",
    "        \n",
    "plt.axhline(y = 75, ls = '--', alpha = 0.3, c = 'grey')\n",
    "plt.axhline(y = 50, ls = '--', alpha = 1, c = 'grey')\n",
    "plt.axhline(y = 25, ls = '--', alpha = 0.3, c = 'grey')\n",
    "\n",
    "plt.plot(x1_values, y1_values, color = 'orange', label = t2)\n",
    "plt.plot(x2_values, y2_values, color = 'grey', label = 'Tie Value')\n",
    "plt.plot(x3_values, y3_values, color = 'blue', label = t1)\n",
    "\n",
    "plt.ylim(0, 100)\n",
    "plt.yticks([0, 25, 50, 75, 100])\n",
    "\n",
    "\n",
    "\n",
    "plt.title('Win Percentage Chart: ' + t1 + ' vs ' + t2, fontsize = 16)\n",
    "plt.xlabel('Ball No')\n",
    "plt.ylabel('Win %')\n",
    "plt.legend()\n",
    "plt.show()"
   ]
  },
  {
   "cell_type": "code",
   "execution_count": null,
   "id": "b29ffd51",
   "metadata": {},
   "outputs": [],
   "source": []
  },
  {
   "cell_type": "code",
   "execution_count": null,
   "id": "302cfc20",
   "metadata": {},
   "outputs": [],
   "source": []
  },
  {
   "cell_type": "code",
   "execution_count": null,
   "id": "37308424",
   "metadata": {},
   "outputs": [],
   "source": []
  },
  {
   "cell_type": "markdown",
   "id": "5fd0e0ef",
   "metadata": {},
   "source": [
    "# Interactive Model"
   ]
  },
  {
   "cell_type": "markdown",
   "id": "833cffd1",
   "metadata": {},
   "source": [
    "## Fetch probability values:"
   ]
  },
  {
   "cell_type": "code",
   "execution_count": 53,
   "id": "954ebeca",
   "metadata": {},
   "outputs": [
    {
     "name": "stdout",
     "output_type": "stream",
     "text": [
      "[0.33793783917118897, 0.7271830291070548, 0.7799703996053281, 0.7839171188949187, 0.8993586581154416, 0.954612728169709, 1.0]\n",
      "[0.3717768401312705, 0.7623066104078762, 0.817627754336615, 0.8190342240975151, 0.9179559306141584, 0.9587435536802624, 0.9999999999999999]\n"
     ]
    }
   ],
   "source": [
    "print(t1_cum_pb)\n",
    "print(t2_cum_pb)"
   ]
  },
  {
   "cell_type": "code",
   "execution_count": 54,
   "id": "d5b5c3d8",
   "metadata": {},
   "outputs": [],
   "source": [
    "Mumbai_Indians = t1_cum_pb\n",
    "chennai_sk = t2_cum_pb"
   ]
  },
  {
   "cell_type": "code",
   "execution_count": 55,
   "id": "f020246e",
   "metadata": {},
   "outputs": [
    {
     "data": {
      "text/plain": [
       "[0.33793783917118897,\n",
       " 0.7271830291070548,\n",
       " 0.7799703996053281,\n",
       " 0.7839171188949187,\n",
       " 0.8993586581154416,\n",
       " 0.954612728169709,\n",
       " 1.0]"
      ]
     },
     "execution_count": 55,
     "metadata": {},
     "output_type": "execute_result"
    }
   ],
   "source": [
    "Mumbai_Indians"
   ]
  },
  {
   "cell_type": "code",
   "execution_count": 56,
   "id": "620033fe",
   "metadata": {},
   "outputs": [
    {
     "data": {
      "text/plain": [
       "[0.3717768401312705,\n",
       " 0.7623066104078762,\n",
       " 0.817627754336615,\n",
       " 0.8190342240975151,\n",
       " 0.9179559306141584,\n",
       " 0.9587435536802624,\n",
       " 0.9999999999999999]"
      ]
     },
     "execution_count": 56,
     "metadata": {},
     "output_type": "execute_result"
    }
   ],
   "source": [
    "chennai_sk"
   ]
  },
  {
   "cell_type": "code",
   "execution_count": 57,
   "id": "406fc8c3",
   "metadata": {},
   "outputs": [],
   "source": [
    "def get_pbvalues(teamName):\n",
    "    if teamName == 'MI':\n",
    "        p_0 = 0.33793\n",
    "        p_1 = 0.72718\n",
    "        p_2 = 0.77997\n",
    "        p_3 = 0.78391\n",
    "        p_4 = 0.89935\n",
    "        p_6 = 0.95461\n",
    "        p_w = 1\n",
    "        \n",
    "    elif teamName == 'CSK':\n",
    "        p_0 = 0.37177\n",
    "        p_1 = 0.76230\n",
    "        p_2 = 0.81762\n",
    "        p_3 = 0.81903\n",
    "        p_4 = 0.91795\n",
    "        p_6 = 0.95874\n",
    "        p_w = 1\n",
    "        \n",
    "    return p_0,p_1,p_2,p_3,p_4,p_6,p_w   "
   ]
  },
  {
   "cell_type": "markdown",
   "id": "c9cb777e",
   "metadata": {},
   "source": [
    "## Runs prediction Model:"
   ]
  },
  {
   "cell_type": "code",
   "execution_count": 58,
   "id": "b964558c",
   "metadata": {},
   "outputs": [],
   "source": [
    "def predict_runs(target, current_score, current_wickets, current_overs):\n",
    "  \n",
    "    # pb values of both teams\n",
    "    i1p_0, i1p_1, i1p_2, i1p_3, i1p_4, i1p_6, i1p_w = get_pbvalues('MI')\n",
    "    i2p_0, i2p_1, i2p_2, i2p_3, i2p_4, i2p_6, i2p_w = get_pbvalues('CSK')\n",
    "\n",
    "    pred_runs = current_score\n",
    "    pred_wks = current_wickets\n",
    "    leftover_balls = 120 - current_overs*6\n",
    "\n",
    "    for i in range(leftover_balls):\n",
    "        r_value = np.random.random()\n",
    "\n",
    "        if r_value <= i2p_0:\n",
    "            pred_runs += 0\n",
    "        elif r_value <= i2p_1:\n",
    "            pred_runs += 1\n",
    "        elif r_value <= i2p_2:\n",
    "            pred_runs += 2\n",
    "        elif r_value <= i2p_3:\n",
    "            pred_runs += 3\n",
    "        elif r_value <= i2p_4:\n",
    "            pred_runs += 4\n",
    "        elif r_value <= i2p_6:\n",
    "            pred_runs += 6\n",
    "        else:\n",
    "            pred_runs += 0\n",
    "            pred_wks += 1\n",
    "            if pred_wks == 10:\n",
    "                break\n",
    "        if pred_runs > target:\n",
    "            break\n",
    "        # print('pred_runs: ', pred_runs)\n",
    "        # print('pred_wks: ', pred_wks)\n",
    "    \n",
    "    return pred_runs"
   ]
  },
  {
   "cell_type": "code",
   "execution_count": 59,
   "id": "ccfe65ed",
   "metadata": {},
   "outputs": [
    {
     "data": {
      "text/plain": [
       "147"
      ]
     },
     "execution_count": 59,
     "metadata": {},
     "output_type": "execute_result"
    }
   ],
   "source": [
    "# predict_runs(target, current_score, current_wickets, current_overs)\n",
    "predict_runs(149, 0, 0, 0)"
   ]
  },
  {
   "cell_type": "markdown",
   "id": "2bb9965a",
   "metadata": {},
   "source": [
    "## Winner function:"
   ]
  },
  {
   "cell_type": "code",
   "execution_count": 60,
   "id": "78f33838",
   "metadata": {},
   "outputs": [],
   "source": [
    "def get_win(pred_runs, target):\n",
    "    if pred_runs > target:\n",
    "        return 'win'\n",
    "    elif pred_runs == target:\n",
    "        return 'tie'\n",
    "    else:\n",
    "        return 'lose'"
   ]
  },
  {
   "cell_type": "code",
   "execution_count": 61,
   "id": "cf1c1c44",
   "metadata": {},
   "outputs": [],
   "source": [
    "#runs, wickets, overs,\n",
    "# win, 1st ing score\n",
    "\n",
    "#MI = 149/8\n",
    "\n",
    "target = 150\n",
    "\n",
    "current_score = 72\n",
    "current_wickets = 2\n",
    "current_overs = 10\n",
    "\n",
    "iter_count = 100\n",
    "\n",
    "runs_ls = []\n",
    "results_ls = []\n",
    "\n",
    "win_count = 0\n",
    "tie_count = 0\n",
    "lose_count = 0\n",
    "\n",
    "for i in range(iter_count):\n",
    "    pred_runs = predict_runs(target, current_score, current_wickets, current_overs)\n",
    "    runs_ls.append(pred_runs)\n",
    "    result_pred = get_win(pred_runs, target)\n",
    "    results_ls.append(result_pred)\n",
    "\n",
    "    if result_pred == 'win':\n",
    "        win_count += 1\n",
    "    elif result_pred == 'tie':\n",
    "        tie_count += 1\n",
    "    else:\n",
    "        lose_count +=1"
   ]
  },
  {
   "cell_type": "code",
   "execution_count": 62,
   "id": "f6f7f56b",
   "metadata": {},
   "outputs": [
    {
     "data": {
      "text/plain": [
       "(27, 1, 72)"
      ]
     },
     "execution_count": 62,
     "metadata": {},
     "output_type": "execute_result"
    }
   ],
   "source": [
    "win_count, tie_count, lose_count"
   ]
  },
  {
   "cell_type": "markdown",
   "id": "741c6084",
   "metadata": {},
   "source": [
    "## Find out Runs at a required stage:"
   ]
  },
  {
   "cell_type": "code",
   "execution_count": 63,
   "id": "23014b8a",
   "metadata": {},
   "outputs": [],
   "source": [
    "# find out runs:\n",
    "def find_runs(current_score, target, current_wickets, at_overs):\n",
    "    runs_ls = []\n",
    "    results_ls = []\n",
    "\n",
    "    req_runs = []\n",
    "    win_ls = []\n",
    "\n",
    "    for i in range(current_score, target + 1):\n",
    "        win_count = 0\n",
    "        tie_count = 0\n",
    "        lose_count = 0\n",
    "\n",
    "        for j in range(100):\n",
    "            pred_runs = predict_runs(target, i, current_wickets, at_overs)\n",
    "            runs_ls.append(pred_runs)\n",
    "            result_pred = get_win(pred_runs, target)\n",
    "            results_ls.append(result_pred)\n",
    "\n",
    "            if result_pred == 'win':\n",
    "                win_count += 1\n",
    "            elif result_pred == 'tie':\n",
    "                tie_count += 1\n",
    "            else:\n",
    "                lose_count +=1\n",
    "\n",
    "            win_ls.append(win_count)\n",
    "            req_runs.append(i)\n",
    "            # print('runs: ', i, ' win%: ', win_count)\n",
    "\n",
    "    required_runs = current_score\n",
    "    for i in range(len(req_runs)):\n",
    "        if win_ls[i] >= 50:\n",
    "            required_runs = req_runs[i]\n",
    "            # print('Runs to be: ', req_runs[i])\n",
    "            break\n",
    "\n",
    "    return required_runs\n"
   ]
  },
  {
   "cell_type": "code",
   "execution_count": 64,
   "id": "a0042b1b",
   "metadata": {},
   "outputs": [
    {
     "data": {
      "text/plain": [
       "82"
      ]
     },
     "execution_count": 64,
     "metadata": {},
     "output_type": "execute_result"
    }
   ],
   "source": [
    "#find_runs(curr_score, target, curr_wickets, at_overs)\n",
    "find_runs(72, 150, 2, 10)"
   ]
  },
  {
   "cell_type": "markdown",
   "id": "bb038164",
   "metadata": {},
   "source": [
    "## Find out Wickets they can afford to lose:"
   ]
  },
  {
   "cell_type": "code",
   "execution_count": 65,
   "id": "7ae1826f",
   "metadata": {},
   "outputs": [],
   "source": [
    "\n",
    "def find_wickets(current_score, target, current_wickets, at_overs):\n",
    "\n",
    "#     find_runs(current_score, target, current_wickets, at_overs)\n",
    "    req_runs = find_runs(current_score, target, current_wickets, at_overs)\n",
    "\n",
    "    runs_ls = []\n",
    "    results_ls = []\n",
    "\n",
    "    req_wks = []\n",
    "    win_ls = []\n",
    "\n",
    "    for i in range(current_wickets, 10):\n",
    "        win_count = 0\n",
    "        tie_count = 0\n",
    "        lose_count = 0\n",
    "\n",
    "        for j in range(100):\n",
    "#             pred_runs = predict_runs(target, req_runs, i, at_overs)\n",
    "            pred_runs = predict_runs(target, current_score, i, at_overs)\n",
    "            runs_ls.append(pred_runs)\n",
    "            result_pred = get_win(pred_runs, target)\n",
    "            results_ls.append(result_pred)\n",
    "\n",
    "            if result_pred == 'win':\n",
    "                win_count += 1\n",
    "            elif result_pred == 'tie':\n",
    "                tie_count += 1\n",
    "            else:\n",
    "                lose_count +=1\n",
    "\n",
    "        win_ls.append(win_count)\n",
    "        req_wks.append(i)\n",
    "#         print('wickets: ', i, ' win%: ', win_count)\n",
    "\n",
    "    req_wicket_value = current_wickets\n",
    "    \n",
    "    for i in range(len(req_wks)):\n",
    "        if (win_ls[i] < 45)  :\n",
    "            req_wicket_value = req_wks[i]\n",
    "            break\n",
    "\n",
    "    return req_wicket_value"
   ]
  },
  {
   "cell_type": "code",
   "execution_count": 66,
   "id": "c18da15b",
   "metadata": {},
   "outputs": [
    {
     "data": {
      "text/plain": [
       "2"
      ]
     },
     "execution_count": 66,
     "metadata": {},
     "output_type": "execute_result"
    }
   ],
   "source": [
    "#wickets they can afford to lose:\n",
    "\n",
    "# find_wickets(curr_score, target, curr_wickets, at_overs)\n",
    "find_wickets(72, 150, 2, 10)"
   ]
  },
  {
   "cell_type": "markdown",
   "id": "6d7c8b71",
   "metadata": {},
   "source": [
    "# Function: Interactive chart"
   ]
  },
  {
   "cell_type": "code",
   "execution_count": 68,
   "id": "59d64004",
   "metadata": {},
   "outputs": [],
   "source": [
    "%matplotlib inline\n",
    "from ipywidgets import interactive\n",
    "import ipywidgets as widgets\n",
    "import matplotlib.pyplot as plt\n",
    "import numpy as np\n",
    "\n",
    "def find_runs_wickets(current_wks, at_overs, target_score):\n",
    "    plt.figure(figsize = (16, 6))\n",
    "    # x = np.linspace(-10, 10, num=1000)\n",
    "    x = np.array(list(range(21)))\n",
    "    req_value = find_runs(72, target_score, current_wks, at_overs)\n",
    "    req_wk_value = find_wickets(72, target_score, current_wks, at_overs)\n",
    "\n",
    "    if at_overs == 10:\n",
    "        req_value = 82\n",
    "        req_wk_value = 2\n",
    "\n",
    "    \n",
    "    # print(req_value)\n",
    "    y = np.array([req_value for i in range(21)])\n",
    "\n",
    "    # plt.plot(x, current_overs * x + target_score)\n",
    "    # plt.plot(x, y)\n",
    "    plt.scatter(at_overs, req_value, s = 1200, color = 'red')\n",
    "    plt.axhline(target_score, ls = '--', color = 'blue')\n",
    "    plt.text( 1, target_score + 10, 'Target Score :' + str(target_score) , color = 'darkblue', fontsize = 13)\n",
    "    plt.text( at_overs, req_value, str(req_value) + '/' + str(req_wk_value), color = 'white', fontsize = 14,  horizontalalignment='center', verticalalignment='center')\n",
    "    plt.text(at_overs, req_value - 30, 'SuperKings has to be at ' + str(req_value) + '/' +  str(req_wk_value) + ' after ' + str(at_overs) + ' ov', horizontalalignment='center',color = 'green')\n",
    "    plt.ylim(50, target_score + 50)\n",
    "    plt.xticks(x)\n",
    "    plt.title('Where should SuperKings be?', fontsize = 20)\n",
    "    plt.xlabel('Overs')\n",
    "    plt.ylabel('Score')\n",
    "    plt.show()\n",
    "\n",
    "# x=widgets.IntSlider(min=-10, max=30, step=1, value=10)\n",
    "\n",
    "# find_wickets(current_score, target, current_wickets, at_overs)\n",
    "# find_wickets(72, 150, 2, 11)\n"
   ]
  },
  {
   "cell_type": "markdown",
   "id": "04442308",
   "metadata": {},
   "source": [
    "## Interactive Visualization:"
   ]
  },
  {
   "cell_type": "code",
   "execution_count": 69,
   "id": "383e91f9",
   "metadata": {},
   "outputs": [
    {
     "name": "stdout",
     "output_type": "stream",
     "text": [
      "current_score = CSK: 72/2 (10 overs)\n",
      "\n"
     ]
    },
    {
     "data": {
      "application/vnd.jupyter.widget-view+json": {
       "model_id": "146bd74997ef46ccad881fd7f156d38f",
       "version_major": 2,
       "version_minor": 0
      },
      "text/plain": [
       "interactive(children=(IntSlider(value=1, description='current_wks', max=10, min=1), IntSlider(value=10, descri…"
      ]
     },
     "metadata": {},
     "output_type": "display_data"
    }
   ],
   "source": [
    "print('current_score = CSK: 72/2 (10 overs)')\n",
    "print('')\n",
    "\n",
    "interactive_plot = interactive(find_runs_wickets, current_wks = widgets.IntSlider(min=1, max=10, step=1, value=1),  at_overs=widgets.IntSlider(min=10, max=20, step=1, value=10), target_score = widgets.IntSlider(min=0, max=250, step=1, value=150))\n",
    "output = interactive_plot.children[-1]\n",
    "output.layout.height = '450px'\n",
    "interactive_plot"
   ]
  },
  {
   "cell_type": "markdown",
   "id": "0d9110c4",
   "metadata": {},
   "source": [
    "### SuperKings were 10 runs behind at this stage (10 Overs) required runs "
   ]
  }
 ],
 "metadata": {
  "kernelspec": {
   "display_name": "Python 3 (ipykernel)",
   "language": "python",
   "name": "python3"
  },
  "language_info": {
   "codemirror_mode": {
    "name": "ipython",
    "version": 3
   },
   "file_extension": ".py",
   "mimetype": "text/x-python",
   "name": "python",
   "nbconvert_exporter": "python",
   "pygments_lexer": "ipython3",
   "version": "3.9.12"
  }
 },
 "nbformat": 4,
 "nbformat_minor": 5
}
