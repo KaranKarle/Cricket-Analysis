{
 "cells": [
  {
   "cell_type": "markdown",
   "id": "e174b95a",
   "metadata": {},
   "source": [
    "# Assignment - Is MS Dhoni still good enough to bat? Analyze and convey your results using visualizations"
   ]
  },
  {
   "cell_type": "markdown",
   "id": "9f026bad",
   "metadata": {},
   "source": [
    "### Analysing MS Dhoni's performance in IPl - Is he still good enough to bat \n",
    "### taking IPL_ball_by_ball.csv data \n",
    "### divide it in to before 2020 and latest 2021 & 2022 Seasons "
   ]
  },
  {
   "cell_type": "code",
   "execution_count": 1,
   "id": "76cc1492",
   "metadata": {},
   "outputs": [],
   "source": [
    "import warnings\n",
    "warnings.filterwarnings('ignore')\n",
    "\n",
    "import pandas as pd\n",
    "import numpy as np\n",
    "\n",
    "import matplotlib.pyplot as plt\n",
    "\n",
    "\n",
    "#to display all rows and columns\n",
    "pd.set_option('display.max_rows', None)\n",
    "pd.set_option('display.max_columns', None)\n",
    "pd.set_option('display.expand_frame_repr', None)\n",
    "pd.set_option('max_colwidth', -1)"
   ]
  },
  {
   "cell_type": "code",
   "execution_count": 2,
   "id": "ccb3c5f6",
   "metadata": {},
   "outputs": [
    {
     "data": {
      "text/html": [
       "<div>\n",
       "<style scoped>\n",
       "    .dataframe tbody tr th:only-of-type {\n",
       "        vertical-align: middle;\n",
       "    }\n",
       "\n",
       "    .dataframe tbody tr th {\n",
       "        vertical-align: top;\n",
       "    }\n",
       "\n",
       "    .dataframe thead th {\n",
       "        text-align: right;\n",
       "    }\n",
       "</style>\n",
       "<table border=\"1\" class=\"dataframe\">\n",
       "  <thead>\n",
       "    <tr style=\"text-align: right;\">\n",
       "      <th></th>\n",
       "      <th>match_id</th>\n",
       "      <th>season</th>\n",
       "      <th>start_date</th>\n",
       "      <th>venue</th>\n",
       "      <th>innings</th>\n",
       "      <th>ball</th>\n",
       "      <th>batting_team</th>\n",
       "      <th>bowling_team</th>\n",
       "      <th>striker</th>\n",
       "      <th>non_striker</th>\n",
       "      <th>bowler</th>\n",
       "      <th>runs_off_bat</th>\n",
       "      <th>extras</th>\n",
       "      <th>wides</th>\n",
       "      <th>noballs</th>\n",
       "      <th>byes</th>\n",
       "      <th>legbyes</th>\n",
       "      <th>penalty</th>\n",
       "      <th>wicket_type</th>\n",
       "      <th>player_dismissed</th>\n",
       "      <th>other_wicket_type</th>\n",
       "      <th>other_player_dismissed</th>\n",
       "    </tr>\n",
       "  </thead>\n",
       "  <tbody>\n",
       "    <tr>\n",
       "      <th>0</th>\n",
       "      <td>335982</td>\n",
       "      <td>2008</td>\n",
       "      <td>2008-04-18</td>\n",
       "      <td>M Chinnaswamy Stadium</td>\n",
       "      <td>2</td>\n",
       "      <td>6.8</td>\n",
       "      <td>Royal Challengers Bangalore</td>\n",
       "      <td>Kolkata Knight Riders</td>\n",
       "      <td>MV Boucher</td>\n",
       "      <td>CL White</td>\n",
       "      <td>AB Agarkar</td>\n",
       "      <td>4</td>\n",
       "      <td>0</td>\n",
       "      <td>NaN</td>\n",
       "      <td>NaN</td>\n",
       "      <td>NaN</td>\n",
       "      <td>NaN</td>\n",
       "      <td>NaN</td>\n",
       "      <td>NaN</td>\n",
       "      <td>NaN</td>\n",
       "      <td>NaN</td>\n",
       "      <td>NaN</td>\n",
       "    </tr>\n",
       "    <tr>\n",
       "      <th>1</th>\n",
       "      <td>335982</td>\n",
       "      <td>2008</td>\n",
       "      <td>2008-04-18</td>\n",
       "      <td>M Chinnaswamy Stadium</td>\n",
       "      <td>2</td>\n",
       "      <td>2.7</td>\n",
       "      <td>Royal Challengers Bangalore</td>\n",
       "      <td>Kolkata Knight Riders</td>\n",
       "      <td>W Jaffer</td>\n",
       "      <td>JH Kallis</td>\n",
       "      <td>AB Dinda</td>\n",
       "      <td>1</td>\n",
       "      <td>0</td>\n",
       "      <td>NaN</td>\n",
       "      <td>NaN</td>\n",
       "      <td>NaN</td>\n",
       "      <td>NaN</td>\n",
       "      <td>NaN</td>\n",
       "      <td>NaN</td>\n",
       "      <td>NaN</td>\n",
       "      <td>NaN</td>\n",
       "      <td>NaN</td>\n",
       "    </tr>\n",
       "    <tr>\n",
       "      <th>2</th>\n",
       "      <td>335982</td>\n",
       "      <td>2008</td>\n",
       "      <td>2008-04-18</td>\n",
       "      <td>M Chinnaswamy Stadium</td>\n",
       "      <td>2</td>\n",
       "      <td>3.1</td>\n",
       "      <td>Royal Challengers Bangalore</td>\n",
       "      <td>Kolkata Knight Riders</td>\n",
       "      <td>W Jaffer</td>\n",
       "      <td>JH Kallis</td>\n",
       "      <td>I Sharma</td>\n",
       "      <td>2</td>\n",
       "      <td>0</td>\n",
       "      <td>NaN</td>\n",
       "      <td>NaN</td>\n",
       "      <td>NaN</td>\n",
       "      <td>NaN</td>\n",
       "      <td>NaN</td>\n",
       "      <td>NaN</td>\n",
       "      <td>NaN</td>\n",
       "      <td>NaN</td>\n",
       "      <td>NaN</td>\n",
       "    </tr>\n",
       "    <tr>\n",
       "      <th>3</th>\n",
       "      <td>335982</td>\n",
       "      <td>2008</td>\n",
       "      <td>2008-04-18</td>\n",
       "      <td>M Chinnaswamy Stadium</td>\n",
       "      <td>2</td>\n",
       "      <td>3.2</td>\n",
       "      <td>Royal Challengers Bangalore</td>\n",
       "      <td>Kolkata Knight Riders</td>\n",
       "      <td>W Jaffer</td>\n",
       "      <td>JH Kallis</td>\n",
       "      <td>I Sharma</td>\n",
       "      <td>1</td>\n",
       "      <td>0</td>\n",
       "      <td>NaN</td>\n",
       "      <td>NaN</td>\n",
       "      <td>NaN</td>\n",
       "      <td>NaN</td>\n",
       "      <td>NaN</td>\n",
       "      <td>NaN</td>\n",
       "      <td>NaN</td>\n",
       "      <td>NaN</td>\n",
       "      <td>NaN</td>\n",
       "    </tr>\n",
       "    <tr>\n",
       "      <th>4</th>\n",
       "      <td>335982</td>\n",
       "      <td>2008</td>\n",
       "      <td>2008-04-18</td>\n",
       "      <td>M Chinnaswamy Stadium</td>\n",
       "      <td>2</td>\n",
       "      <td>3.3</td>\n",
       "      <td>Royal Challengers Bangalore</td>\n",
       "      <td>Kolkata Knight Riders</td>\n",
       "      <td>JH Kallis</td>\n",
       "      <td>W Jaffer</td>\n",
       "      <td>I Sharma</td>\n",
       "      <td>0</td>\n",
       "      <td>0</td>\n",
       "      <td>NaN</td>\n",
       "      <td>NaN</td>\n",
       "      <td>NaN</td>\n",
       "      <td>NaN</td>\n",
       "      <td>NaN</td>\n",
       "      <td>NaN</td>\n",
       "      <td>NaN</td>\n",
       "      <td>NaN</td>\n",
       "      <td>NaN</td>\n",
       "    </tr>\n",
       "  </tbody>\n",
       "</table>\n",
       "</div>"
      ],
      "text/plain": [
       "   match_id  season  start_date                  venue  innings  ball                 batting_team           bowling_team     striker non_striker      bowler  runs_off_bat  extras  wides  noballs  byes  legbyes  penalty wicket_type player_dismissed  other_wicket_type  other_player_dismissed\n",
       "0  335982    2008    2008-04-18  M Chinnaswamy Stadium  2        6.8   Royal Challengers Bangalore  Kolkata Knight Riders  MV Boucher  CL White    AB Agarkar  4             0      NaN    NaN      NaN   NaN      NaN       NaN         NaN             NaN                NaN                    \n",
       "1  335982    2008    2008-04-18  M Chinnaswamy Stadium  2        2.7   Royal Challengers Bangalore  Kolkata Knight Riders  W Jaffer    JH Kallis   AB Dinda    1             0      NaN    NaN      NaN   NaN      NaN       NaN         NaN             NaN                NaN                    \n",
       "2  335982    2008    2008-04-18  M Chinnaswamy Stadium  2        3.1   Royal Challengers Bangalore  Kolkata Knight Riders  W Jaffer    JH Kallis   I Sharma    2             0      NaN    NaN      NaN   NaN      NaN       NaN         NaN             NaN                NaN                    \n",
       "3  335982    2008    2008-04-18  M Chinnaswamy Stadium  2        3.2   Royal Challengers Bangalore  Kolkata Knight Riders  W Jaffer    JH Kallis   I Sharma    1             0      NaN    NaN      NaN   NaN      NaN       NaN         NaN             NaN                NaN                    \n",
       "4  335982    2008    2008-04-18  M Chinnaswamy Stadium  2        3.3   Royal Challengers Bangalore  Kolkata Knight Riders  JH Kallis   W Jaffer    I Sharma    0             0      NaN    NaN      NaN   NaN      NaN       NaN         NaN             NaN                NaN                    "
      ]
     },
     "execution_count": 2,
     "metadata": {},
     "output_type": "execute_result"
    }
   ],
   "source": [
    "df = pd.read_csv('IPL_ball_by_ball_updated.csv')\n",
    "df.head()"
   ]
  },
  {
   "cell_type": "markdown",
   "id": "d55ff260",
   "metadata": {},
   "source": [
    "## EDA"
   ]
  },
  {
   "cell_type": "code",
   "execution_count": 3,
   "id": "f4ee1219",
   "metadata": {},
   "outputs": [
    {
     "data": {
      "text/plain": [
       "array([2, 1, 4, 3, 6, 5], dtype=int64)"
      ]
     },
     "execution_count": 3,
     "metadata": {},
     "output_type": "execute_result"
    }
   ],
   "source": [
    "df.innings.unique()"
   ]
  },
  {
   "cell_type": "code",
   "execution_count": 4,
   "id": "274ef2f8",
   "metadata": {},
   "outputs": [],
   "source": [
    "df = df[(df.innings == 1) | (df.innings == 2)]"
   ]
  },
  {
   "cell_type": "code",
   "execution_count": 5,
   "id": "444643e4",
   "metadata": {},
   "outputs": [
    {
     "data": {
      "text/plain": [
       "array([2, 1], dtype=int64)"
      ]
     },
     "execution_count": 5,
     "metadata": {},
     "output_type": "execute_result"
    }
   ],
   "source": [
    "df.innings.unique()"
   ]
  },
  {
   "cell_type": "code",
   "execution_count": 6,
   "id": "18197458",
   "metadata": {},
   "outputs": [
    {
     "data": {
      "text/plain": [
       "(225792, 22)"
      ]
     },
     "execution_count": 6,
     "metadata": {},
     "output_type": "execute_result"
    }
   ],
   "source": [
    "df.shape"
   ]
  },
  {
   "cell_type": "code",
   "execution_count": 7,
   "id": "51241347",
   "metadata": {},
   "outputs": [
    {
     "name": "stdout",
     "output_type": "stream",
     "text": [
      "<class 'pandas.core.frame.DataFrame'>\n",
      "Int64Index: 225792 entries, 0 to 225952\n",
      "Data columns (total 22 columns):\n",
      " #   Column                  Non-Null Count   Dtype  \n",
      "---  ------                  --------------   -----  \n",
      " 0   match_id                225792 non-null  int64  \n",
      " 1   season                  225792 non-null  int64  \n",
      " 2   start_date              225792 non-null  object \n",
      " 3   venue                   225792 non-null  object \n",
      " 4   innings                 225792 non-null  int64  \n",
      " 5   ball                    225792 non-null  float64\n",
      " 6   batting_team            225792 non-null  object \n",
      " 7   bowling_team            225792 non-null  object \n",
      " 8   striker                 225792 non-null  object \n",
      " 9   non_striker             225792 non-null  object \n",
      " 10  bowler                  225792 non-null  object \n",
      " 11  runs_off_bat            225792 non-null  int64  \n",
      " 12  extras                  225792 non-null  int64  \n",
      " 13  wides                   7021 non-null    float64\n",
      " 14  noballs                 914 non-null     float64\n",
      " 15  byes                    581 non-null     float64\n",
      " 16  legbyes                 3523 non-null    float64\n",
      " 17  penalty                 2 non-null       float64\n",
      " 18  wicket_type             11124 non-null   object \n",
      " 19  player_dismissed        11124 non-null   object \n",
      " 20  other_wicket_type       0 non-null       float64\n",
      " 21  other_player_dismissed  0 non-null       float64\n",
      "dtypes: float64(8), int64(5), object(9)\n",
      "memory usage: 39.6+ MB\n"
     ]
    }
   ],
   "source": [
    "df.info()"
   ]
  },
  {
   "cell_type": "code",
   "execution_count": 8,
   "id": "f195ff36",
   "metadata": {},
   "outputs": [
    {
     "data": {
      "text/plain": [
       "array(['Royal Challengers Bangalore', 'Kolkata Knight Riders',\n",
       "       'Rajasthan Royals', 'Delhi Daredevils', 'Kings XI Punjab',\n",
       "       'Chennai Super Kings', 'Deccan Chargers', 'Mumbai Indians',\n",
       "       'Kochi Tuskers Kerala', 'Pune Warriors', 'Sunrisers Hyderabad',\n",
       "       'Rising Pune Supergiants', 'Gujarat Lions',\n",
       "       'Rising Pune Supergiant', 'Delhi Capitals', 'Punjab Kings',\n",
       "       'Gujarat Titans', 'Lucknow Super Giants'], dtype=object)"
      ]
     },
     "execution_count": 8,
     "metadata": {},
     "output_type": "execute_result"
    }
   ],
   "source": [
    "df.batting_team.unique()"
   ]
  },
  {
   "cell_type": "markdown",
   "id": "960ebed9",
   "metadata": {},
   "source": [
    "## Creating CSK's Dataframe"
   ]
  },
  {
   "cell_type": "code",
   "execution_count": 9,
   "id": "e3e39dd6",
   "metadata": {},
   "outputs": [
    {
     "data": {
      "text/html": [
       "<div>\n",
       "<style scoped>\n",
       "    .dataframe tbody tr th:only-of-type {\n",
       "        vertical-align: middle;\n",
       "    }\n",
       "\n",
       "    .dataframe tbody tr th {\n",
       "        vertical-align: top;\n",
       "    }\n",
       "\n",
       "    .dataframe thead th {\n",
       "        text-align: right;\n",
       "    }\n",
       "</style>\n",
       "<table border=\"1\" class=\"dataframe\">\n",
       "  <thead>\n",
       "    <tr style=\"text-align: right;\">\n",
       "      <th></th>\n",
       "      <th>match_id</th>\n",
       "      <th>season</th>\n",
       "      <th>start_date</th>\n",
       "      <th>venue</th>\n",
       "      <th>innings</th>\n",
       "      <th>ball</th>\n",
       "      <th>batting_team</th>\n",
       "      <th>bowling_team</th>\n",
       "      <th>striker</th>\n",
       "      <th>non_striker</th>\n",
       "      <th>bowler</th>\n",
       "      <th>runs_off_bat</th>\n",
       "      <th>extras</th>\n",
       "      <th>wides</th>\n",
       "      <th>noballs</th>\n",
       "      <th>byes</th>\n",
       "      <th>legbyes</th>\n",
       "      <th>penalty</th>\n",
       "      <th>wicket_type</th>\n",
       "      <th>player_dismissed</th>\n",
       "      <th>other_wicket_type</th>\n",
       "      <th>other_player_dismissed</th>\n",
       "    </tr>\n",
       "  </thead>\n",
       "  <tbody>\n",
       "    <tr>\n",
       "      <th>460</th>\n",
       "      <td>335983</td>\n",
       "      <td>2008</td>\n",
       "      <td>2008-04-19</td>\n",
       "      <td>Punjab Cricket Association Stadium, Mohali</td>\n",
       "      <td>1</td>\n",
       "      <td>13.2</td>\n",
       "      <td>Chennai Super Kings</td>\n",
       "      <td>Kings XI Punjab</td>\n",
       "      <td>MEK Hussey</td>\n",
       "      <td>JDP Oram</td>\n",
       "      <td>JR Hopes</td>\n",
       "      <td>0</td>\n",
       "      <td>0</td>\n",
       "      <td>NaN</td>\n",
       "      <td>NaN</td>\n",
       "      <td>NaN</td>\n",
       "      <td>NaN</td>\n",
       "      <td>NaN</td>\n",
       "      <td>NaN</td>\n",
       "      <td>NaN</td>\n",
       "      <td>NaN</td>\n",
       "      <td>NaN</td>\n",
       "    </tr>\n",
       "    <tr>\n",
       "      <th>461</th>\n",
       "      <td>335983</td>\n",
       "      <td>2008</td>\n",
       "      <td>2008-04-19</td>\n",
       "      <td>Punjab Cricket Association Stadium, Mohali</td>\n",
       "      <td>1</td>\n",
       "      <td>13.1</td>\n",
       "      <td>Chennai Super Kings</td>\n",
       "      <td>Kings XI Punjab</td>\n",
       "      <td>JDP Oram</td>\n",
       "      <td>MEK Hussey</td>\n",
       "      <td>JR Hopes</td>\n",
       "      <td>1</td>\n",
       "      <td>0</td>\n",
       "      <td>NaN</td>\n",
       "      <td>NaN</td>\n",
       "      <td>NaN</td>\n",
       "      <td>NaN</td>\n",
       "      <td>NaN</td>\n",
       "      <td>NaN</td>\n",
       "      <td>NaN</td>\n",
       "      <td>NaN</td>\n",
       "      <td>NaN</td>\n",
       "    </tr>\n",
       "  </tbody>\n",
       "</table>\n",
       "</div>"
      ],
      "text/plain": [
       "     match_id  season  start_date                                       venue  innings  ball         batting_team     bowling_team     striker non_striker    bowler  runs_off_bat  extras  wides  noballs  byes  legbyes  penalty wicket_type player_dismissed  other_wicket_type  other_player_dismissed\n",
       "460  335983    2008    2008-04-19  Punjab Cricket Association Stadium, Mohali  1        13.2  Chennai Super Kings  Kings XI Punjab  MEK Hussey  JDP Oram    JR Hopes  0             0      NaN    NaN      NaN   NaN      NaN       NaN         NaN             NaN                NaN                    \n",
       "461  335983    2008    2008-04-19  Punjab Cricket Association Stadium, Mohali  1        13.1  Chennai Super Kings  Kings XI Punjab  JDP Oram    MEK Hussey  JR Hopes  1             0      NaN    NaN      NaN   NaN      NaN       NaN         NaN             NaN                NaN                    "
      ]
     },
     "execution_count": 9,
     "metadata": {},
     "output_type": "execute_result"
    }
   ],
   "source": [
    "csk_df = df[df.batting_team == 'Chennai Super Kings']\n",
    "csk_df.head(2)"
   ]
  },
  {
   "cell_type": "code",
   "execution_count": 10,
   "id": "9518a963",
   "metadata": {},
   "outputs": [
    {
     "data": {
      "text/plain": [
       "(25123, 22)"
      ]
     },
     "execution_count": 10,
     "metadata": {},
     "output_type": "execute_result"
    }
   ],
   "source": [
    "csk_df.shape"
   ]
  },
  {
   "cell_type": "code",
   "execution_count": 11,
   "id": "7abe0225",
   "metadata": {},
   "outputs": [
    {
     "data": {
      "text/plain": [
       "array([ 335983,  335989,  335993,  335996,  336001,  336005,  336007,\n",
       "        336009,  336013,  336018,  336025,  336029,  336033,  336037,\n",
       "        336039,  336040,  392181,  392185,  392189,  392196,  392202,\n",
       "        392206,  392209,  392214,  392217,  392224,  392227,  392231,\n",
       "        392234,  392238,  419110,  419113,  419116,  419121,  419123,\n",
       "        419125,  419129,  419133,  419137,  419142,  419147,  419153,\n",
       "        419155,  419159,  419163,  419165,  501198,  501206,  501211,\n",
       "        501215,  501221,  501226,  501228,  501236,  501240,  501245,\n",
       "        501249,  501253,  501261,  501266,  501268,  501271,  548306,\n",
       "        548311,  548316,  548318,  548322,  548330,  548332,  548343,\n",
       "        548347,  548352,  548355,  548361,  548364,  548368,  548371,\n",
       "        548379,  548380,  548381,  598002,  598007,  598012,  598015,\n",
       "        598020,  598022,  598026,  598030,  598034,  598038,  598041,\n",
       "        598046,  598051,  598058,  598062,  598068,  598070,  598073,\n",
       "        729283,  729293,  729297,  729303,  729311,  733971,  733981,\n",
       "        733987,  733995,  734003,  734013,  734023,  734029,  734035,\n",
       "        734045,  734047,  829707,  829711,  829729,  829735,  829745,\n",
       "        829753,  829765,  829723,  829773,  829779,  829789,  829797,\n",
       "        829801,  829809,  829817,  829821,  829823, 1136561, 1136565,\n",
       "       1136572, 1136577, 1136580, 1136584, 1136587, 1136590, 1136593,\n",
       "       1136595, 1136603, 1136606, 1136612, 1136616, 1136617, 1136620,\n",
       "       1175356, 1175360, 1175367, 1175370, 1178393, 1178398, 1178400,\n",
       "       1178404, 1178408, 1178414, 1178416, 1178419, 1178425, 1178430,\n",
       "       1181764, 1181767, 1181768, 1216492, 1216496, 1216539, 1216516,\n",
       "       1216513, 1216501, 1216525, 1216528, 1216509, 1216533, 1216521,\n",
       "       1216544, 1216536, 1216506, 1254059, 1254065, 1254069, 1254072,\n",
       "       1254076, 1254080, 1254084, 1254104, 1254113, 1254098, 1254091,\n",
       "       1254089, 1254110, 1254094, 1254114, 1254117, 1304047, 1304053,\n",
       "       1304057, 1304063, 1304068, 1304075, 1304079, 1304084, 1304092,\n",
       "       1304095, 1304101, 1304105, 1304108, 1304114], dtype=int64)"
      ]
     },
     "execution_count": 11,
     "metadata": {},
     "output_type": "execute_result"
    }
   ],
   "source": [
    "csk_df.match_id.unique()"
   ]
  },
  {
   "cell_type": "code",
   "execution_count": 12,
   "id": "79cb62dd",
   "metadata": {},
   "outputs": [
    {
     "data": {
      "text/plain": [
       "208"
      ]
     },
     "execution_count": 12,
     "metadata": {},
     "output_type": "execute_result"
    }
   ],
   "source": [
    "len(csk_df.match_id.unique())"
   ]
  },
  {
   "cell_type": "code",
   "execution_count": 13,
   "id": "1c58fe9c",
   "metadata": {},
   "outputs": [
    {
     "data": {
      "text/plain": [
       "31725"
      ]
     },
     "execution_count": 13,
     "metadata": {},
     "output_type": "execute_result"
    }
   ],
   "source": [
    "# runs scored\n",
    "sum(csk_df.runs_off_bat)"
   ]
  },
  {
   "cell_type": "markdown",
   "id": "cd12f8cd",
   "metadata": {},
   "source": [
    "## CSK's data Before 2020 season"
   ]
  },
  {
   "cell_type": "code",
   "execution_count": 14,
   "id": "8f6dbbe4",
   "metadata": {},
   "outputs": [
    {
     "data": {
      "text/html": [
       "<div>\n",
       "<style scoped>\n",
       "    .dataframe tbody tr th:only-of-type {\n",
       "        vertical-align: middle;\n",
       "    }\n",
       "\n",
       "    .dataframe tbody tr th {\n",
       "        vertical-align: top;\n",
       "    }\n",
       "\n",
       "    .dataframe thead th {\n",
       "        text-align: right;\n",
       "    }\n",
       "</style>\n",
       "<table border=\"1\" class=\"dataframe\">\n",
       "  <thead>\n",
       "    <tr style=\"text-align: right;\">\n",
       "      <th></th>\n",
       "      <th>match_id</th>\n",
       "      <th>season</th>\n",
       "      <th>start_date</th>\n",
       "      <th>venue</th>\n",
       "      <th>innings</th>\n",
       "      <th>ball</th>\n",
       "      <th>batting_team</th>\n",
       "      <th>bowling_team</th>\n",
       "      <th>striker</th>\n",
       "      <th>non_striker</th>\n",
       "      <th>bowler</th>\n",
       "      <th>runs_off_bat</th>\n",
       "      <th>extras</th>\n",
       "      <th>wides</th>\n",
       "      <th>noballs</th>\n",
       "      <th>byes</th>\n",
       "      <th>legbyes</th>\n",
       "      <th>penalty</th>\n",
       "      <th>wicket_type</th>\n",
       "      <th>player_dismissed</th>\n",
       "      <th>other_wicket_type</th>\n",
       "      <th>other_player_dismissed</th>\n",
       "    </tr>\n",
       "  </thead>\n",
       "  <tbody>\n",
       "    <tr>\n",
       "      <th>460</th>\n",
       "      <td>335983</td>\n",
       "      <td>2008</td>\n",
       "      <td>2008-04-19</td>\n",
       "      <td>Punjab Cricket Association Stadium, Mohali</td>\n",
       "      <td>1</td>\n",
       "      <td>13.2</td>\n",
       "      <td>Chennai Super Kings</td>\n",
       "      <td>Kings XI Punjab</td>\n",
       "      <td>MEK Hussey</td>\n",
       "      <td>JDP Oram</td>\n",
       "      <td>JR Hopes</td>\n",
       "      <td>0</td>\n",
       "      <td>0</td>\n",
       "      <td>NaN</td>\n",
       "      <td>NaN</td>\n",
       "      <td>NaN</td>\n",
       "      <td>NaN</td>\n",
       "      <td>NaN</td>\n",
       "      <td>NaN</td>\n",
       "      <td>NaN</td>\n",
       "      <td>NaN</td>\n",
       "      <td>NaN</td>\n",
       "    </tr>\n",
       "    <tr>\n",
       "      <th>461</th>\n",
       "      <td>335983</td>\n",
       "      <td>2008</td>\n",
       "      <td>2008-04-19</td>\n",
       "      <td>Punjab Cricket Association Stadium, Mohali</td>\n",
       "      <td>1</td>\n",
       "      <td>13.1</td>\n",
       "      <td>Chennai Super Kings</td>\n",
       "      <td>Kings XI Punjab</td>\n",
       "      <td>JDP Oram</td>\n",
       "      <td>MEK Hussey</td>\n",
       "      <td>JR Hopes</td>\n",
       "      <td>1</td>\n",
       "      <td>0</td>\n",
       "      <td>NaN</td>\n",
       "      <td>NaN</td>\n",
       "      <td>NaN</td>\n",
       "      <td>NaN</td>\n",
       "      <td>NaN</td>\n",
       "      <td>NaN</td>\n",
       "      <td>NaN</td>\n",
       "      <td>NaN</td>\n",
       "      <td>NaN</td>\n",
       "    </tr>\n",
       "  </tbody>\n",
       "</table>\n",
       "</div>"
      ],
      "text/plain": [
       "     match_id  season  start_date                                       venue  innings  ball         batting_team     bowling_team     striker non_striker    bowler  runs_off_bat  extras  wides  noballs  byes  legbyes  penalty wicket_type player_dismissed  other_wicket_type  other_player_dismissed\n",
       "460  335983    2008    2008-04-19  Punjab Cricket Association Stadium, Mohali  1        13.2  Chennai Super Kings  Kings XI Punjab  MEK Hussey  JDP Oram    JR Hopes  0             0      NaN    NaN      NaN   NaN      NaN       NaN         NaN             NaN                NaN                    \n",
       "461  335983    2008    2008-04-19  Punjab Cricket Association Stadium, Mohali  1        13.1  Chennai Super Kings  Kings XI Punjab  JDP Oram    MEK Hussey  JR Hopes  1             0      NaN    NaN      NaN   NaN      NaN       NaN         NaN             NaN                NaN                    "
      ]
     },
     "execution_count": 14,
     "metadata": {},
     "output_type": "execute_result"
    }
   ],
   "source": [
    "csk_df_old = csk_df[(csk_df.season <= 2020)]\n",
    "csk_df_old.head(2)"
   ]
  },
  {
   "cell_type": "code",
   "execution_count": 15,
   "id": "1a46c760",
   "metadata": {},
   "outputs": [
    {
     "data": {
      "text/plain": [
       "178"
      ]
     },
     "execution_count": 15,
     "metadata": {},
     "output_type": "execute_result"
    }
   ],
   "source": [
    "len(csk_df_old.match_id.unique())"
   ]
  },
  {
   "cell_type": "code",
   "execution_count": 16,
   "id": "bdda1c40",
   "metadata": {},
   "outputs": [
    {
     "data": {
      "text/plain": [
       "26953"
      ]
     },
     "execution_count": 16,
     "metadata": {},
     "output_type": "execute_result"
    }
   ],
   "source": [
    "sum(csk_df_old.runs_off_bat) # total Runs Scored by CSK till 2020"
   ]
  },
  {
   "cell_type": "code",
   "execution_count": 17,
   "id": "8fe64203",
   "metadata": {},
   "outputs": [
    {
     "data": {
      "text/html": [
       "<div>\n",
       "<style scoped>\n",
       "    .dataframe tbody tr th:only-of-type {\n",
       "        vertical-align: middle;\n",
       "    }\n",
       "\n",
       "    .dataframe tbody tr th {\n",
       "        vertical-align: top;\n",
       "    }\n",
       "\n",
       "    .dataframe thead th {\n",
       "        text-align: right;\n",
       "    }\n",
       "</style>\n",
       "<table border=\"1\" class=\"dataframe\">\n",
       "  <thead>\n",
       "    <tr style=\"text-align: right;\">\n",
       "      <th></th>\n",
       "      <th>match_id</th>\n",
       "      <th>season</th>\n",
       "      <th>start_date</th>\n",
       "      <th>venue</th>\n",
       "      <th>innings</th>\n",
       "      <th>ball</th>\n",
       "      <th>batting_team</th>\n",
       "      <th>bowling_team</th>\n",
       "      <th>striker</th>\n",
       "      <th>non_striker</th>\n",
       "      <th>bowler</th>\n",
       "      <th>runs_off_bat</th>\n",
       "      <th>extras</th>\n",
       "      <th>wides</th>\n",
       "      <th>noballs</th>\n",
       "      <th>byes</th>\n",
       "      <th>legbyes</th>\n",
       "      <th>penalty</th>\n",
       "      <th>wicket_type</th>\n",
       "      <th>player_dismissed</th>\n",
       "      <th>other_wicket_type</th>\n",
       "      <th>other_player_dismissed</th>\n",
       "    </tr>\n",
       "  </thead>\n",
       "  <tbody>\n",
       "    <tr>\n",
       "      <th>193896</th>\n",
       "      <td>1254059</td>\n",
       "      <td>2021</td>\n",
       "      <td>2021-04-10</td>\n",
       "      <td>Wankhede Stadium, Mumbai</td>\n",
       "      <td>1</td>\n",
       "      <td>19.6</td>\n",
       "      <td>Chennai Super Kings</td>\n",
       "      <td>Delhi Capitals</td>\n",
       "      <td>SM Curran</td>\n",
       "      <td>RA Jadeja</td>\n",
       "      <td>CR Woakes</td>\n",
       "      <td>0</td>\n",
       "      <td>0</td>\n",
       "      <td>NaN</td>\n",
       "      <td>NaN</td>\n",
       "      <td>NaN</td>\n",
       "      <td>NaN</td>\n",
       "      <td>NaN</td>\n",
       "      <td>bowled</td>\n",
       "      <td>SM Curran</td>\n",
       "      <td>NaN</td>\n",
       "      <td>NaN</td>\n",
       "    </tr>\n",
       "    <tr>\n",
       "      <th>193951</th>\n",
       "      <td>1254059</td>\n",
       "      <td>2021</td>\n",
       "      <td>2021-04-10</td>\n",
       "      <td>Wankhede Stadium, Mumbai</td>\n",
       "      <td>1</td>\n",
       "      <td>19.5</td>\n",
       "      <td>Chennai Super Kings</td>\n",
       "      <td>Delhi Capitals</td>\n",
       "      <td>RA Jadeja</td>\n",
       "      <td>SM Curran</td>\n",
       "      <td>CR Woakes</td>\n",
       "      <td>1</td>\n",
       "      <td>0</td>\n",
       "      <td>NaN</td>\n",
       "      <td>NaN</td>\n",
       "      <td>NaN</td>\n",
       "      <td>NaN</td>\n",
       "      <td>NaN</td>\n",
       "      <td>NaN</td>\n",
       "      <td>NaN</td>\n",
       "      <td>NaN</td>\n",
       "      <td>NaN</td>\n",
       "    </tr>\n",
       "  </tbody>\n",
       "</table>\n",
       "</div>"
      ],
      "text/plain": [
       "        match_id  season  start_date                     venue  innings  ball         batting_team    bowling_team    striker non_striker     bowler  runs_off_bat  extras  wides  noballs  byes  legbyes  penalty wicket_type player_dismissed  other_wicket_type  other_player_dismissed\n",
       "193896  1254059   2021    2021-04-10  Wankhede Stadium, Mumbai  1        19.6  Chennai Super Kings  Delhi Capitals  SM Curran  RA Jadeja   CR Woakes  0             0      NaN    NaN      NaN   NaN      NaN       bowled      SM Curran       NaN                NaN                    \n",
       "193951  1254059   2021    2021-04-10  Wankhede Stadium, Mumbai  1        19.5  Chennai Super Kings  Delhi Capitals  RA Jadeja  SM Curran   CR Woakes  1             0      NaN    NaN      NaN   NaN      NaN       NaN         NaN             NaN                NaN                    "
      ]
     },
     "execution_count": 17,
     "metadata": {},
     "output_type": "execute_result"
    }
   ],
   "source": [
    "csk_df_latest = csk_df[(csk_df.season >= 2021)]\n",
    "csk_df_latest.head(2)"
   ]
  },
  {
   "cell_type": "code",
   "execution_count": 18,
   "id": "3a6182bb",
   "metadata": {},
   "outputs": [
    {
     "data": {
      "text/plain": [
       "30"
      ]
     },
     "execution_count": 18,
     "metadata": {},
     "output_type": "execute_result"
    }
   ],
   "source": [
    "len(csk_df_latest.match_id.unique())"
   ]
  },
  {
   "cell_type": "code",
   "execution_count": 19,
   "id": "fe5984db",
   "metadata": {},
   "outputs": [
    {
     "data": {
      "text/plain": [
       "4772"
      ]
     },
     "execution_count": 19,
     "metadata": {},
     "output_type": "execute_result"
    }
   ],
   "source": [
    "sum(csk_df_latest.runs_off_bat) # total Runs Scored by CSK in Season 2021 & 2022"
   ]
  },
  {
   "cell_type": "markdown",
   "id": "493fb7a3",
   "metadata": {},
   "source": [
    "## Creating Dhoni's batting dataframe"
   ]
  },
  {
   "cell_type": "code",
   "execution_count": 20,
   "id": "dc1d37af",
   "metadata": {},
   "outputs": [
    {
     "data": {
      "text/html": [
       "<div>\n",
       "<style scoped>\n",
       "    .dataframe tbody tr th:only-of-type {\n",
       "        vertical-align: middle;\n",
       "    }\n",
       "\n",
       "    .dataframe tbody tr th {\n",
       "        vertical-align: top;\n",
       "    }\n",
       "\n",
       "    .dataframe thead th {\n",
       "        text-align: right;\n",
       "    }\n",
       "</style>\n",
       "<table border=\"1\" class=\"dataframe\">\n",
       "  <thead>\n",
       "    <tr style=\"text-align: right;\">\n",
       "      <th></th>\n",
       "      <th>match_id</th>\n",
       "      <th>season</th>\n",
       "      <th>start_date</th>\n",
       "      <th>venue</th>\n",
       "      <th>innings</th>\n",
       "      <th>ball</th>\n",
       "      <th>batting_team</th>\n",
       "      <th>bowling_team</th>\n",
       "      <th>striker</th>\n",
       "      <th>non_striker</th>\n",
       "      <th>bowler</th>\n",
       "      <th>runs_off_bat</th>\n",
       "      <th>extras</th>\n",
       "      <th>wides</th>\n",
       "      <th>noballs</th>\n",
       "      <th>byes</th>\n",
       "      <th>legbyes</th>\n",
       "      <th>penalty</th>\n",
       "      <th>wicket_type</th>\n",
       "      <th>player_dismissed</th>\n",
       "      <th>other_wicket_type</th>\n",
       "      <th>other_player_dismissed</th>\n",
       "    </tr>\n",
       "  </thead>\n",
       "  <tbody>\n",
       "    <tr>\n",
       "      <th>556</th>\n",
       "      <td>335983</td>\n",
       "      <td>2008</td>\n",
       "      <td>2008-04-19</td>\n",
       "      <td>Punjab Cricket Association Stadium, Mohali</td>\n",
       "      <td>1</td>\n",
       "      <td>7.1</td>\n",
       "      <td>Chennai Super Kings</td>\n",
       "      <td>Kings XI Punjab</td>\n",
       "      <td>MS Dhoni</td>\n",
       "      <td>MEK Hussey</td>\n",
       "      <td>JR Hopes</td>\n",
       "      <td>0</td>\n",
       "      <td>0</td>\n",
       "      <td>NaN</td>\n",
       "      <td>NaN</td>\n",
       "      <td>NaN</td>\n",
       "      <td>NaN</td>\n",
       "      <td>NaN</td>\n",
       "      <td>lbw</td>\n",
       "      <td>MS Dhoni</td>\n",
       "      <td>NaN</td>\n",
       "      <td>NaN</td>\n",
       "    </tr>\n",
       "    <tr>\n",
       "      <th>557</th>\n",
       "      <td>335983</td>\n",
       "      <td>2008</td>\n",
       "      <td>2008-04-19</td>\n",
       "      <td>Punjab Cricket Association Stadium, Mohali</td>\n",
       "      <td>1</td>\n",
       "      <td>6.6</td>\n",
       "      <td>Chennai Super Kings</td>\n",
       "      <td>Kings XI Punjab</td>\n",
       "      <td>MS Dhoni</td>\n",
       "      <td>MEK Hussey</td>\n",
       "      <td>IK Pathan</td>\n",
       "      <td>1</td>\n",
       "      <td>0</td>\n",
       "      <td>NaN</td>\n",
       "      <td>NaN</td>\n",
       "      <td>NaN</td>\n",
       "      <td>NaN</td>\n",
       "      <td>NaN</td>\n",
       "      <td>NaN</td>\n",
       "      <td>NaN</td>\n",
       "      <td>NaN</td>\n",
       "      <td>NaN</td>\n",
       "    </tr>\n",
       "    <tr>\n",
       "      <th>573</th>\n",
       "      <td>335983</td>\n",
       "      <td>2008</td>\n",
       "      <td>2008-04-19</td>\n",
       "      <td>Punjab Cricket Association Stadium, Mohali</td>\n",
       "      <td>1</td>\n",
       "      <td>6.3</td>\n",
       "      <td>Chennai Super Kings</td>\n",
       "      <td>Kings XI Punjab</td>\n",
       "      <td>MS Dhoni</td>\n",
       "      <td>MEK Hussey</td>\n",
       "      <td>IK Pathan</td>\n",
       "      <td>1</td>\n",
       "      <td>0</td>\n",
       "      <td>NaN</td>\n",
       "      <td>NaN</td>\n",
       "      <td>NaN</td>\n",
       "      <td>NaN</td>\n",
       "      <td>NaN</td>\n",
       "      <td>NaN</td>\n",
       "      <td>NaN</td>\n",
       "      <td>NaN</td>\n",
       "      <td>NaN</td>\n",
       "    </tr>\n",
       "    <tr>\n",
       "      <th>1753</th>\n",
       "      <td>335989</td>\n",
       "      <td>2008</td>\n",
       "      <td>2008-04-23</td>\n",
       "      <td>MA Chidambaram Stadium, Chepauk</td>\n",
       "      <td>1</td>\n",
       "      <td>19.5</td>\n",
       "      <td>Chennai Super Kings</td>\n",
       "      <td>Mumbai Indians</td>\n",
       "      <td>MS Dhoni</td>\n",
       "      <td>JDP Oram</td>\n",
       "      <td>MA Khote</td>\n",
       "      <td>0</td>\n",
       "      <td>0</td>\n",
       "      <td>NaN</td>\n",
       "      <td>NaN</td>\n",
       "      <td>NaN</td>\n",
       "      <td>NaN</td>\n",
       "      <td>NaN</td>\n",
       "      <td>caught</td>\n",
       "      <td>MS Dhoni</td>\n",
       "      <td>NaN</td>\n",
       "      <td>NaN</td>\n",
       "    </tr>\n",
       "    <tr>\n",
       "      <th>1818</th>\n",
       "      <td>335989</td>\n",
       "      <td>2008</td>\n",
       "      <td>2008-04-23</td>\n",
       "      <td>MA Chidambaram Stadium, Chepauk</td>\n",
       "      <td>1</td>\n",
       "      <td>15.3</td>\n",
       "      <td>Chennai Super Kings</td>\n",
       "      <td>Mumbai Indians</td>\n",
       "      <td>MS Dhoni</td>\n",
       "      <td>ML Hayden</td>\n",
       "      <td>DJ Bravo</td>\n",
       "      <td>0</td>\n",
       "      <td>0</td>\n",
       "      <td>NaN</td>\n",
       "      <td>NaN</td>\n",
       "      <td>NaN</td>\n",
       "      <td>NaN</td>\n",
       "      <td>NaN</td>\n",
       "      <td>NaN</td>\n",
       "      <td>NaN</td>\n",
       "      <td>NaN</td>\n",
       "      <td>NaN</td>\n",
       "    </tr>\n",
       "  </tbody>\n",
       "</table>\n",
       "</div>"
      ],
      "text/plain": [
       "      match_id  season  start_date                                       venue  innings  ball         batting_team     bowling_team   striker non_striker     bowler  runs_off_bat  extras  wides  noballs  byes  legbyes  penalty wicket_type player_dismissed  other_wicket_type  other_player_dismissed\n",
       "556   335983    2008    2008-04-19  Punjab Cricket Association Stadium, Mohali  1        7.1   Chennai Super Kings  Kings XI Punjab  MS Dhoni  MEK Hussey  JR Hopes   0             0      NaN    NaN      NaN   NaN      NaN       lbw         MS Dhoni        NaN                NaN                    \n",
       "557   335983    2008    2008-04-19  Punjab Cricket Association Stadium, Mohali  1        6.6   Chennai Super Kings  Kings XI Punjab  MS Dhoni  MEK Hussey  IK Pathan  1             0      NaN    NaN      NaN   NaN      NaN       NaN         NaN             NaN                NaN                    \n",
       "573   335983    2008    2008-04-19  Punjab Cricket Association Stadium, Mohali  1        6.3   Chennai Super Kings  Kings XI Punjab  MS Dhoni  MEK Hussey  IK Pathan  1             0      NaN    NaN      NaN   NaN      NaN       NaN         NaN             NaN                NaN                    \n",
       "1753  335989    2008    2008-04-23  MA Chidambaram Stadium, Chepauk             1        19.5  Chennai Super Kings  Mumbai Indians   MS Dhoni  JDP Oram    MA Khote   0             0      NaN    NaN      NaN   NaN      NaN       caught      MS Dhoni        NaN                NaN                    \n",
       "1818  335989    2008    2008-04-23  MA Chidambaram Stadium, Chepauk             1        15.3  Chennai Super Kings  Mumbai Indians   MS Dhoni  ML Hayden   DJ Bravo   0             0      NaN    NaN      NaN   NaN      NaN       NaN         NaN             NaN                NaN                    "
      ]
     },
     "execution_count": 20,
     "metadata": {},
     "output_type": "execute_result"
    }
   ],
   "source": [
    "dhoni_df= csk_df[csk_df.striker == 'MS Dhoni']\n",
    "dhoni_df.head()"
   ]
  },
  {
   "cell_type": "code",
   "execution_count": 21,
   "id": "6f4a774b",
   "metadata": {},
   "outputs": [
    {
     "data": {
      "text/plain": [
       "(3321, 22)"
      ]
     },
     "execution_count": 21,
     "metadata": {},
     "output_type": "execute_result"
    }
   ],
   "source": [
    "dhoni_df.shape"
   ]
  },
  {
   "cell_type": "code",
   "execution_count": 22,
   "id": "3786a56c",
   "metadata": {},
   "outputs": [
    {
     "data": {
      "text/plain": [
       "178"
      ]
     },
     "execution_count": 22,
     "metadata": {},
     "output_type": "execute_result"
    }
   ],
   "source": [
    "len(dhoni_df.match_id.unique())"
   ]
  },
  {
   "cell_type": "code",
   "execution_count": 23,
   "id": "32cc4c40",
   "metadata": {},
   "outputs": [
    {
     "data": {
      "text/plain": [
       "4404"
      ]
     },
     "execution_count": 23,
     "metadata": {},
     "output_type": "execute_result"
    }
   ],
   "source": [
    "sum(dhoni_df.runs_off_bat) # total Runs Scored by Dhoni in all Seasons"
   ]
  },
  {
   "cell_type": "code",
   "execution_count": 24,
   "id": "ed7197ff",
   "metadata": {},
   "outputs": [
    {
     "data": {
      "text/plain": [
       "132.61065943992773"
      ]
     },
     "execution_count": 24,
     "metadata": {},
     "output_type": "execute_result"
    }
   ],
   "source": [
    "# Dhoni's Overall strike rate \n",
    "dhoni_SR = 100*sum(dhoni_df.runs_off_bat)/len(dhoni_df)\n",
    "\n",
    "dhoni_SR"
   ]
  },
  {
   "cell_type": "markdown",
   "id": "9e85552f",
   "metadata": {},
   "source": [
    "## till 2020"
   ]
  },
  {
   "cell_type": "code",
   "execution_count": 25,
   "id": "34f2396a",
   "metadata": {},
   "outputs": [
    {
     "data": {
      "text/html": [
       "<div>\n",
       "<style scoped>\n",
       "    .dataframe tbody tr th:only-of-type {\n",
       "        vertical-align: middle;\n",
       "    }\n",
       "\n",
       "    .dataframe tbody tr th {\n",
       "        vertical-align: top;\n",
       "    }\n",
       "\n",
       "    .dataframe thead th {\n",
       "        text-align: right;\n",
       "    }\n",
       "</style>\n",
       "<table border=\"1\" class=\"dataframe\">\n",
       "  <thead>\n",
       "    <tr style=\"text-align: right;\">\n",
       "      <th></th>\n",
       "      <th>match_id</th>\n",
       "      <th>season</th>\n",
       "      <th>start_date</th>\n",
       "      <th>venue</th>\n",
       "      <th>innings</th>\n",
       "      <th>ball</th>\n",
       "      <th>batting_team</th>\n",
       "      <th>bowling_team</th>\n",
       "      <th>striker</th>\n",
       "      <th>non_striker</th>\n",
       "      <th>bowler</th>\n",
       "      <th>runs_off_bat</th>\n",
       "      <th>extras</th>\n",
       "      <th>wides</th>\n",
       "      <th>noballs</th>\n",
       "      <th>byes</th>\n",
       "      <th>legbyes</th>\n",
       "      <th>penalty</th>\n",
       "      <th>wicket_type</th>\n",
       "      <th>player_dismissed</th>\n",
       "      <th>other_wicket_type</th>\n",
       "      <th>other_player_dismissed</th>\n",
       "    </tr>\n",
       "  </thead>\n",
       "  <tbody>\n",
       "    <tr>\n",
       "      <th>556</th>\n",
       "      <td>335983</td>\n",
       "      <td>2008</td>\n",
       "      <td>2008-04-19</td>\n",
       "      <td>Punjab Cricket Association Stadium, Mohali</td>\n",
       "      <td>1</td>\n",
       "      <td>7.1</td>\n",
       "      <td>Chennai Super Kings</td>\n",
       "      <td>Kings XI Punjab</td>\n",
       "      <td>MS Dhoni</td>\n",
       "      <td>MEK Hussey</td>\n",
       "      <td>JR Hopes</td>\n",
       "      <td>0</td>\n",
       "      <td>0</td>\n",
       "      <td>NaN</td>\n",
       "      <td>NaN</td>\n",
       "      <td>NaN</td>\n",
       "      <td>NaN</td>\n",
       "      <td>NaN</td>\n",
       "      <td>lbw</td>\n",
       "      <td>MS Dhoni</td>\n",
       "      <td>NaN</td>\n",
       "      <td>NaN</td>\n",
       "    </tr>\n",
       "  </tbody>\n",
       "</table>\n",
       "</div>"
      ],
      "text/plain": [
       "     match_id  season  start_date                                       venue  innings  ball         batting_team     bowling_team   striker non_striker    bowler  runs_off_bat  extras  wides  noballs  byes  legbyes  penalty wicket_type player_dismissed  other_wicket_type  other_player_dismissed\n",
       "556  335983    2008    2008-04-19  Punjab Cricket Association Stadium, Mohali  1        7.1   Chennai Super Kings  Kings XI Punjab  MS Dhoni  MEK Hussey  JR Hopes  0             0      NaN    NaN      NaN   NaN      NaN       lbw         MS Dhoni        NaN                NaN                    "
      ]
     },
     "execution_count": 25,
     "metadata": {},
     "output_type": "execute_result"
    }
   ],
   "source": [
    "dhoni_df_old = dhoni_df[(dhoni_df.season <= 2020)]\n",
    "dhoni_df_old.head(1)"
   ]
  },
  {
   "cell_type": "code",
   "execution_count": 26,
   "id": "f2f01788",
   "metadata": {},
   "outputs": [
    {
     "data": {
      "text/html": [
       "<div>\n",
       "<style scoped>\n",
       "    .dataframe tbody tr th:only-of-type {\n",
       "        vertical-align: middle;\n",
       "    }\n",
       "\n",
       "    .dataframe tbody tr th {\n",
       "        vertical-align: top;\n",
       "    }\n",
       "\n",
       "    .dataframe thead th {\n",
       "        text-align: right;\n",
       "    }\n",
       "</style>\n",
       "<table border=\"1\" class=\"dataframe\">\n",
       "  <thead>\n",
       "    <tr style=\"text-align: right;\">\n",
       "      <th></th>\n",
       "      <th>match_id</th>\n",
       "      <th>season</th>\n",
       "      <th>start_date</th>\n",
       "      <th>venue</th>\n",
       "      <th>innings</th>\n",
       "      <th>ball</th>\n",
       "      <th>batting_team</th>\n",
       "      <th>bowling_team</th>\n",
       "      <th>striker</th>\n",
       "      <th>non_striker</th>\n",
       "      <th>bowler</th>\n",
       "      <th>runs_off_bat</th>\n",
       "      <th>extras</th>\n",
       "      <th>wides</th>\n",
       "      <th>noballs</th>\n",
       "      <th>byes</th>\n",
       "      <th>legbyes</th>\n",
       "      <th>penalty</th>\n",
       "      <th>wicket_type</th>\n",
       "      <th>player_dismissed</th>\n",
       "      <th>other_wicket_type</th>\n",
       "      <th>other_player_dismissed</th>\n",
       "    </tr>\n",
       "  </thead>\n",
       "  <tbody>\n",
       "    <tr>\n",
       "      <th>190846</th>\n",
       "      <td>1216536</td>\n",
       "      <td>2020</td>\n",
       "      <td>2020-10-29</td>\n",
       "      <td>Dubai International Cricket Stadium</td>\n",
       "      <td>2</td>\n",
       "      <td>14.4</td>\n",
       "      <td>Chennai Super Kings</td>\n",
       "      <td>Kolkata Knight Riders</td>\n",
       "      <td>MS Dhoni</td>\n",
       "      <td>RD Gaikwad</td>\n",
       "      <td>CV Varun</td>\n",
       "      <td>0</td>\n",
       "      <td>0</td>\n",
       "      <td>NaN</td>\n",
       "      <td>NaN</td>\n",
       "      <td>NaN</td>\n",
       "      <td>NaN</td>\n",
       "      <td>NaN</td>\n",
       "      <td>bowled</td>\n",
       "      <td>MS Dhoni</td>\n",
       "      <td>NaN</td>\n",
       "      <td>NaN</td>\n",
       "    </tr>\n",
       "  </tbody>\n",
       "</table>\n",
       "</div>"
      ],
      "text/plain": [
       "        match_id  season  start_date                                venue  innings  ball         batting_team           bowling_team   striker non_striker    bowler  runs_off_bat  extras  wides  noballs  byes  legbyes  penalty wicket_type player_dismissed  other_wicket_type  other_player_dismissed\n",
       "190846  1216536   2020    2020-10-29  Dubai International Cricket Stadium  2        14.4  Chennai Super Kings  Kolkata Knight Riders  MS Dhoni  RD Gaikwad  CV Varun  0             0      NaN    NaN      NaN   NaN      NaN       bowled      MS Dhoni        NaN                NaN                    "
      ]
     },
     "execution_count": 26,
     "metadata": {},
     "output_type": "execute_result"
    }
   ],
   "source": [
    "dhoni_df_old.tail(1)"
   ]
  },
  {
   "cell_type": "code",
   "execution_count": 27,
   "id": "147330c8",
   "metadata": {},
   "outputs": [
    {
     "data": {
      "text/plain": [
       "(3012, 22)"
      ]
     },
     "execution_count": 27,
     "metadata": {},
     "output_type": "execute_result"
    }
   ],
   "source": [
    "dhoni_df_old.shape"
   ]
  },
  {
   "cell_type": "code",
   "execution_count": 28,
   "id": "c4db7065",
   "metadata": {},
   "outputs": [
    {
     "data": {
      "text/plain": [
       "155"
      ]
     },
     "execution_count": 28,
     "metadata": {},
     "output_type": "execute_result"
    }
   ],
   "source": [
    "len(dhoni_df_old.match_id.unique())"
   ]
  },
  {
   "cell_type": "code",
   "execution_count": 29,
   "id": "d4153e42",
   "metadata": {},
   "outputs": [
    {
     "data": {
      "text/plain": [
       "4058"
      ]
     },
     "execution_count": 29,
     "metadata": {},
     "output_type": "execute_result"
    }
   ],
   "source": [
    "sum(dhoni_df_old.runs_off_bat) # total Runs Scored by Dhoni till 2020 season"
   ]
  },
  {
   "cell_type": "code",
   "execution_count": 30,
   "id": "e9a0319b",
   "metadata": {},
   "outputs": [
    {
     "data": {
      "text/plain": [
       "92"
      ]
     },
     "execution_count": 30,
     "metadata": {},
     "output_type": "execute_result"
    }
   ],
   "source": [
    "# outs\n",
    "len(dhoni_df_old[dhoni_df_old.player_dismissed == 'MS Dhoni'])"
   ]
  },
  {
   "cell_type": "code",
   "execution_count": 31,
   "id": "595b0a6a",
   "metadata": {},
   "outputs": [
    {
     "data": {
      "text/plain": [
       "134.7277556440903"
      ]
     },
     "execution_count": 31,
     "metadata": {},
     "output_type": "execute_result"
    }
   ],
   "source": [
    "# strike rate\n",
    "dhoni_old_SR = 100*sum(dhoni_df_old.runs_off_bat)/len(dhoni_df_old)\n",
    "\n",
    "dhoni_old_SR"
   ]
  },
  {
   "cell_type": "code",
   "execution_count": 32,
   "id": "b05f350b",
   "metadata": {},
   "outputs": [
    {
     "data": {
      "text/plain": [
       "26.18064516129032"
      ]
     },
     "execution_count": 32,
     "metadata": {},
     "output_type": "execute_result"
    }
   ],
   "source": [
    "# RPI\n",
    "sum(dhoni_df_old.runs_off_bat)/len(dhoni_df_old.match_id.unique())"
   ]
  },
  {
   "cell_type": "code",
   "execution_count": 33,
   "id": "b13bcaaa",
   "metadata": {},
   "outputs": [
    {
     "data": {
      "text/plain": [
       "15.055837940117984"
      ]
     },
     "execution_count": 33,
     "metadata": {},
     "output_type": "execute_result"
    }
   ],
   "source": [
    "# Team Contribution\n",
    "100*sum(dhoni_df_old.runs_off_bat)/sum(csk_df_old['runs_off_bat']) # Dhoni's Team Contribution till season 2020 is approx 15%"
   ]
  },
  {
   "cell_type": "markdown",
   "id": "d481c48d",
   "metadata": {},
   "source": [
    "## 2021 & 2022"
   ]
  },
  {
   "cell_type": "code",
   "execution_count": 34,
   "id": "10292402",
   "metadata": {},
   "outputs": [
    {
     "data": {
      "text/html": [
       "<div>\n",
       "<style scoped>\n",
       "    .dataframe tbody tr th:only-of-type {\n",
       "        vertical-align: middle;\n",
       "    }\n",
       "\n",
       "    .dataframe tbody tr th {\n",
       "        vertical-align: top;\n",
       "    }\n",
       "\n",
       "    .dataframe thead th {\n",
       "        text-align: right;\n",
       "    }\n",
       "</style>\n",
       "<table border=\"1\" class=\"dataframe\">\n",
       "  <thead>\n",
       "    <tr style=\"text-align: right;\">\n",
       "      <th></th>\n",
       "      <th>match_id</th>\n",
       "      <th>season</th>\n",
       "      <th>start_date</th>\n",
       "      <th>venue</th>\n",
       "      <th>innings</th>\n",
       "      <th>ball</th>\n",
       "      <th>batting_team</th>\n",
       "      <th>bowling_team</th>\n",
       "      <th>striker</th>\n",
       "      <th>non_striker</th>\n",
       "      <th>bowler</th>\n",
       "      <th>runs_off_bat</th>\n",
       "      <th>extras</th>\n",
       "      <th>wides</th>\n",
       "      <th>noballs</th>\n",
       "      <th>byes</th>\n",
       "      <th>legbyes</th>\n",
       "      <th>penalty</th>\n",
       "      <th>wicket_type</th>\n",
       "      <th>player_dismissed</th>\n",
       "      <th>other_wicket_type</th>\n",
       "      <th>other_player_dismissed</th>\n",
       "    </tr>\n",
       "  </thead>\n",
       "  <tbody>\n",
       "    <tr>\n",
       "      <th>194049</th>\n",
       "      <td>1254059</td>\n",
       "      <td>2021</td>\n",
       "      <td>2021-04-10</td>\n",
       "      <td>Wankhede Stadium, Mumbai</td>\n",
       "      <td>1</td>\n",
       "      <td>15.2</td>\n",
       "      <td>Chennai Super Kings</td>\n",
       "      <td>Delhi Capitals</td>\n",
       "      <td>MS Dhoni</td>\n",
       "      <td>RA Jadeja</td>\n",
       "      <td>Avesh Khan</td>\n",
       "      <td>0</td>\n",
       "      <td>0</td>\n",
       "      <td>NaN</td>\n",
       "      <td>NaN</td>\n",
       "      <td>NaN</td>\n",
       "      <td>NaN</td>\n",
       "      <td>NaN</td>\n",
       "      <td>NaN</td>\n",
       "      <td>NaN</td>\n",
       "      <td>NaN</td>\n",
       "      <td>NaN</td>\n",
       "    </tr>\n",
       "  </tbody>\n",
       "</table>\n",
       "</div>"
      ],
      "text/plain": [
       "        match_id  season  start_date                     venue  innings  ball         batting_team    bowling_team   striker non_striker      bowler  runs_off_bat  extras  wides  noballs  byes  legbyes  penalty wicket_type player_dismissed  other_wicket_type  other_player_dismissed\n",
       "194049  1254059   2021    2021-04-10  Wankhede Stadium, Mumbai  1        15.2  Chennai Super Kings  Delhi Capitals  MS Dhoni  RA Jadeja   Avesh Khan  0             0      NaN    NaN      NaN   NaN      NaN       NaN         NaN             NaN                NaN                    "
      ]
     },
     "execution_count": 34,
     "metadata": {},
     "output_type": "execute_result"
    }
   ],
   "source": [
    "dhoni_df_latest = dhoni_df[(dhoni_df.season >= 2021)]\n",
    "dhoni_df_latest.head(1)"
   ]
  },
  {
   "cell_type": "code",
   "execution_count": 35,
   "id": "1fbf5d6b",
   "metadata": {},
   "outputs": [
    {
     "data": {
      "text/plain": [
       "(309, 22)"
      ]
     },
     "execution_count": 35,
     "metadata": {},
     "output_type": "execute_result"
    }
   ],
   "source": [
    "dhoni_df_latest.shape"
   ]
  },
  {
   "cell_type": "code",
   "execution_count": 36,
   "id": "17f3f488",
   "metadata": {},
   "outputs": [
    {
     "data": {
      "text/plain": [
       "23"
      ]
     },
     "execution_count": 36,
     "metadata": {},
     "output_type": "execute_result"
    }
   ],
   "source": [
    "len(dhoni_df_latest.match_id.unique())"
   ]
  },
  {
   "cell_type": "code",
   "execution_count": 37,
   "id": "32421ecf",
   "metadata": {},
   "outputs": [
    {
     "data": {
      "text/plain": [
       "346"
      ]
     },
     "execution_count": 37,
     "metadata": {},
     "output_type": "execute_result"
    }
   ],
   "source": [
    "sum(dhoni_df_latest.runs_off_bat)"
   ]
  },
  {
   "cell_type": "code",
   "execution_count": 38,
   "id": "7ab4f2d5",
   "metadata": {},
   "outputs": [
    {
     "data": {
      "text/plain": [
       "14"
      ]
     },
     "execution_count": 38,
     "metadata": {},
     "output_type": "execute_result"
    }
   ],
   "source": [
    "# outs\n",
    "len(dhoni_df_latest[dhoni_df_latest.player_dismissed == 'MS Dhoni'])"
   ]
  },
  {
   "cell_type": "code",
   "execution_count": 39,
   "id": "3f0229f9",
   "metadata": {},
   "outputs": [
    {
     "data": {
      "text/plain": [
       "111.97411003236246"
      ]
     },
     "execution_count": 39,
     "metadata": {},
     "output_type": "execute_result"
    }
   ],
   "source": [
    "# strike rate\n",
    "dhoni_latest_SR = 100*sum(dhoni_df_latest.runs_off_bat)/len(dhoni_df_latest)\n",
    "dhoni_latest_SR"
   ]
  },
  {
   "cell_type": "code",
   "execution_count": 40,
   "id": "4130da6a",
   "metadata": {},
   "outputs": [
    {
     "data": {
      "text/plain": [
       "15.043478260869565"
      ]
     },
     "execution_count": 40,
     "metadata": {},
     "output_type": "execute_result"
    }
   ],
   "source": [
    "# RPI\n",
    "sum(dhoni_df_latest.runs_off_bat)/len(dhoni_df_latest.match_id.unique())"
   ]
  },
  {
   "cell_type": "code",
   "execution_count": 41,
   "id": "d2c531f2",
   "metadata": {},
   "outputs": [
    {
     "data": {
      "text/plain": [
       "7.250628667225482"
      ]
     },
     "execution_count": 41,
     "metadata": {},
     "output_type": "execute_result"
    }
   ],
   "source": [
    "# Team Contribution\n",
    "100*sum(dhoni_df_latest.runs_off_bat)/sum(csk_df_latest['runs_off_bat']) # Dhoni's Team Contribution in 2021 and 2022 is only 7.25%"
   ]
  },
  {
   "cell_type": "markdown",
   "id": "d3702e55",
   "metadata": {},
   "source": [
    "## Dhoni preformance\n",
    "- till 2020 Runs =  4058 ,Strike Rate = 134 , Team Runs Contribution = 15%\n",
    "- in 2021 & 2022 Runs =  346 ,Strike Rate = 112 , Team Runs Contribution = 7% "
   ]
  },
  {
   "cell_type": "markdown",
   "id": "5e4b33b7",
   "metadata": {},
   "source": [
    "# Visualizations"
   ]
  },
  {
   "cell_type": "code",
   "execution_count": 42,
   "id": "41cdc636",
   "metadata": {},
   "outputs": [
    {
     "data": {
      "text/html": [
       "<div>\n",
       "<style scoped>\n",
       "    .dataframe tbody tr th:only-of-type {\n",
       "        vertical-align: middle;\n",
       "    }\n",
       "\n",
       "    .dataframe tbody tr th {\n",
       "        vertical-align: top;\n",
       "    }\n",
       "\n",
       "    .dataframe thead th {\n",
       "        text-align: right;\n",
       "    }\n",
       "</style>\n",
       "<table border=\"1\" class=\"dataframe\">\n",
       "  <thead>\n",
       "    <tr style=\"text-align: right;\">\n",
       "      <th></th>\n",
       "      <th>match_id</th>\n",
       "      <th>season</th>\n",
       "      <th>start_date</th>\n",
       "      <th>venue</th>\n",
       "      <th>innings</th>\n",
       "      <th>ball</th>\n",
       "      <th>batting_team</th>\n",
       "      <th>bowling_team</th>\n",
       "      <th>striker</th>\n",
       "      <th>non_striker</th>\n",
       "      <th>bowler</th>\n",
       "      <th>runs_off_bat</th>\n",
       "      <th>extras</th>\n",
       "      <th>wides</th>\n",
       "      <th>noballs</th>\n",
       "      <th>byes</th>\n",
       "      <th>legbyes</th>\n",
       "      <th>penalty</th>\n",
       "      <th>wicket_type</th>\n",
       "      <th>player_dismissed</th>\n",
       "      <th>other_wicket_type</th>\n",
       "      <th>other_player_dismissed</th>\n",
       "    </tr>\n",
       "  </thead>\n",
       "  <tbody>\n",
       "    <tr>\n",
       "      <th>460</th>\n",
       "      <td>335983</td>\n",
       "      <td>2008</td>\n",
       "      <td>2008-04-19</td>\n",
       "      <td>Punjab Cricket Association Stadium, Mohali</td>\n",
       "      <td>1</td>\n",
       "      <td>13.2</td>\n",
       "      <td>Chennai Super Kings</td>\n",
       "      <td>Kings XI Punjab</td>\n",
       "      <td>MEK Hussey</td>\n",
       "      <td>JDP Oram</td>\n",
       "      <td>JR Hopes</td>\n",
       "      <td>0</td>\n",
       "      <td>0</td>\n",
       "      <td>NaN</td>\n",
       "      <td>NaN</td>\n",
       "      <td>NaN</td>\n",
       "      <td>NaN</td>\n",
       "      <td>NaN</td>\n",
       "      <td>NaN</td>\n",
       "      <td>NaN</td>\n",
       "      <td>NaN</td>\n",
       "      <td>NaN</td>\n",
       "    </tr>\n",
       "  </tbody>\n",
       "</table>\n",
       "</div>"
      ],
      "text/plain": [
       "     match_id  season  start_date                                       venue  innings  ball         batting_team     bowling_team     striker non_striker    bowler  runs_off_bat  extras  wides  noballs  byes  legbyes  penalty wicket_type player_dismissed  other_wicket_type  other_player_dismissed\n",
       "460  335983    2008    2008-04-19  Punjab Cricket Association Stadium, Mohali  1        13.2  Chennai Super Kings  Kings XI Punjab  MEK Hussey  JDP Oram    JR Hopes  0             0      NaN    NaN      NaN   NaN      NaN       NaN         NaN             NaN                NaN                    "
      ]
     },
     "execution_count": 42,
     "metadata": {},
     "output_type": "execute_result"
    }
   ],
   "source": [
    "csk_df.head(1)"
   ]
  },
  {
   "cell_type": "code",
   "execution_count": 43,
   "id": "dabd05e8",
   "metadata": {},
   "outputs": [
    {
     "data": {
      "text/plain": [
       "striker\n",
       "SK Raina        4687\n",
       "MS Dhoni        4404\n",
       "F du Plessis    2721\n",
       "AT Rayudu       1774\n",
       "MEK Hussey      1768\n",
       "M Vijay         1708\n",
       "S Badrinath     1441\n",
       "RA Jadeja       1440\n",
       "SR Watson       1252\n",
       "RD Gaikwad      1207\n",
       "Name: runs_off_bat, dtype: int64"
      ]
     },
     "execution_count": 43,
     "metadata": {},
     "output_type": "execute_result"
    }
   ],
   "source": [
    "csk_df.groupby(['striker'])['runs_off_bat'].sum().sort_values(ascending = False).head(10)"
   ]
  },
  {
   "cell_type": "code",
   "execution_count": 44,
   "id": "3de9f9dc",
   "metadata": {},
   "outputs": [
    {
     "data": {
      "image/png": "[encoded data removed]",
      "text/plain": [
       "<Figure size 1080x432 with 1 Axes>"
      ]
     },
     "metadata": {
      "needs_background": "light"
     },
     "output_type": "display_data"
    }
   ],
   "source": [
    "plt.figure(figsize = (15, 6))\n",
    "csk_df.groupby(['striker'])['runs_off_bat'].sum().sort_values(ascending = False).head(10).plot(kind = 'bar')\n",
    "plt.title('Top 10 Runs Scorers for CSK in All Seasons')\n",
    "plt.show()"
   ]
  },
  {
   "cell_type": "code",
   "execution_count": 45,
   "id": "26479f79",
   "metadata": {},
   "outputs": [
    {
     "data": {
      "text/plain": [
       "Text(0.5, 1.0, 'Runs by CSK Players In Season 2021 & 2022')"
      ]
     },
     "execution_count": 45,
     "metadata": {},
     "output_type": "execute_result"
    },
    {
     "data": {
      "image/png": "[encoded data removed]",
      "text/plain": [
       "<Figure size 1080x720 with 2 Axes>"
      ]
     },
     "metadata": {
      "needs_background": "light"
     },
     "output_type": "display_data"
    }
   ],
   "source": [
    "plt.figure(figsize = (15, 10))\n",
    "\n",
    "plt.subplot(221)\n",
    "csk_df_old.groupby(['striker'])['runs_off_bat'].sum().sort_values(ascending = False).head(10).plot(kind = 'bar')\n",
    "plt.title('Runs by CSK Players Season before 2020')\n",
    "\n",
    "plt.subplot(222)\n",
    "csk_df_latest.groupby(['striker'])['runs_off_bat'].sum().sort_values(ascending = False).head(10).plot(kind = 'bar')\n",
    "plt.title('Runs by CSK Players In Season 2021 & 2022')"
   ]
  },
  {
   "cell_type": "code",
   "execution_count": 46,
   "id": "e834b02f",
   "metadata": {},
   "outputs": [
    {
     "data": {
      "text/plain": [
       "season\n",
       "2008    414\n",
       "2009    332\n",
       "2010    287\n",
       "2011    392\n",
       "2012    358\n",
       "2013    461\n",
       "2014    371\n",
       "2015    372\n",
       "2018    455\n",
       "2019    416\n",
       "2020    200\n",
       "2021    114\n",
       "2022    232\n",
       "Name: runs_off_bat, dtype: int64"
      ]
     },
     "execution_count": 46,
     "metadata": {},
     "output_type": "execute_result"
    }
   ],
   "source": [
    "dhoni_df.groupby(['season'])['runs_off_bat'].sum()"
   ]
  },
  {
   "cell_type": "code",
   "execution_count": 47,
   "id": "1d0e52c1",
   "metadata": {},
   "outputs": [
    {
     "data": {
      "image/png": "[encoded data removed]",
      "text/plain": [
       "<Figure size 1080x432 with 1 Axes>"
      ]
     },
     "metadata": {
      "needs_background": "light"
     },
     "output_type": "display_data"
    }
   ],
   "source": [
    "plt.figure(figsize = (15, 6))\n",
    "dhoni_df.groupby(['season'])['runs_off_bat'].sum().plot(kind = 'bar')\n",
    "plt.title('MS Dhoni All Seasons Runs')\n",
    "plt.show()"
   ]
  },
  {
   "cell_type": "code",
   "execution_count": 48,
   "id": "1a7723f2",
   "metadata": {},
   "outputs": [
    {
     "data": {
      "text/plain": [
       "Text(0.5, 1.0, 'Runs by MS Dhoni In Season 2021 & 2022')"
      ]
     },
     "execution_count": 48,
     "metadata": {},
     "output_type": "execute_result"
    },
    {
     "data": {
      "image/png": "[encoded data removed]",
      "text/plain": [
       "<Figure size 1080x720 with 2 Axes>"
      ]
     },
     "metadata": {
      "needs_background": "light"
     },
     "output_type": "display_data"
    }
   ],
   "source": [
    "plt.figure(figsize = (15, 10))\n",
    "\n",
    "plt.subplot(221)\n",
    "dhoni_df_old.groupby(['season'])['runs_off_bat'].sum().plot(kind = 'bar')\n",
    "plt.title('Runs by MS Dhoni Upto 2020')\n",
    "\n",
    "plt.subplot(222)\n",
    "dhoni_df_latest.groupby(['season'])['runs_off_bat'].sum().plot(kind = 'bar')\n",
    "plt.title('Runs by MS Dhoni In Season 2021 & 2022')"
   ]
  },
  {
   "cell_type": "code",
   "execution_count": 49,
   "id": "e5b35d47",
   "metadata": {},
   "outputs": [
    {
     "data": {
      "text/html": [
       "<div>\n",
       "<style scoped>\n",
       "    .dataframe tbody tr th:only-of-type {\n",
       "        vertical-align: middle;\n",
       "    }\n",
       "\n",
       "    .dataframe tbody tr th {\n",
       "        vertical-align: top;\n",
       "    }\n",
       "\n",
       "    .dataframe thead th {\n",
       "        text-align: right;\n",
       "    }\n",
       "</style>\n",
       "<table border=\"1\" class=\"dataframe\">\n",
       "  <thead>\n",
       "    <tr style=\"text-align: right;\">\n",
       "      <th></th>\n",
       "      <th>striker</th>\n",
       "      <th>runs_off_bat</th>\n",
       "    </tr>\n",
       "  </thead>\n",
       "  <tbody>\n",
       "    <tr>\n",
       "      <th>0</th>\n",
       "      <td>A Flintoff</td>\n",
       "      <td>62</td>\n",
       "    </tr>\n",
       "    <tr>\n",
       "      <th>1</th>\n",
       "      <td>A Mukund</td>\n",
       "      <td>0</td>\n",
       "    </tr>\n",
       "    <tr>\n",
       "      <th>2</th>\n",
       "      <td>A Nehra</td>\n",
       "      <td>1</td>\n",
       "    </tr>\n",
       "    <tr>\n",
       "      <th>3</th>\n",
       "      <td>AS Rajpoot</td>\n",
       "      <td>2</td>\n",
       "    </tr>\n",
       "    <tr>\n",
       "      <th>4</th>\n",
       "      <td>AT Rayudu</td>\n",
       "      <td>1243</td>\n",
       "    </tr>\n",
       "  </tbody>\n",
       "</table>\n",
       "</div>"
      ],
      "text/plain": [
       "      striker  runs_off_bat\n",
       "0  A Flintoff  62          \n",
       "1  A Mukund    0           \n",
       "2  A Nehra     1           \n",
       "3  AS Rajpoot  2           \n",
       "4  AT Rayudu   1243        "
      ]
     },
     "execution_count": 49,
     "metadata": {},
     "output_type": "execute_result"
    }
   ],
   "source": [
    "csk_df1 = pd.DataFrame(csk_df_old.groupby('striker')['runs_off_bat'].sum()).reset_index()\n",
    "csk_df1.head()"
   ]
  },
  {
   "cell_type": "code",
   "execution_count": 50,
   "id": "71001a67",
   "metadata": {},
   "outputs": [],
   "source": [
    "csk_df2 =pd.DataFrame(csk_df_old.groupby('striker')['ball'].count()).reset_index()"
   ]
  },
  {
   "cell_type": "code",
   "execution_count": 51,
   "id": "9ddde541",
   "metadata": {},
   "outputs": [
    {
     "data": {
      "text/html": [
       "<div>\n",
       "<style scoped>\n",
       "    .dataframe tbody tr th:only-of-type {\n",
       "        vertical-align: middle;\n",
       "    }\n",
       "\n",
       "    .dataframe tbody tr th {\n",
       "        vertical-align: top;\n",
       "    }\n",
       "\n",
       "    .dataframe thead th {\n",
       "        text-align: right;\n",
       "    }\n",
       "</style>\n",
       "<table border=\"1\" class=\"dataframe\">\n",
       "  <thead>\n",
       "    <tr style=\"text-align: right;\">\n",
       "      <th></th>\n",
       "      <th>striker</th>\n",
       "      <th>ball</th>\n",
       "    </tr>\n",
       "  </thead>\n",
       "  <tbody>\n",
       "    <tr>\n",
       "      <th>0</th>\n",
       "      <td>A Flintoff</td>\n",
       "      <td>57</td>\n",
       "    </tr>\n",
       "    <tr>\n",
       "      <th>1</th>\n",
       "      <td>A Mukund</td>\n",
       "      <td>1</td>\n",
       "    </tr>\n",
       "    <tr>\n",
       "      <th>2</th>\n",
       "      <td>A Nehra</td>\n",
       "      <td>7</td>\n",
       "    </tr>\n",
       "    <tr>\n",
       "      <th>3</th>\n",
       "      <td>AS Rajpoot</td>\n",
       "      <td>6</td>\n",
       "    </tr>\n",
       "    <tr>\n",
       "      <th>4</th>\n",
       "      <td>AT Rayudu</td>\n",
       "      <td>1006</td>\n",
       "    </tr>\n",
       "  </tbody>\n",
       "</table>\n",
       "</div>"
      ],
      "text/plain": [
       "      striker  ball\n",
       "0  A Flintoff  57  \n",
       "1  A Mukund    1   \n",
       "2  A Nehra     7   \n",
       "3  AS Rajpoot  6   \n",
       "4  AT Rayudu   1006"
      ]
     },
     "execution_count": 51,
     "metadata": {},
     "output_type": "execute_result"
    }
   ],
   "source": [
    "csk_df2.head()"
   ]
  },
  {
   "cell_type": "code",
   "execution_count": 52,
   "id": "c1e76b2b",
   "metadata": {},
   "outputs": [
    {
     "data": {
      "text/html": [
       "<div>\n",
       "<style scoped>\n",
       "    .dataframe tbody tr th:only-of-type {\n",
       "        vertical-align: middle;\n",
       "    }\n",
       "\n",
       "    .dataframe tbody tr th {\n",
       "        vertical-align: top;\n",
       "    }\n",
       "\n",
       "    .dataframe thead th {\n",
       "        text-align: right;\n",
       "    }\n",
       "</style>\n",
       "<table border=\"1\" class=\"dataframe\">\n",
       "  <thead>\n",
       "    <tr style=\"text-align: right;\">\n",
       "      <th></th>\n",
       "      <th>striker</th>\n",
       "      <th>runs_off_bat</th>\n",
       "      <th>ball</th>\n",
       "    </tr>\n",
       "  </thead>\n",
       "  <tbody>\n",
       "    <tr>\n",
       "      <th>0</th>\n",
       "      <td>A Flintoff</td>\n",
       "      <td>62</td>\n",
       "      <td>57</td>\n",
       "    </tr>\n",
       "    <tr>\n",
       "      <th>1</th>\n",
       "      <td>A Mukund</td>\n",
       "      <td>0</td>\n",
       "      <td>1</td>\n",
       "    </tr>\n",
       "    <tr>\n",
       "      <th>2</th>\n",
       "      <td>A Nehra</td>\n",
       "      <td>1</td>\n",
       "      <td>7</td>\n",
       "    </tr>\n",
       "    <tr>\n",
       "      <th>3</th>\n",
       "      <td>AS Rajpoot</td>\n",
       "      <td>2</td>\n",
       "      <td>6</td>\n",
       "    </tr>\n",
       "    <tr>\n",
       "      <th>4</th>\n",
       "      <td>AT Rayudu</td>\n",
       "      <td>1243</td>\n",
       "      <td>1006</td>\n",
       "    </tr>\n",
       "  </tbody>\n",
       "</table>\n",
       "</div>"
      ],
      "text/plain": [
       "      striker  runs_off_bat  ball\n",
       "0  A Flintoff  62            57  \n",
       "1  A Mukund    0             1   \n",
       "2  A Nehra     1             7   \n",
       "3  AS Rajpoot  2             6   \n",
       "4  AT Rayudu   1243          1006"
      ]
     },
     "execution_count": 52,
     "metadata": {},
     "output_type": "execute_result"
    }
   ],
   "source": [
    "csk_df3 = csk_df1.merge(csk_df2, on = 'striker', how= 'left')\n",
    "csk_df3.head()"
   ]
  },
  {
   "cell_type": "code",
   "execution_count": 53,
   "id": "a1143a08",
   "metadata": {},
   "outputs": [
    {
     "data": {
      "text/html": [
       "<div>\n",
       "<style scoped>\n",
       "    .dataframe tbody tr th:only-of-type {\n",
       "        vertical-align: middle;\n",
       "    }\n",
       "\n",
       "    .dataframe tbody tr th {\n",
       "        vertical-align: top;\n",
       "    }\n",
       "\n",
       "    .dataframe thead th {\n",
       "        text-align: right;\n",
       "    }\n",
       "</style>\n",
       "<table border=\"1\" class=\"dataframe\">\n",
       "  <thead>\n",
       "    <tr style=\"text-align: right;\">\n",
       "      <th></th>\n",
       "      <th>striker</th>\n",
       "      <th>runs_off_bat</th>\n",
       "      <th>ball</th>\n",
       "      <th>strike_rate</th>\n",
       "    </tr>\n",
       "  </thead>\n",
       "  <tbody>\n",
       "    <tr>\n",
       "      <th>0</th>\n",
       "      <td>A Flintoff</td>\n",
       "      <td>62</td>\n",
       "      <td>57</td>\n",
       "      <td>108.771930</td>\n",
       "    </tr>\n",
       "    <tr>\n",
       "      <th>1</th>\n",
       "      <td>A Mukund</td>\n",
       "      <td>0</td>\n",
       "      <td>1</td>\n",
       "      <td>0.000000</td>\n",
       "    </tr>\n",
       "    <tr>\n",
       "      <th>2</th>\n",
       "      <td>A Nehra</td>\n",
       "      <td>1</td>\n",
       "      <td>7</td>\n",
       "      <td>14.285714</td>\n",
       "    </tr>\n",
       "    <tr>\n",
       "      <th>3</th>\n",
       "      <td>AS Rajpoot</td>\n",
       "      <td>2</td>\n",
       "      <td>6</td>\n",
       "      <td>33.333333</td>\n",
       "    </tr>\n",
       "    <tr>\n",
       "      <th>4</th>\n",
       "      <td>AT Rayudu</td>\n",
       "      <td>1243</td>\n",
       "      <td>1006</td>\n",
       "      <td>123.558648</td>\n",
       "    </tr>\n",
       "  </tbody>\n",
       "</table>\n",
       "</div>"
      ],
      "text/plain": [
       "      striker  runs_off_bat  ball  strike_rate\n",
       "0  A Flintoff  62            57    108.771930 \n",
       "1  A Mukund    0             1     0.000000   \n",
       "2  A Nehra     1             7     14.285714  \n",
       "3  AS Rajpoot  2             6     33.333333  \n",
       "4  AT Rayudu   1243          1006  123.558648 "
      ]
     },
     "execution_count": 53,
     "metadata": {},
     "output_type": "execute_result"
    }
   ],
   "source": [
    "csk_df3['strike_rate'] = 100*csk_df3['runs_off_bat']/csk_df3['ball']\n",
    "csk_df3.head()"
   ]
  },
  {
   "cell_type": "code",
   "execution_count": 54,
   "id": "afb8eb3c",
   "metadata": {},
   "outputs": [
    {
     "data": {
      "text/html": [
       "<div>\n",
       "<style scoped>\n",
       "    .dataframe tbody tr th:only-of-type {\n",
       "        vertical-align: middle;\n",
       "    }\n",
       "\n",
       "    .dataframe tbody tr th {\n",
       "        vertical-align: top;\n",
       "    }\n",
       "\n",
       "    .dataframe thead th {\n",
       "        text-align: right;\n",
       "    }\n",
       "</style>\n",
       "<table border=\"1\" class=\"dataframe\">\n",
       "  <thead>\n",
       "    <tr style=\"text-align: right;\">\n",
       "      <th></th>\n",
       "      <th>striker</th>\n",
       "      <th>runs_off_bat</th>\n",
       "      <th>ball</th>\n",
       "      <th>strike_rate</th>\n",
       "    </tr>\n",
       "  </thead>\n",
       "  <tbody>\n",
       "    <tr>\n",
       "      <th>4</th>\n",
       "      <td>AT Rayudu</td>\n",
       "      <td>1243</td>\n",
       "      <td>1006</td>\n",
       "      <td>123.558648</td>\n",
       "    </tr>\n",
       "    <tr>\n",
       "      <th>6</th>\n",
       "      <td>BB McCullum</td>\n",
       "      <td>841</td>\n",
       "      <td>634</td>\n",
       "      <td>132.649842</td>\n",
       "    </tr>\n",
       "    <tr>\n",
       "      <th>10</th>\n",
       "      <td>DJ Bravo</td>\n",
       "      <td>934</td>\n",
       "      <td>710</td>\n",
       "      <td>131.549296</td>\n",
       "    </tr>\n",
       "    <tr>\n",
       "      <th>14</th>\n",
       "      <td>DR Smith</td>\n",
       "      <td>965</td>\n",
       "      <td>766</td>\n",
       "      <td>125.979112</td>\n",
       "    </tr>\n",
       "    <tr>\n",
       "      <th>15</th>\n",
       "      <td>F du Plessis</td>\n",
       "      <td>2088</td>\n",
       "      <td>1652</td>\n",
       "      <td>126.392252</td>\n",
       "    </tr>\n",
       "    <tr>\n",
       "      <th>19</th>\n",
       "      <td>JA Morkel</td>\n",
       "      <td>827</td>\n",
       "      <td>591</td>\n",
       "      <td>139.932318</td>\n",
       "    </tr>\n",
       "    <tr>\n",
       "      <th>30</th>\n",
       "      <td>M Vijay</td>\n",
       "      <td>1708</td>\n",
       "      <td>1405</td>\n",
       "      <td>121.565836</td>\n",
       "    </tr>\n",
       "    <tr>\n",
       "      <th>32</th>\n",
       "      <td>MEK Hussey</td>\n",
       "      <td>1768</td>\n",
       "      <td>1461</td>\n",
       "      <td>121.013005</td>\n",
       "    </tr>\n",
       "    <tr>\n",
       "      <th>34</th>\n",
       "      <td>ML Hayden</td>\n",
       "      <td>1107</td>\n",
       "      <td>838</td>\n",
       "      <td>132.100239</td>\n",
       "    </tr>\n",
       "    <tr>\n",
       "      <th>36</th>\n",
       "      <td>MS Dhoni</td>\n",
       "      <td>4058</td>\n",
       "      <td>3012</td>\n",
       "      <td>134.727756</td>\n",
       "    </tr>\n",
       "    <tr>\n",
       "      <th>40</th>\n",
       "      <td>PA Patel</td>\n",
       "      <td>516</td>\n",
       "      <td>529</td>\n",
       "      <td>97.542533</td>\n",
       "    </tr>\n",
       "    <tr>\n",
       "      <th>42</th>\n",
       "      <td>RA Jadeja</td>\n",
       "      <td>1097</td>\n",
       "      <td>849</td>\n",
       "      <td>129.210836</td>\n",
       "    </tr>\n",
       "    <tr>\n",
       "      <th>46</th>\n",
       "      <td>S Badrinath</td>\n",
       "      <td>1441</td>\n",
       "      <td>1245</td>\n",
       "      <td>115.742972</td>\n",
       "    </tr>\n",
       "    <tr>\n",
       "      <th>52</th>\n",
       "      <td>SK Raina</td>\n",
       "      <td>4527</td>\n",
       "      <td>3410</td>\n",
       "      <td>132.756598</td>\n",
       "    </tr>\n",
       "    <tr>\n",
       "      <th>56</th>\n",
       "      <td>SR Watson</td>\n",
       "      <td>1252</td>\n",
       "      <td>943</td>\n",
       "      <td>132.767762</td>\n",
       "    </tr>\n",
       "  </tbody>\n",
       "</table>\n",
       "</div>"
      ],
      "text/plain": [
       "         striker  runs_off_bat  ball  strike_rate\n",
       "4   AT Rayudu     1243          1006  123.558648 \n",
       "6   BB McCullum   841           634   132.649842 \n",
       "10  DJ Bravo      934           710   131.549296 \n",
       "14  DR Smith      965           766   125.979112 \n",
       "15  F du Plessis  2088          1652  126.392252 \n",
       "19  JA Morkel     827           591   139.932318 \n",
       "30  M Vijay       1708          1405  121.565836 \n",
       "32  MEK Hussey    1768          1461  121.013005 \n",
       "34  ML Hayden     1107          838   132.100239 \n",
       "36  MS Dhoni      4058          3012  134.727756 \n",
       "40  PA Patel      516           529   97.542533  \n",
       "42  RA Jadeja     1097          849   129.210836 \n",
       "46  S Badrinath   1441          1245  115.742972 \n",
       "52  SK Raina      4527          3410  132.756598 \n",
       "56  SR Watson     1252          943   132.767762 "
      ]
     },
     "execution_count": 54,
     "metadata": {},
     "output_type": "execute_result"
    }
   ],
   "source": [
    "csk_df3= csk_df3[csk_df3.ball >= 300]\n",
    "csk_df3"
   ]
  },
  {
   "cell_type": "code",
   "execution_count": 55,
   "id": "179e2524",
   "metadata": {},
   "outputs": [
    {
     "data": {
      "text/plain": [
       "striker\n",
       "SK Raina        4527\n",
       "MS Dhoni        4058\n",
       "F du Plessis    2088\n",
       "MEK Hussey      1768\n",
       "M Vijay         1708\n",
       "S Badrinath     1441\n",
       "SR Watson       1252\n",
       "AT Rayudu       1243\n",
       "ML Hayden       1107\n",
       "RA Jadeja       1097\n",
       "Name: runs_off_bat, dtype: int64"
      ]
     },
     "execution_count": 55,
     "metadata": {},
     "output_type": "execute_result"
    }
   ],
   "source": [
    "csk_df3.groupby(['striker'])['runs_off_bat'].sum().sort_values(ascending = False).head(10)"
   ]
  },
  {
   "cell_type": "code",
   "execution_count": 56,
   "id": "82642467",
   "metadata": {},
   "outputs": [],
   "source": [
    "top_10= csk_df3[(csk_df3.striker == 'SK Raina') |(csk_df3.striker == 'MS Dhoni')|(csk_df3.striker == 'F du Plessis')|(csk_df3.striker == 'AT Rayudu')|(csk_df3.striker == 'MEK Hussey')|(csk_df3.striker == 'M Vijay')|(csk_df3.striker == 'S Badrinath')|(csk_df3.striker == 'RA Jadeja')|(csk_df3.striker == 'SR Watson')|(csk_df3.striker == 'RD Gaikwad')]"
   ]
  },
  {
   "cell_type": "code",
   "execution_count": 57,
   "id": "b2759316",
   "metadata": {},
   "outputs": [],
   "source": [
    "top_10.reset_index(inplace = True, drop =True)"
   ]
  },
  {
   "cell_type": "code",
   "execution_count": 58,
   "id": "a3ada7fd",
   "metadata": {},
   "outputs": [
    {
     "data": {
      "text/html": [
       "<div>\n",
       "<style scoped>\n",
       "    .dataframe tbody tr th:only-of-type {\n",
       "        vertical-align: middle;\n",
       "    }\n",
       "\n",
       "    .dataframe tbody tr th {\n",
       "        vertical-align: top;\n",
       "    }\n",
       "\n",
       "    .dataframe thead th {\n",
       "        text-align: right;\n",
       "    }\n",
       "</style>\n",
       "<table border=\"1\" class=\"dataframe\">\n",
       "  <thead>\n",
       "    <tr style=\"text-align: right;\">\n",
       "      <th></th>\n",
       "      <th>striker</th>\n",
       "      <th>runs_off_bat</th>\n",
       "      <th>ball</th>\n",
       "      <th>strike_rate</th>\n",
       "    </tr>\n",
       "  </thead>\n",
       "  <tbody>\n",
       "    <tr>\n",
       "      <th>4</th>\n",
       "      <td>MS Dhoni</td>\n",
       "      <td>4058</td>\n",
       "      <td>3012</td>\n",
       "      <td>134.727756</td>\n",
       "    </tr>\n",
       "    <tr>\n",
       "      <th>8</th>\n",
       "      <td>SR Watson</td>\n",
       "      <td>1252</td>\n",
       "      <td>943</td>\n",
       "      <td>132.767762</td>\n",
       "    </tr>\n",
       "    <tr>\n",
       "      <th>7</th>\n",
       "      <td>SK Raina</td>\n",
       "      <td>4527</td>\n",
       "      <td>3410</td>\n",
       "      <td>132.756598</td>\n",
       "    </tr>\n",
       "    <tr>\n",
       "      <th>5</th>\n",
       "      <td>RA Jadeja</td>\n",
       "      <td>1097</td>\n",
       "      <td>849</td>\n",
       "      <td>129.210836</td>\n",
       "    </tr>\n",
       "    <tr>\n",
       "      <th>1</th>\n",
       "      <td>F du Plessis</td>\n",
       "      <td>2088</td>\n",
       "      <td>1652</td>\n",
       "      <td>126.392252</td>\n",
       "    </tr>\n",
       "    <tr>\n",
       "      <th>0</th>\n",
       "      <td>AT Rayudu</td>\n",
       "      <td>1243</td>\n",
       "      <td>1006</td>\n",
       "      <td>123.558648</td>\n",
       "    </tr>\n",
       "    <tr>\n",
       "      <th>2</th>\n",
       "      <td>M Vijay</td>\n",
       "      <td>1708</td>\n",
       "      <td>1405</td>\n",
       "      <td>121.565836</td>\n",
       "    </tr>\n",
       "    <tr>\n",
       "      <th>3</th>\n",
       "      <td>MEK Hussey</td>\n",
       "      <td>1768</td>\n",
       "      <td>1461</td>\n",
       "      <td>121.013005</td>\n",
       "    </tr>\n",
       "    <tr>\n",
       "      <th>6</th>\n",
       "      <td>S Badrinath</td>\n",
       "      <td>1441</td>\n",
       "      <td>1245</td>\n",
       "      <td>115.742972</td>\n",
       "    </tr>\n",
       "  </tbody>\n",
       "</table>\n",
       "</div>"
      ],
      "text/plain": [
       "        striker  runs_off_bat  ball  strike_rate\n",
       "4  MS Dhoni      4058          3012  134.727756 \n",
       "8  SR Watson     1252          943   132.767762 \n",
       "7  SK Raina      4527          3410  132.756598 \n",
       "5  RA Jadeja     1097          849   129.210836 \n",
       "1  F du Plessis  2088          1652  126.392252 \n",
       "0  AT Rayudu     1243          1006  123.558648 \n",
       "2  M Vijay       1708          1405  121.565836 \n",
       "3  MEK Hussey    1768          1461  121.013005 \n",
       "6  S Badrinath   1441          1245  115.742972 "
      ]
     },
     "execution_count": 58,
     "metadata": {},
     "output_type": "execute_result"
    }
   ],
   "source": [
    "top_10.sort_values('strike_rate', ascending = False)"
   ]
  },
  {
   "cell_type": "code",
   "execution_count": 59,
   "id": "c7abd72c",
   "metadata": {},
   "outputs": [
    {
     "data": {
      "text/html": [
       "<div>\n",
       "<style scoped>\n",
       "    .dataframe tbody tr th:only-of-type {\n",
       "        vertical-align: middle;\n",
       "    }\n",
       "\n",
       "    .dataframe tbody tr th {\n",
       "        vertical-align: top;\n",
       "    }\n",
       "\n",
       "    .dataframe thead th {\n",
       "        text-align: right;\n",
       "    }\n",
       "</style>\n",
       "<table border=\"1\" class=\"dataframe\">\n",
       "  <thead>\n",
       "    <tr style=\"text-align: right;\">\n",
       "      <th></th>\n",
       "      <th>striker</th>\n",
       "      <th>runs_off_bat</th>\n",
       "      <th>ball</th>\n",
       "      <th>strike_rate</th>\n",
       "    </tr>\n",
       "  </thead>\n",
       "  <tbody>\n",
       "    <tr>\n",
       "      <th>7</th>\n",
       "      <td>SK Raina</td>\n",
       "      <td>4527</td>\n",
       "      <td>3410</td>\n",
       "      <td>132.756598</td>\n",
       "    </tr>\n",
       "    <tr>\n",
       "      <th>4</th>\n",
       "      <td>MS Dhoni</td>\n",
       "      <td>4058</td>\n",
       "      <td>3012</td>\n",
       "      <td>134.727756</td>\n",
       "    </tr>\n",
       "    <tr>\n",
       "      <th>1</th>\n",
       "      <td>F du Plessis</td>\n",
       "      <td>2088</td>\n",
       "      <td>1652</td>\n",
       "      <td>126.392252</td>\n",
       "    </tr>\n",
       "    <tr>\n",
       "      <th>3</th>\n",
       "      <td>MEK Hussey</td>\n",
       "      <td>1768</td>\n",
       "      <td>1461</td>\n",
       "      <td>121.013005</td>\n",
       "    </tr>\n",
       "    <tr>\n",
       "      <th>2</th>\n",
       "      <td>M Vijay</td>\n",
       "      <td>1708</td>\n",
       "      <td>1405</td>\n",
       "      <td>121.565836</td>\n",
       "    </tr>\n",
       "    <tr>\n",
       "      <th>6</th>\n",
       "      <td>S Badrinath</td>\n",
       "      <td>1441</td>\n",
       "      <td>1245</td>\n",
       "      <td>115.742972</td>\n",
       "    </tr>\n",
       "    <tr>\n",
       "      <th>8</th>\n",
       "      <td>SR Watson</td>\n",
       "      <td>1252</td>\n",
       "      <td>943</td>\n",
       "      <td>132.767762</td>\n",
       "    </tr>\n",
       "    <tr>\n",
       "      <th>0</th>\n",
       "      <td>AT Rayudu</td>\n",
       "      <td>1243</td>\n",
       "      <td>1006</td>\n",
       "      <td>123.558648</td>\n",
       "    </tr>\n",
       "    <tr>\n",
       "      <th>5</th>\n",
       "      <td>RA Jadeja</td>\n",
       "      <td>1097</td>\n",
       "      <td>849</td>\n",
       "      <td>129.210836</td>\n",
       "    </tr>\n",
       "  </tbody>\n",
       "</table>\n",
       "</div>"
      ],
      "text/plain": [
       "        striker  runs_off_bat  ball  strike_rate\n",
       "7  SK Raina      4527          3410  132.756598 \n",
       "4  MS Dhoni      4058          3012  134.727756 \n",
       "1  F du Plessis  2088          1652  126.392252 \n",
       "3  MEK Hussey    1768          1461  121.013005 \n",
       "2  M Vijay       1708          1405  121.565836 \n",
       "6  S Badrinath   1441          1245  115.742972 \n",
       "8  SR Watson     1252          943   132.767762 \n",
       "0  AT Rayudu     1243          1006  123.558648 \n",
       "5  RA Jadeja     1097          849   129.210836 "
      ]
     },
     "execution_count": 59,
     "metadata": {},
     "output_type": "execute_result"
    }
   ],
   "source": [
    "top_10.sort_values('runs_off_bat', ascending = False)"
   ]
  },
  {
   "cell_type": "code",
   "execution_count": 60,
   "id": "80e003a3",
   "metadata": {},
   "outputs": [
    {
     "data": {
      "image/png": "[encoded data removed]",
      "text/plain": [
       "<Figure size 1440x648 with 1 Axes>"
      ]
     },
     "metadata": {
      "needs_background": "light"
     },
     "output_type": "display_data"
    }
   ],
   "source": [
    "plt.figure(figsize = (20,9))\n",
    "plt.scatter(top_10.strike_rate, top_10.runs_off_bat)\n",
    "for i in range(len(top_10)):\n",
    "    plt.text(top_10['strike_rate'][i]-1 , top_10['runs_off_bat'][i]+1 ,top_10['striker'][i])\n",
    "plt.axvline(127, ls = '--', color = 'grey')\n",
    "plt.axhline(2000, ls = '--', color = 'grey')\n",
    "plt.title('Top 10 CSK Players in till 2020 IPL Seasons (min 300 balls faced) ', fontsize =20)\n",
    "plt.xlabel('Strike rate')\n",
    "plt.ylabel('Runs scored')\n",
    "plt.show()"
   ]
  },
  {
   "cell_type": "markdown",
   "id": "030d8a19",
   "metadata": {},
   "source": [
    "### Here we can see MS Dhoni's Strike rate is very good till 2020 IPL seasons"
   ]
  },
  {
   "cell_type": "code",
   "execution_count": 61,
   "id": "2c11d5a4",
   "metadata": {},
   "outputs": [
    {
     "data": {
      "text/html": [
       "<div>\n",
       "<style scoped>\n",
       "    .dataframe tbody tr th:only-of-type {\n",
       "        vertical-align: middle;\n",
       "    }\n",
       "\n",
       "    .dataframe tbody tr th {\n",
       "        vertical-align: top;\n",
       "    }\n",
       "\n",
       "    .dataframe thead th {\n",
       "        text-align: right;\n",
       "    }\n",
       "</style>\n",
       "<table border=\"1\" class=\"dataframe\">\n",
       "  <thead>\n",
       "    <tr style=\"text-align: right;\">\n",
       "      <th></th>\n",
       "      <th>striker</th>\n",
       "      <th>runs_off_bat</th>\n",
       "    </tr>\n",
       "  </thead>\n",
       "  <tbody>\n",
       "    <tr>\n",
       "      <th>0</th>\n",
       "      <td>AT Rayudu</td>\n",
       "      <td>531</td>\n",
       "    </tr>\n",
       "    <tr>\n",
       "      <th>1</th>\n",
       "      <td>CJ Jordan</td>\n",
       "      <td>11</td>\n",
       "    </tr>\n",
       "    <tr>\n",
       "      <th>2</th>\n",
       "      <td>D Pretorius</td>\n",
       "      <td>44</td>\n",
       "    </tr>\n",
       "    <tr>\n",
       "      <th>3</th>\n",
       "      <td>DJ Bravo</td>\n",
       "      <td>70</td>\n",
       "    </tr>\n",
       "    <tr>\n",
       "      <th>4</th>\n",
       "      <td>DL Chahar</td>\n",
       "      <td>1</td>\n",
       "    </tr>\n",
       "  </tbody>\n",
       "</table>\n",
       "</div>"
      ],
      "text/plain": [
       "       striker  runs_off_bat\n",
       "0  AT Rayudu    531         \n",
       "1  CJ Jordan    11          \n",
       "2  D Pretorius  44          \n",
       "3  DJ Bravo     70          \n",
       "4  DL Chahar    1           "
      ]
     },
     "execution_count": 61,
     "metadata": {},
     "output_type": "execute_result"
    }
   ],
   "source": [
    "new_csk_df1 = pd.DataFrame(csk_df_latest.groupby('striker')['runs_off_bat'].sum()).reset_index()\n",
    "new_csk_df1.head()"
   ]
  },
  {
   "cell_type": "code",
   "execution_count": 62,
   "id": "2d6b6b8a",
   "metadata": {},
   "outputs": [],
   "source": [
    "new_csk_df2 =pd.DataFrame(csk_df_latest.groupby('striker')['ball'].count()).reset_index()"
   ]
  },
  {
   "cell_type": "code",
   "execution_count": 63,
   "id": "3e949414",
   "metadata": {},
   "outputs": [
    {
     "data": {
      "text/html": [
       "<div>\n",
       "<style scoped>\n",
       "    .dataframe tbody tr th:only-of-type {\n",
       "        vertical-align: middle;\n",
       "    }\n",
       "\n",
       "    .dataframe tbody tr th {\n",
       "        vertical-align: top;\n",
       "    }\n",
       "\n",
       "    .dataframe thead th {\n",
       "        text-align: right;\n",
       "    }\n",
       "</style>\n",
       "<table border=\"1\" class=\"dataframe\">\n",
       "  <thead>\n",
       "    <tr style=\"text-align: right;\">\n",
       "      <th></th>\n",
       "      <th>striker</th>\n",
       "      <th>ball</th>\n",
       "    </tr>\n",
       "  </thead>\n",
       "  <tbody>\n",
       "    <tr>\n",
       "      <th>0</th>\n",
       "      <td>AT Rayudu</td>\n",
       "      <td>405</td>\n",
       "    </tr>\n",
       "    <tr>\n",
       "      <th>1</th>\n",
       "      <td>CJ Jordan</td>\n",
       "      <td>9</td>\n",
       "    </tr>\n",
       "    <tr>\n",
       "      <th>2</th>\n",
       "      <td>D Pretorius</td>\n",
       "      <td>28</td>\n",
       "    </tr>\n",
       "    <tr>\n",
       "      <th>3</th>\n",
       "      <td>DJ Bravo</td>\n",
       "      <td>48</td>\n",
       "    </tr>\n",
       "    <tr>\n",
       "      <th>4</th>\n",
       "      <td>DL Chahar</td>\n",
       "      <td>1</td>\n",
       "    </tr>\n",
       "  </tbody>\n",
       "</table>\n",
       "</div>"
      ],
      "text/plain": [
       "       striker  ball\n",
       "0  AT Rayudu    405 \n",
       "1  CJ Jordan    9   \n",
       "2  D Pretorius  28  \n",
       "3  DJ Bravo     48  \n",
       "4  DL Chahar    1   "
      ]
     },
     "execution_count": 63,
     "metadata": {},
     "output_type": "execute_result"
    }
   ],
   "source": [
    "new_csk_df2.head()"
   ]
  },
  {
   "cell_type": "code",
   "execution_count": 64,
   "id": "2085997e",
   "metadata": {},
   "outputs": [
    {
     "data": {
      "text/html": [
       "<div>\n",
       "<style scoped>\n",
       "    .dataframe tbody tr th:only-of-type {\n",
       "        vertical-align: middle;\n",
       "    }\n",
       "\n",
       "    .dataframe tbody tr th {\n",
       "        vertical-align: top;\n",
       "    }\n",
       "\n",
       "    .dataframe thead th {\n",
       "        text-align: right;\n",
       "    }\n",
       "</style>\n",
       "<table border=\"1\" class=\"dataframe\">\n",
       "  <thead>\n",
       "    <tr style=\"text-align: right;\">\n",
       "      <th></th>\n",
       "      <th>striker</th>\n",
       "      <th>runs_off_bat</th>\n",
       "      <th>ball</th>\n",
       "    </tr>\n",
       "  </thead>\n",
       "  <tbody>\n",
       "    <tr>\n",
       "      <th>0</th>\n",
       "      <td>AT Rayudu</td>\n",
       "      <td>531</td>\n",
       "      <td>405</td>\n",
       "    </tr>\n",
       "    <tr>\n",
       "      <th>1</th>\n",
       "      <td>CJ Jordan</td>\n",
       "      <td>11</td>\n",
       "      <td>9</td>\n",
       "    </tr>\n",
       "    <tr>\n",
       "      <th>2</th>\n",
       "      <td>D Pretorius</td>\n",
       "      <td>44</td>\n",
       "      <td>28</td>\n",
       "    </tr>\n",
       "    <tr>\n",
       "      <th>3</th>\n",
       "      <td>DJ Bravo</td>\n",
       "      <td>70</td>\n",
       "      <td>48</td>\n",
       "    </tr>\n",
       "    <tr>\n",
       "      <th>4</th>\n",
       "      <td>DL Chahar</td>\n",
       "      <td>1</td>\n",
       "      <td>1</td>\n",
       "    </tr>\n",
       "  </tbody>\n",
       "</table>\n",
       "</div>"
      ],
      "text/plain": [
       "       striker  runs_off_bat  ball\n",
       "0  AT Rayudu    531           405 \n",
       "1  CJ Jordan    11            9   \n",
       "2  D Pretorius  44            28  \n",
       "3  DJ Bravo     70            48  \n",
       "4  DL Chahar    1             1   "
      ]
     },
     "execution_count": 64,
     "metadata": {},
     "output_type": "execute_result"
    }
   ],
   "source": [
    "csk_df3_latest = new_csk_df1.merge(new_csk_df2, on = 'striker', how= 'left')\n",
    "csk_df3_latest.head()"
   ]
  },
  {
   "cell_type": "code",
   "execution_count": 65,
   "id": "915ce232",
   "metadata": {},
   "outputs": [
    {
     "data": {
      "text/html": [
       "<div>\n",
       "<style scoped>\n",
       "    .dataframe tbody tr th:only-of-type {\n",
       "        vertical-align: middle;\n",
       "    }\n",
       "\n",
       "    .dataframe tbody tr th {\n",
       "        vertical-align: top;\n",
       "    }\n",
       "\n",
       "    .dataframe thead th {\n",
       "        text-align: right;\n",
       "    }\n",
       "</style>\n",
       "<table border=\"1\" class=\"dataframe\">\n",
       "  <thead>\n",
       "    <tr style=\"text-align: right;\">\n",
       "      <th></th>\n",
       "      <th>striker</th>\n",
       "      <th>runs_off_bat</th>\n",
       "      <th>ball</th>\n",
       "      <th>strike_rate</th>\n",
       "    </tr>\n",
       "  </thead>\n",
       "  <tbody>\n",
       "    <tr>\n",
       "      <th>0</th>\n",
       "      <td>AT Rayudu</td>\n",
       "      <td>531</td>\n",
       "      <td>405</td>\n",
       "      <td>131.111111</td>\n",
       "    </tr>\n",
       "    <tr>\n",
       "      <th>1</th>\n",
       "      <td>CJ Jordan</td>\n",
       "      <td>11</td>\n",
       "      <td>9</td>\n",
       "      <td>122.222222</td>\n",
       "    </tr>\n",
       "    <tr>\n",
       "      <th>2</th>\n",
       "      <td>D Pretorius</td>\n",
       "      <td>44</td>\n",
       "      <td>28</td>\n",
       "      <td>157.142857</td>\n",
       "    </tr>\n",
       "    <tr>\n",
       "      <th>3</th>\n",
       "      <td>DJ Bravo</td>\n",
       "      <td>70</td>\n",
       "      <td>48</td>\n",
       "      <td>145.833333</td>\n",
       "    </tr>\n",
       "    <tr>\n",
       "      <th>4</th>\n",
       "      <td>DL Chahar</td>\n",
       "      <td>1</td>\n",
       "      <td>1</td>\n",
       "      <td>100.000000</td>\n",
       "    </tr>\n",
       "  </tbody>\n",
       "</table>\n",
       "</div>"
      ],
      "text/plain": [
       "       striker  runs_off_bat  ball  strike_rate\n",
       "0  AT Rayudu    531           405   131.111111 \n",
       "1  CJ Jordan    11            9     122.222222 \n",
       "2  D Pretorius  44            28    157.142857 \n",
       "3  DJ Bravo     70            48    145.833333 \n",
       "4  DL Chahar    1             1     100.000000 "
      ]
     },
     "execution_count": 65,
     "metadata": {},
     "output_type": "execute_result"
    }
   ],
   "source": [
    "csk_df3_latest['strike_rate'] = 100*csk_df3_latest['runs_off_bat']/csk_df3_latest['ball']\n",
    "csk_df3_latest.head()"
   ]
  },
  {
   "cell_type": "code",
   "execution_count": 66,
   "id": "972b9bbc",
   "metadata": {},
   "outputs": [],
   "source": [
    "csk_df3_latest= csk_df3_latest[csk_df3_latest.ball >= 100]"
   ]
  },
  {
   "cell_type": "code",
   "execution_count": 67,
   "id": "38c311da",
   "metadata": {},
   "outputs": [
    {
     "data": {
      "text/plain": [
       "striker\n",
       "RD Gaikwad      1003\n",
       "F du Plessis    633 \n",
       "MM Ali          601 \n",
       "AT Rayudu       531 \n",
       "MS Dhoni        346 \n",
       "RV Uthappa      345 \n",
       "RA Jadeja       343 \n",
       "S Dube          289 \n",
       "DP Conway       252 \n",
       "SK Raina        160 \n",
       "Name: runs_off_bat, dtype: int64"
      ]
     },
     "execution_count": 67,
     "metadata": {},
     "output_type": "execute_result"
    }
   ],
   "source": [
    "csk_df3_latest.groupby(['striker'])['runs_off_bat'].sum().sort_values(ascending = False).head(10)"
   ]
  },
  {
   "cell_type": "code",
   "execution_count": 68,
   "id": "1ae33bc9",
   "metadata": {},
   "outputs": [],
   "source": [
    "top_10_latest= csk_df3_latest[(csk_df3_latest.striker == 'RD Gaikwad') |(csk_df3_latest.striker =='F du Plessis')|(csk_df3_latest.striker == 'MM Ali')|(csk_df3_latest.striker == 'AT Rayudu')|(csk_df3_latest.striker == 'MS Dhoni')|(csk_df3_latest.striker == 'RV Uthappa')|(csk_df3_latest.striker == 'RA Jadeja')|(csk_df3_latest.striker == 'S Dube')|(csk_df3_latest.striker == 'DP Conway')|(csk_df3_latest.striker == 'SK Raina')]"
   ]
  },
  {
   "cell_type": "code",
   "execution_count": 69,
   "id": "12a1af9e",
   "metadata": {},
   "outputs": [],
   "source": [
    "top_10_latest.reset_index(inplace = True, drop =True)"
   ]
  },
  {
   "cell_type": "code",
   "execution_count": 70,
   "id": "1840f8db",
   "metadata": {},
   "outputs": [
    {
     "data": {
      "text/html": [
       "<div>\n",
       "<style scoped>\n",
       "    .dataframe tbody tr th:only-of-type {\n",
       "        vertical-align: middle;\n",
       "    }\n",
       "\n",
       "    .dataframe tbody tr th {\n",
       "        vertical-align: top;\n",
       "    }\n",
       "\n",
       "    .dataframe thead th {\n",
       "        text-align: right;\n",
       "    }\n",
       "</style>\n",
       "<table border=\"1\" class=\"dataframe\">\n",
       "  <thead>\n",
       "    <tr style=\"text-align: right;\">\n",
       "      <th></th>\n",
       "      <th>striker</th>\n",
       "      <th>runs_off_bat</th>\n",
       "      <th>ball</th>\n",
       "      <th>strike_rate</th>\n",
       "    </tr>\n",
       "  </thead>\n",
       "  <tbody>\n",
       "    <tr>\n",
       "      <th>8</th>\n",
       "      <td>S Dube</td>\n",
       "      <td>289</td>\n",
       "      <td>194</td>\n",
       "      <td>148.969072</td>\n",
       "    </tr>\n",
       "    <tr>\n",
       "      <th>1</th>\n",
       "      <td>DP Conway</td>\n",
       "      <td>252</td>\n",
       "      <td>176</td>\n",
       "      <td>143.181818</td>\n",
       "    </tr>\n",
       "    <tr>\n",
       "      <th>2</th>\n",
       "      <td>F du Plessis</td>\n",
       "      <td>633</td>\n",
       "      <td>471</td>\n",
       "      <td>134.394904</td>\n",
       "    </tr>\n",
       "    <tr>\n",
       "      <th>3</th>\n",
       "      <td>MM Ali</td>\n",
       "      <td>601</td>\n",
       "      <td>453</td>\n",
       "      <td>132.671082</td>\n",
       "    </tr>\n",
       "    <tr>\n",
       "      <th>0</th>\n",
       "      <td>AT Rayudu</td>\n",
       "      <td>531</td>\n",
       "      <td>405</td>\n",
       "      <td>131.111111</td>\n",
       "    </tr>\n",
       "    <tr>\n",
       "      <th>6</th>\n",
       "      <td>RD Gaikwad</td>\n",
       "      <td>1003</td>\n",
       "      <td>772</td>\n",
       "      <td>129.922280</td>\n",
       "    </tr>\n",
       "    <tr>\n",
       "      <th>7</th>\n",
       "      <td>RV Uthappa</td>\n",
       "      <td>345</td>\n",
       "      <td>267</td>\n",
       "      <td>129.213483</td>\n",
       "    </tr>\n",
       "    <tr>\n",
       "      <th>5</th>\n",
       "      <td>RA Jadeja</td>\n",
       "      <td>343</td>\n",
       "      <td>275</td>\n",
       "      <td>124.727273</td>\n",
       "    </tr>\n",
       "    <tr>\n",
       "      <th>9</th>\n",
       "      <td>SK Raina</td>\n",
       "      <td>160</td>\n",
       "      <td>133</td>\n",
       "      <td>120.300752</td>\n",
       "    </tr>\n",
       "    <tr>\n",
       "      <th>4</th>\n",
       "      <td>MS Dhoni</td>\n",
       "      <td>346</td>\n",
       "      <td>309</td>\n",
       "      <td>111.974110</td>\n",
       "    </tr>\n",
       "  </tbody>\n",
       "</table>\n",
       "</div>"
      ],
      "text/plain": [
       "        striker  runs_off_bat  ball  strike_rate\n",
       "8  S Dube        289           194   148.969072 \n",
       "1  DP Conway     252           176   143.181818 \n",
       "2  F du Plessis  633           471   134.394904 \n",
       "3  MM Ali        601           453   132.671082 \n",
       "0  AT Rayudu     531           405   131.111111 \n",
       "6  RD Gaikwad    1003          772   129.922280 \n",
       "7  RV Uthappa    345           267   129.213483 \n",
       "5  RA Jadeja     343           275   124.727273 \n",
       "9  SK Raina      160           133   120.300752 \n",
       "4  MS Dhoni      346           309   111.974110 "
      ]
     },
     "execution_count": 70,
     "metadata": {},
     "output_type": "execute_result"
    }
   ],
   "source": [
    "top_10_latest.sort_values('strike_rate', ascending = False)"
   ]
  },
  {
   "cell_type": "code",
   "execution_count": 71,
   "id": "ef043ecf",
   "metadata": {},
   "outputs": [
    {
     "data": {
      "text/html": [
       "<div>\n",
       "<style scoped>\n",
       "    .dataframe tbody tr th:only-of-type {\n",
       "        vertical-align: middle;\n",
       "    }\n",
       "\n",
       "    .dataframe tbody tr th {\n",
       "        vertical-align: top;\n",
       "    }\n",
       "\n",
       "    .dataframe thead th {\n",
       "        text-align: right;\n",
       "    }\n",
       "</style>\n",
       "<table border=\"1\" class=\"dataframe\">\n",
       "  <thead>\n",
       "    <tr style=\"text-align: right;\">\n",
       "      <th></th>\n",
       "      <th>striker</th>\n",
       "      <th>runs_off_bat</th>\n",
       "      <th>ball</th>\n",
       "      <th>strike_rate</th>\n",
       "    </tr>\n",
       "  </thead>\n",
       "  <tbody>\n",
       "    <tr>\n",
       "      <th>6</th>\n",
       "      <td>RD Gaikwad</td>\n",
       "      <td>1003</td>\n",
       "      <td>772</td>\n",
       "      <td>129.922280</td>\n",
       "    </tr>\n",
       "    <tr>\n",
       "      <th>2</th>\n",
       "      <td>F du Plessis</td>\n",
       "      <td>633</td>\n",
       "      <td>471</td>\n",
       "      <td>134.394904</td>\n",
       "    </tr>\n",
       "    <tr>\n",
       "      <th>3</th>\n",
       "      <td>MM Ali</td>\n",
       "      <td>601</td>\n",
       "      <td>453</td>\n",
       "      <td>132.671082</td>\n",
       "    </tr>\n",
       "    <tr>\n",
       "      <th>0</th>\n",
       "      <td>AT Rayudu</td>\n",
       "      <td>531</td>\n",
       "      <td>405</td>\n",
       "      <td>131.111111</td>\n",
       "    </tr>\n",
       "    <tr>\n",
       "      <th>4</th>\n",
       "      <td>MS Dhoni</td>\n",
       "      <td>346</td>\n",
       "      <td>309</td>\n",
       "      <td>111.974110</td>\n",
       "    </tr>\n",
       "    <tr>\n",
       "      <th>7</th>\n",
       "      <td>RV Uthappa</td>\n",
       "      <td>345</td>\n",
       "      <td>267</td>\n",
       "      <td>129.213483</td>\n",
       "    </tr>\n",
       "    <tr>\n",
       "      <th>5</th>\n",
       "      <td>RA Jadeja</td>\n",
       "      <td>343</td>\n",
       "      <td>275</td>\n",
       "      <td>124.727273</td>\n",
       "    </tr>\n",
       "    <tr>\n",
       "      <th>8</th>\n",
       "      <td>S Dube</td>\n",
       "      <td>289</td>\n",
       "      <td>194</td>\n",
       "      <td>148.969072</td>\n",
       "    </tr>\n",
       "    <tr>\n",
       "      <th>1</th>\n",
       "      <td>DP Conway</td>\n",
       "      <td>252</td>\n",
       "      <td>176</td>\n",
       "      <td>143.181818</td>\n",
       "    </tr>\n",
       "    <tr>\n",
       "      <th>9</th>\n",
       "      <td>SK Raina</td>\n",
       "      <td>160</td>\n",
       "      <td>133</td>\n",
       "      <td>120.300752</td>\n",
       "    </tr>\n",
       "  </tbody>\n",
       "</table>\n",
       "</div>"
      ],
      "text/plain": [
       "        striker  runs_off_bat  ball  strike_rate\n",
       "6  RD Gaikwad    1003          772   129.922280 \n",
       "2  F du Plessis  633           471   134.394904 \n",
       "3  MM Ali        601           453   132.671082 \n",
       "0  AT Rayudu     531           405   131.111111 \n",
       "4  MS Dhoni      346           309   111.974110 \n",
       "7  RV Uthappa    345           267   129.213483 \n",
       "5  RA Jadeja     343           275   124.727273 \n",
       "8  S Dube        289           194   148.969072 \n",
       "1  DP Conway     252           176   143.181818 \n",
       "9  SK Raina      160           133   120.300752 "
      ]
     },
     "execution_count": 71,
     "metadata": {},
     "output_type": "execute_result"
    }
   ],
   "source": [
    "top_10_latest.sort_values('runs_off_bat', ascending = False)"
   ]
  },
  {
   "cell_type": "code",
   "execution_count": 72,
   "id": "19f4dcf7",
   "metadata": {},
   "outputs": [
    {
     "data": {
      "image/png": "[encoded data removed]",
      "text/plain": [
       "<Figure size 1440x648 with 1 Axes>"
      ]
     },
     "metadata": {
      "needs_background": "light"
     },
     "output_type": "display_data"
    }
   ],
   "source": [
    "plt.figure(figsize = (20,9))\n",
    "plt.scatter(top_10_latest.strike_rate, top_10_latest.runs_off_bat)\n",
    "for i in range(len(top_10_latest)):\n",
    "    plt.text(top_10_latest['strike_rate'][i]-2 , top_10_latest['runs_off_bat'][i]+1 ,top_10_latest['striker'][i])\n",
    "plt.axvline(127, ls = '--', color = 'grey')\n",
    "plt.axhline(500, ls = '--', color = 'grey')\n",
    "plt.title('Top 10 CSK Players in 2021 & 2022 IPL Seasons (Min 100 ball faced) ', fontsize =20)\n",
    "plt.xlabel('Strike rate')\n",
    "plt.ylabel('Runs scored')\n",
    "plt.show()"
   ]
  },
  {
   "cell_type": "markdown",
   "id": "fc1a923a",
   "metadata": {},
   "source": [
    "### Here we can see MS Dhoni's Strike rate is down in last 2 IPL seasons"
   ]
  },
  {
   "cell_type": "markdown",
   "id": "a85b282e",
   "metadata": {},
   "source": [
    "# Conclusion"
   ]
  },
  {
   "cell_type": "markdown",
   "id": "ebbe4586",
   "metadata": {},
   "source": [
    "- As per This IPL Data Analysis we can conclude that MS dhonis performance not as per his records in last few seasons \n",
    "## Scope for more Analysis \n",
    "- we can more anlaysis with comparing like his Batting order plase or camparing with other Wicket Keepers and death overs finishing perfromance\n",
    "- Though he not performed well last few Seasons his captancy is very important for team which led CSK to lift 2021 IPL title for 4th time"
   ]
  },
  {
   "cell_type": "markdown",
   "id": "6c19520c",
   "metadata": {},
   "source": [
    "- Thank you"
   ]
  }
 ],
 "metadata": {
  "kernelspec": {
   "display_name": "Python 3 (ipykernel)",
   "language": "python",
   "name": "python3"
  },
  "language_info": {
   "codemirror_mode": {
    "name": "ipython",
    "version": 3
   },
   "file_extension": ".py",
   "mimetype": "text/x-python",
   "name": "python",
   "nbconvert_exporter": "python",
   "pygments_lexer": "ipython3",
   "version": "3.9.12"
  }
 },
 "nbformat": 4,
 "nbformat_minor": 5
}
